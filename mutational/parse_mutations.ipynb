{
 "cells": [
  {
   "cell_type": "code",
   "execution_count": 49,
   "metadata": {
    "collapsed": true,
    "pycharm": {
     "name": "#%%\n"
    }
   },
   "outputs": [],
   "source": [
    "import sys\n",
    "sys.path.insert(0, '../')\n",
    "import pandas as pd"
   ]
  },
  {
   "cell_type": "code",
   "execution_count": 50,
   "outputs": [],
   "source": [
    "from mutations import Mutations"
   ],
   "metadata": {
    "collapsed": false,
    "pycharm": {
     "name": "#%%\n"
    }
   }
  },
  {
   "cell_type": "code",
   "execution_count": 51,
   "outputs": [],
   "source": [
    "native = \"MSSSSWLLLSLVAVTAAQSTIEEQAKTFLDKFNHEAEDLFYQSSLASWNYNTNITEENVQNMNNAGDKWSAFLKEQSTLAQMYPLQEIQNLTVKLQLQALQQNGSSVLSEDKSKRLNTILNTMSTIYSTGKVCNPDNPQECLLLEPGLNEIMANSLDYNERLWAWESWRSEVGKQLRPLYEEYVVLKNEMARANHYEDYGDYWRGDYEVNGVDGYDYSRGQLIEDVEHTFEEIKPLYEHLHAYVRAKLMNAYPSYISPIGCLPAHLLGDMWGRFWTNLYSLTVPFGQKPNIDVTDAMVDQAWDAQRIFKEAEKFFVSVGLPNMTQGFWENSMLTDPGNVQKAVCHPTAWDLGKGDFRILMCTKVTMDDFLTAHHEMGHIQYDMAYAAQPFLLRNGANEGFHEAVGEIMSLSAATPKHLKSIGLLSPDFQEDNETEINFLLKQALTIVGTLPFTYMLEKWRWMVFKGEIPKDQWMKKWWEMKREIVGVVEPVPHDETYCDPASLFHVSNDYSFIRYYTRTLYQFQFQEALCQAAKHEGPLHKCDISNSTEAGQKLFNMLRLGKSEPWTLALENVVGAKNMNVRPLLNYFEPLFTWLKDQNKNSFVGWSTDWSPYADQSIKVRISLKSALGDKAYEWNDNEMYLFRSSVAYAMRQYFLKVKNQMILFGEEDVRVANLKPRISFNFFVTAPKNVSDIIPRTEVEKAIRMSRSRINDAFRLNDNSLEFLGIQPTLGPPNQPPVSIWLIVFGVVMGVIVVGIVILIFTGIRDRKKKNKARSGENPYASIDISKGENNPGFQNTDDVQTSF\""
   ],
   "metadata": {
    "collapsed": false,
    "pycharm": {
     "name": "#%%\n"
    }
   }
  },
  {
   "cell_type": "code",
   "execution_count": 58,
   "outputs": [],
   "source": [
    "muta = pd.read_csv(\"./urn_mavedb_00000069-a-1_scores.csv\")"
   ],
   "metadata": {
    "collapsed": false,
    "pycharm": {
     "name": "#%%\n"
    }
   }
  },
  {
   "cell_type": "code",
   "execution_count": 59,
   "outputs": [
    {
     "data": {
      "text/plain": "                         accession  hgvs_nt  hgvs_splice hgvs_pro     score  \\\n0        urn:mavedb:00000069-a-1#1      NaN          NaN  p.R518X -2.878625   \n1        urn:mavedb:00000069-a-1#2      NaN          NaN  p.Y515X -0.842639   \n2        urn:mavedb:00000069-a-1#3      NaN          NaN  p.R514X -1.385470   \n3        urn:mavedb:00000069-a-1#4      NaN          NaN  p.F512X -2.513003   \n4        urn:mavedb:00000069-a-1#5      NaN          NaN  p.S511X -0.925150   \n...                            ...      ...          ...      ...       ...   \n2336  urn:mavedb:00000069-a-1#2337      NaN          NaN   p.S19E -1.436496   \n2337  urn:mavedb:00000069-a-1#2338      NaN          NaN   p.S19D -1.353322   \n2338  urn:mavedb:00000069-a-1#2339      NaN          NaN   p.S19C -1.169052   \n2339  urn:mavedb:00000069-a-1#2340      NaN          NaN   p.S19A  0.060673   \n2340  urn:mavedb:00000069-a-1#2341      NaN          NaN      p.=  0.000000   \n\n          rep1      rep2  \n0    -3.638723 -2.118526  \n1    -0.942826 -0.742451  \n2    -1.370473 -1.400468  \n3    -2.687081 -2.338925  \n4    -0.998334 -0.851966  \n...        ...       ...  \n2336 -1.061324 -1.811668  \n2337 -1.491131 -1.215513  \n2338 -0.909614 -1.428490  \n2339 -0.176500  0.297845  \n2340  0.000000  0.000000  \n\n[2341 rows x 7 columns]",
      "text/html": "<div>\n<style scoped>\n    .dataframe tbody tr th:only-of-type {\n        vertical-align: middle;\n    }\n\n    .dataframe tbody tr th {\n        vertical-align: top;\n    }\n\n    .dataframe thead th {\n        text-align: right;\n    }\n</style>\n<table border=\"1\" class=\"dataframe\">\n  <thead>\n    <tr style=\"text-align: right;\">\n      <th></th>\n      <th>accession</th>\n      <th>hgvs_nt</th>\n      <th>hgvs_splice</th>\n      <th>hgvs_pro</th>\n      <th>score</th>\n      <th>rep1</th>\n      <th>rep2</th>\n    </tr>\n  </thead>\n  <tbody>\n    <tr>\n      <th>0</th>\n      <td>urn:mavedb:00000069-a-1#1</td>\n      <td>NaN</td>\n      <td>NaN</td>\n      <td>p.R518X</td>\n      <td>-2.878625</td>\n      <td>-3.638723</td>\n      <td>-2.118526</td>\n    </tr>\n    <tr>\n      <th>1</th>\n      <td>urn:mavedb:00000069-a-1#2</td>\n      <td>NaN</td>\n      <td>NaN</td>\n      <td>p.Y515X</td>\n      <td>-0.842639</td>\n      <td>-0.942826</td>\n      <td>-0.742451</td>\n    </tr>\n    <tr>\n      <th>2</th>\n      <td>urn:mavedb:00000069-a-1#3</td>\n      <td>NaN</td>\n      <td>NaN</td>\n      <td>p.R514X</td>\n      <td>-1.385470</td>\n      <td>-1.370473</td>\n      <td>-1.400468</td>\n    </tr>\n    <tr>\n      <th>3</th>\n      <td>urn:mavedb:00000069-a-1#4</td>\n      <td>NaN</td>\n      <td>NaN</td>\n      <td>p.F512X</td>\n      <td>-2.513003</td>\n      <td>-2.687081</td>\n      <td>-2.338925</td>\n    </tr>\n    <tr>\n      <th>4</th>\n      <td>urn:mavedb:00000069-a-1#5</td>\n      <td>NaN</td>\n      <td>NaN</td>\n      <td>p.S511X</td>\n      <td>-0.925150</td>\n      <td>-0.998334</td>\n      <td>-0.851966</td>\n    </tr>\n    <tr>\n      <th>...</th>\n      <td>...</td>\n      <td>...</td>\n      <td>...</td>\n      <td>...</td>\n      <td>...</td>\n      <td>...</td>\n      <td>...</td>\n    </tr>\n    <tr>\n      <th>2336</th>\n      <td>urn:mavedb:00000069-a-1#2337</td>\n      <td>NaN</td>\n      <td>NaN</td>\n      <td>p.S19E</td>\n      <td>-1.436496</td>\n      <td>-1.061324</td>\n      <td>-1.811668</td>\n    </tr>\n    <tr>\n      <th>2337</th>\n      <td>urn:mavedb:00000069-a-1#2338</td>\n      <td>NaN</td>\n      <td>NaN</td>\n      <td>p.S19D</td>\n      <td>-1.353322</td>\n      <td>-1.491131</td>\n      <td>-1.215513</td>\n    </tr>\n    <tr>\n      <th>2338</th>\n      <td>urn:mavedb:00000069-a-1#2339</td>\n      <td>NaN</td>\n      <td>NaN</td>\n      <td>p.S19C</td>\n      <td>-1.169052</td>\n      <td>-0.909614</td>\n      <td>-1.428490</td>\n    </tr>\n    <tr>\n      <th>2339</th>\n      <td>urn:mavedb:00000069-a-1#2340</td>\n      <td>NaN</td>\n      <td>NaN</td>\n      <td>p.S19A</td>\n      <td>0.060673</td>\n      <td>-0.176500</td>\n      <td>0.297845</td>\n    </tr>\n    <tr>\n      <th>2340</th>\n      <td>urn:mavedb:00000069-a-1#2341</td>\n      <td>NaN</td>\n      <td>NaN</td>\n      <td>p.=</td>\n      <td>0.000000</td>\n      <td>0.000000</td>\n      <td>0.000000</td>\n    </tr>\n  </tbody>\n</table>\n<p>2341 rows × 7 columns</p>\n</div>"
     },
     "execution_count": 59,
     "metadata": {},
     "output_type": "execute_result"
    }
   ],
   "source": [
    "muta"
   ],
   "metadata": {
    "collapsed": false,
    "pycharm": {
     "name": "#%%\n"
    }
   }
  },
  {
   "cell_type": "code",
   "execution_count": 60,
   "outputs": [],
   "source": [
    "mut = Mutations()"
   ],
   "metadata": {
    "collapsed": false,
    "pycharm": {
     "name": "#%%\n"
    }
   }
  },
  {
   "cell_type": "code",
   "execution_count": 61,
   "outputs": [],
   "source": [
    "final = pd.DataFrame()"
   ],
   "metadata": {
    "collapsed": false,
    "pycharm": {
     "name": "#%%\n"
    }
   }
  },
  {
   "cell_type": "code",
   "execution_count": 62,
   "outputs": [],
   "source": [
    "for i in range(0,muta[\"hgvs_pro\"].count()):\n",
    "    fila = pd.DataFrame({'name':[muta[\"hgvs_pro\"][i]],'sequence':[mut.run(muta[\"hgvs_pro\"][i],native)],'response':[muta[\"score\"][i]]})\n",
    "    final = pd.concat([final,fila])"
   ],
   "metadata": {
    "collapsed": false,
    "pycharm": {
     "name": "#%%\n"
    }
   }
  },
  {
   "cell_type": "code",
   "execution_count": 63,
   "outputs": [
    {
     "data": {
      "text/plain": "       name                                           sequence  response\n0   p.R518X  MSSSSWLLLSLVAVTAAQSTIEEQAKTFLDKFNHEAEDLFYQSSLA... -2.878625\n0   p.Y515X  MSSSSWLLLSLVAVTAAQSTIEEQAKTFLDKFNHEAEDLFYQSSLA... -0.842639\n0   p.R514X  MSSSSWLLLSLVAVTAAQSTIEEQAKTFLDKFNHEAEDLFYQSSLA... -1.385470\n0   p.F512X  MSSSSWLLLSLVAVTAAQSTIEEQAKTFLDKFNHEAEDLFYQSSLA... -2.513003\n0   p.S511X  MSSSSWLLLSLVAVTAAQSTIEEQAKTFLDKFNHEAEDLFYQSSLA... -0.925150\n..      ...                                                ...       ...\n0    p.S19E  MSSSSWLLLSLVAVTAAQETIEEQAKTFLDKFNHEAEDLFYQSSLA... -1.436496\n0    p.S19D  MSSSSWLLLSLVAVTAAQDTIEEQAKTFLDKFNHEAEDLFYQSSLA... -1.353322\n0    p.S19C  MSSSSWLLLSLVAVTAAQCTIEEQAKTFLDKFNHEAEDLFYQSSLA... -1.169052\n0    p.S19A  MSSSSWLLLSLVAVTAAQATIEEQAKTFLDKFNHEAEDLFYQSSLA...  0.060673\n0       p.=  MSSSSWLLLSLVAVTAAQSTIEEQAKTFLDKFNHEAEDLFYQSSLA...  0.000000\n\n[2341 rows x 3 columns]",
      "text/html": "<div>\n<style scoped>\n    .dataframe tbody tr th:only-of-type {\n        vertical-align: middle;\n    }\n\n    .dataframe tbody tr th {\n        vertical-align: top;\n    }\n\n    .dataframe thead th {\n        text-align: right;\n    }\n</style>\n<table border=\"1\" class=\"dataframe\">\n  <thead>\n    <tr style=\"text-align: right;\">\n      <th></th>\n      <th>name</th>\n      <th>sequence</th>\n      <th>response</th>\n    </tr>\n  </thead>\n  <tbody>\n    <tr>\n      <th>0</th>\n      <td>p.R518X</td>\n      <td>MSSSSWLLLSLVAVTAAQSTIEEQAKTFLDKFNHEAEDLFYQSSLA...</td>\n      <td>-2.878625</td>\n    </tr>\n    <tr>\n      <th>0</th>\n      <td>p.Y515X</td>\n      <td>MSSSSWLLLSLVAVTAAQSTIEEQAKTFLDKFNHEAEDLFYQSSLA...</td>\n      <td>-0.842639</td>\n    </tr>\n    <tr>\n      <th>0</th>\n      <td>p.R514X</td>\n      <td>MSSSSWLLLSLVAVTAAQSTIEEQAKTFLDKFNHEAEDLFYQSSLA...</td>\n      <td>-1.385470</td>\n    </tr>\n    <tr>\n      <th>0</th>\n      <td>p.F512X</td>\n      <td>MSSSSWLLLSLVAVTAAQSTIEEQAKTFLDKFNHEAEDLFYQSSLA...</td>\n      <td>-2.513003</td>\n    </tr>\n    <tr>\n      <th>0</th>\n      <td>p.S511X</td>\n      <td>MSSSSWLLLSLVAVTAAQSTIEEQAKTFLDKFNHEAEDLFYQSSLA...</td>\n      <td>-0.925150</td>\n    </tr>\n    <tr>\n      <th>...</th>\n      <td>...</td>\n      <td>...</td>\n      <td>...</td>\n    </tr>\n    <tr>\n      <th>0</th>\n      <td>p.S19E</td>\n      <td>MSSSSWLLLSLVAVTAAQETIEEQAKTFLDKFNHEAEDLFYQSSLA...</td>\n      <td>-1.436496</td>\n    </tr>\n    <tr>\n      <th>0</th>\n      <td>p.S19D</td>\n      <td>MSSSSWLLLSLVAVTAAQDTIEEQAKTFLDKFNHEAEDLFYQSSLA...</td>\n      <td>-1.353322</td>\n    </tr>\n    <tr>\n      <th>0</th>\n      <td>p.S19C</td>\n      <td>MSSSSWLLLSLVAVTAAQCTIEEQAKTFLDKFNHEAEDLFYQSSLA...</td>\n      <td>-1.169052</td>\n    </tr>\n    <tr>\n      <th>0</th>\n      <td>p.S19A</td>\n      <td>MSSSSWLLLSLVAVTAAQATIEEQAKTFLDKFNHEAEDLFYQSSLA...</td>\n      <td>0.060673</td>\n    </tr>\n    <tr>\n      <th>0</th>\n      <td>p.=</td>\n      <td>MSSSSWLLLSLVAVTAAQSTIEEQAKTFLDKFNHEAEDLFYQSSLA...</td>\n      <td>0.000000</td>\n    </tr>\n  </tbody>\n</table>\n<p>2341 rows × 3 columns</p>\n</div>"
     },
     "execution_count": 63,
     "metadata": {},
     "output_type": "execute_result"
    }
   ],
   "source": [
    "final"
   ],
   "metadata": {
    "collapsed": false,
    "pycharm": {
     "name": "#%%\n"
    }
   }
  },
  {
   "cell_type": "code",
   "execution_count": 64,
   "outputs": [],
   "source": [
    "final.to_csv(\"./mutational.csv\")"
   ],
   "metadata": {
    "collapsed": false,
    "pycharm": {
     "name": "#%%\n"
    }
   }
  },
  {
   "cell_type": "code",
   "execution_count": null,
   "outputs": [],
   "source": [],
   "metadata": {
    "collapsed": false,
    "pycharm": {
     "name": "#%%\n"
    }
   }
  }
 ],
 "metadata": {
  "kernelspec": {
   "display_name": "Python 3",
   "language": "python",
   "name": "python3"
  },
  "language_info": {
   "codemirror_mode": {
    "name": "ipython",
    "version": 2
   },
   "file_extension": ".py",
   "mimetype": "text/x-python",
   "name": "python",
   "nbconvert_exporter": "python",
   "pygments_lexer": "ipython2",
   "version": "2.7.6"
  }
 },
 "nbformat": 4,
 "nbformat_minor": 0
}