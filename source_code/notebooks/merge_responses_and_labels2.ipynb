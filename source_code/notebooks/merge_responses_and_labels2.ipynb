{
 "cells": [
  {
   "cell_type": "code",
   "execution_count": 46,
   "metadata": {
    "pycharm": {
     "name": "#%%\n"
    }
   },
   "outputs": [],
   "source": [
    "import pandas as pd"
   ]
  },
  {
   "cell_type": "code",
   "execution_count": 56,
   "outputs": [],
   "source": [
    "clust_kmeans = pd.read_csv(\"../../results_demo/absorption/NLP/bepler/unsupervised_clustering_sequences_kmeans.csv\")\n",
    "clust_birch = pd.read_csv(\"../../results_demo/absorption/NLP/bepler/unsupervised_clustering_sequences_birch.csv\")\n",
    "clust_aglo = pd.read_csv(\"../../results_demo/absorption/NLP/bepler/unsupervised_clustering_sequences_aglomerative.csv\")"
   ],
   "metadata": {
    "collapsed": false,
    "pycharm": {
     "name": "#%%\n"
    }
   }
  },
  {
   "cell_type": "code",
   "execution_count": 57,
   "outputs": [
    {
     "data": {
      "text/plain": "    Unnamed: 0              id  target  labels\n0            0  sequence_40826     539       0\n1            1  sequence_40787     510       0\n2            2  sequence_40789     510       2\n3            3  sequence_40794     519       2\n4            4  sequence_40806     525       0\n..         ...             ...     ...     ...\n76          76  sequence_40795     562       0\n77          77  sequence_40866     620       0\n78          78  sequence_40799     597       0\n79          79  sequence_40788     510       2\n80          80  sequence_40867     622       0\n\n[81 rows x 4 columns]",
      "text/html": "<div>\n<style scoped>\n    .dataframe tbody tr th:only-of-type {\n        vertical-align: middle;\n    }\n\n    .dataframe tbody tr th {\n        vertical-align: top;\n    }\n\n    .dataframe thead th {\n        text-align: right;\n    }\n</style>\n<table border=\"1\" class=\"dataframe\">\n  <thead>\n    <tr style=\"text-align: right;\">\n      <th></th>\n      <th>Unnamed: 0</th>\n      <th>id</th>\n      <th>target</th>\n      <th>labels</th>\n    </tr>\n  </thead>\n  <tbody>\n    <tr>\n      <th>0</th>\n      <td>0</td>\n      <td>sequence_40826</td>\n      <td>539</td>\n      <td>0</td>\n    </tr>\n    <tr>\n      <th>1</th>\n      <td>1</td>\n      <td>sequence_40787</td>\n      <td>510</td>\n      <td>0</td>\n    </tr>\n    <tr>\n      <th>2</th>\n      <td>2</td>\n      <td>sequence_40789</td>\n      <td>510</td>\n      <td>2</td>\n    </tr>\n    <tr>\n      <th>3</th>\n      <td>3</td>\n      <td>sequence_40794</td>\n      <td>519</td>\n      <td>2</td>\n    </tr>\n    <tr>\n      <th>4</th>\n      <td>4</td>\n      <td>sequence_40806</td>\n      <td>525</td>\n      <td>0</td>\n    </tr>\n    <tr>\n      <th>...</th>\n      <td>...</td>\n      <td>...</td>\n      <td>...</td>\n      <td>...</td>\n    </tr>\n    <tr>\n      <th>76</th>\n      <td>76</td>\n      <td>sequence_40795</td>\n      <td>562</td>\n      <td>0</td>\n    </tr>\n    <tr>\n      <th>77</th>\n      <td>77</td>\n      <td>sequence_40866</td>\n      <td>620</td>\n      <td>0</td>\n    </tr>\n    <tr>\n      <th>78</th>\n      <td>78</td>\n      <td>sequence_40799</td>\n      <td>597</td>\n      <td>0</td>\n    </tr>\n    <tr>\n      <th>79</th>\n      <td>79</td>\n      <td>sequence_40788</td>\n      <td>510</td>\n      <td>2</td>\n    </tr>\n    <tr>\n      <th>80</th>\n      <td>80</td>\n      <td>sequence_40867</td>\n      <td>622</td>\n      <td>0</td>\n    </tr>\n  </tbody>\n</table>\n<p>81 rows × 4 columns</p>\n</div>"
     },
     "execution_count": 57,
     "metadata": {},
     "output_type": "execute_result"
    }
   ],
   "source": [
    "clust_merge = clust_kmeans\n",
    "clust_merge"
   ],
   "metadata": {
    "collapsed": false,
    "pycharm": {
     "name": "#%%\n"
    }
   }
  },
  {
   "cell_type": "code",
   "execution_count": 58,
   "outputs": [
    {
     "data": {
      "text/plain": "                id  target labels\n0   sequence_40826     539  0-0-0\n1   sequence_40787     510  0-0-0\n2   sequence_40789     510  2-2-0\n3   sequence_40794     519  2-2-2\n4   sequence_40806     525  0-0-0\n..             ...     ...    ...\n76  sequence_40795     562  0-0-0\n77  sequence_40866     620  0-0-0\n78  sequence_40799     597  0-0-0\n79  sequence_40788     510  2-2-0\n80  sequence_40867     622  0-0-0\n\n[81 rows x 3 columns]",
      "text/html": "<div>\n<style scoped>\n    .dataframe tbody tr th:only-of-type {\n        vertical-align: middle;\n    }\n\n    .dataframe tbody tr th {\n        vertical-align: top;\n    }\n\n    .dataframe thead th {\n        text-align: right;\n    }\n</style>\n<table border=\"1\" class=\"dataframe\">\n  <thead>\n    <tr style=\"text-align: right;\">\n      <th></th>\n      <th>id</th>\n      <th>target</th>\n      <th>labels</th>\n    </tr>\n  </thead>\n  <tbody>\n    <tr>\n      <th>0</th>\n      <td>sequence_40826</td>\n      <td>539</td>\n      <td>0-0-0</td>\n    </tr>\n    <tr>\n      <th>1</th>\n      <td>sequence_40787</td>\n      <td>510</td>\n      <td>0-0-0</td>\n    </tr>\n    <tr>\n      <th>2</th>\n      <td>sequence_40789</td>\n      <td>510</td>\n      <td>2-2-0</td>\n    </tr>\n    <tr>\n      <th>3</th>\n      <td>sequence_40794</td>\n      <td>519</td>\n      <td>2-2-2</td>\n    </tr>\n    <tr>\n      <th>4</th>\n      <td>sequence_40806</td>\n      <td>525</td>\n      <td>0-0-0</td>\n    </tr>\n    <tr>\n      <th>...</th>\n      <td>...</td>\n      <td>...</td>\n      <td>...</td>\n    </tr>\n    <tr>\n      <th>76</th>\n      <td>sequence_40795</td>\n      <td>562</td>\n      <td>0-0-0</td>\n    </tr>\n    <tr>\n      <th>77</th>\n      <td>sequence_40866</td>\n      <td>620</td>\n      <td>0-0-0</td>\n    </tr>\n    <tr>\n      <th>78</th>\n      <td>sequence_40799</td>\n      <td>597</td>\n      <td>0-0-0</td>\n    </tr>\n    <tr>\n      <th>79</th>\n      <td>sequence_40788</td>\n      <td>510</td>\n      <td>2-2-0</td>\n    </tr>\n    <tr>\n      <th>80</th>\n      <td>sequence_40867</td>\n      <td>622</td>\n      <td>0-0-0</td>\n    </tr>\n  </tbody>\n</table>\n<p>81 rows × 3 columns</p>\n</div>"
     },
     "execution_count": 58,
     "metadata": {},
     "output_type": "execute_result"
    }
   ],
   "source": [
    "profiles = []\n",
    "\n",
    "for index in clust_merge.index:\n",
    "    profile = \"{}-{}-{}\".format(\n",
    "        clust_kmeans['labels'][index],\n",
    "        clust_birch['labels'][index],\n",
    "        clust_aglo['labels'][index]\n",
    "    )\n",
    "    profiles.append(profile)\n",
    "\n",
    "clust_merge['labels'] = profiles\n",
    "clust_merge['labels'].unique()\n",
    "\n",
    "clust_merge = clust_merge.drop(columns=['Unnamed: 0'])\n",
    "\n",
    "clust_merge"
   ],
   "metadata": {
    "collapsed": false,
    "pycharm": {
     "name": "#%%\n"
    }
   }
  },
  {
   "cell_type": "code",
   "execution_count": 59,
   "outputs": [],
   "source": [
    "clust_merge.to_csv(\"../../results_demo/absorption/NLP/bepler/unsupervised_clustering_sequences.csv\")"
   ],
   "metadata": {
    "collapsed": false,
    "pycharm": {
     "name": "#%%\n"
    }
   }
  },
  {
   "cell_type": "code",
   "execution_count": 60,
   "metadata": {
    "pycharm": {
     "name": "#%%\n"
    }
   },
   "outputs": [],
   "source": [
    "cluster_graph = pd.read_csv(\"../../results_demo/absorption/NLP/bepler/Euclidean/graph_clustering_sequences.csv\")\n",
    "cluster_unsupervised = pd.read_csv(\"../../results_demo/absorption/NLP/bepler/unsupervised_clustering_sequences.csv\")"
   ]
  },
  {
   "cell_type": "code",
   "execution_count": 61,
   "metadata": {
    "pycharm": {
     "name": "#%%\n"
    }
   },
   "outputs": [
    {
     "data": {
      "text/plain": "    Unnamed: 0              id  target labels\n0            0  sequence_40826     539  0-0-0\n1            1  sequence_40787     510  0-0-0\n2            2  sequence_40789     510  2-2-0\n3            3  sequence_40794     519  2-2-2\n4            4  sequence_40806     525  0-0-0\n..         ...             ...     ...    ...\n76          76  sequence_40795     562  0-0-0\n77          77  sequence_40866     620  0-0-0\n78          78  sequence_40799     597  0-0-0\n79          79  sequence_40788     510  2-2-0\n80          80  sequence_40867     622  0-0-0\n\n[81 rows x 4 columns]",
      "text/html": "<div>\n<style scoped>\n    .dataframe tbody tr th:only-of-type {\n        vertical-align: middle;\n    }\n\n    .dataframe tbody tr th {\n        vertical-align: top;\n    }\n\n    .dataframe thead th {\n        text-align: right;\n    }\n</style>\n<table border=\"1\" class=\"dataframe\">\n  <thead>\n    <tr style=\"text-align: right;\">\n      <th></th>\n      <th>Unnamed: 0</th>\n      <th>id</th>\n      <th>target</th>\n      <th>labels</th>\n    </tr>\n  </thead>\n  <tbody>\n    <tr>\n      <th>0</th>\n      <td>0</td>\n      <td>sequence_40826</td>\n      <td>539</td>\n      <td>0-0-0</td>\n    </tr>\n    <tr>\n      <th>1</th>\n      <td>1</td>\n      <td>sequence_40787</td>\n      <td>510</td>\n      <td>0-0-0</td>\n    </tr>\n    <tr>\n      <th>2</th>\n      <td>2</td>\n      <td>sequence_40789</td>\n      <td>510</td>\n      <td>2-2-0</td>\n    </tr>\n    <tr>\n      <th>3</th>\n      <td>3</td>\n      <td>sequence_40794</td>\n      <td>519</td>\n      <td>2-2-2</td>\n    </tr>\n    <tr>\n      <th>4</th>\n      <td>4</td>\n      <td>sequence_40806</td>\n      <td>525</td>\n      <td>0-0-0</td>\n    </tr>\n    <tr>\n      <th>...</th>\n      <td>...</td>\n      <td>...</td>\n      <td>...</td>\n      <td>...</td>\n    </tr>\n    <tr>\n      <th>76</th>\n      <td>76</td>\n      <td>sequence_40795</td>\n      <td>562</td>\n      <td>0-0-0</td>\n    </tr>\n    <tr>\n      <th>77</th>\n      <td>77</td>\n      <td>sequence_40866</td>\n      <td>620</td>\n      <td>0-0-0</td>\n    </tr>\n    <tr>\n      <th>78</th>\n      <td>78</td>\n      <td>sequence_40799</td>\n      <td>597</td>\n      <td>0-0-0</td>\n    </tr>\n    <tr>\n      <th>79</th>\n      <td>79</td>\n      <td>sequence_40788</td>\n      <td>510</td>\n      <td>2-2-0</td>\n    </tr>\n    <tr>\n      <th>80</th>\n      <td>80</td>\n      <td>sequence_40867</td>\n      <td>622</td>\n      <td>0-0-0</td>\n    </tr>\n  </tbody>\n</table>\n<p>81 rows × 4 columns</p>\n</div>"
     },
     "execution_count": 61,
     "metadata": {},
     "output_type": "execute_result"
    }
   ],
   "source": [
    "cluster_unsupervised"
   ]
  },
  {
   "cell_type": "code",
   "execution_count": 62,
   "metadata": {
    "pycharm": {
     "name": "#%%\n"
    }
   },
   "outputs": [
    {
     "data": {
      "text/plain": "                id  label  target labels\n0   sequence_40861      1     464  1-1-0\n1   sequence_40814      1     510  1-1-1\n2   sequence_40804      1     561  0-0-0\n3   sequence_40789      0     510  2-2-0\n4   sequence_40838      0     531  0-0-0\n..             ...    ...     ...    ...\n76  sequence_40830      0     558  0-0-0\n77  sequence_40797      1     558  0-0-0\n78  sequence_40866      0     620  0-0-0\n79  sequence_40843      1     495  0-0-0\n80  sequence_40801      0     561  2-2-2\n\n[81 rows x 4 columns]",
      "text/html": "<div>\n<style scoped>\n    .dataframe tbody tr th:only-of-type {\n        vertical-align: middle;\n    }\n\n    .dataframe tbody tr th {\n        vertical-align: top;\n    }\n\n    .dataframe thead th {\n        text-align: right;\n    }\n</style>\n<table border=\"1\" class=\"dataframe\">\n  <thead>\n    <tr style=\"text-align: right;\">\n      <th></th>\n      <th>id</th>\n      <th>label</th>\n      <th>target</th>\n      <th>labels</th>\n    </tr>\n  </thead>\n  <tbody>\n    <tr>\n      <th>0</th>\n      <td>sequence_40861</td>\n      <td>1</td>\n      <td>464</td>\n      <td>1-1-0</td>\n    </tr>\n    <tr>\n      <th>1</th>\n      <td>sequence_40814</td>\n      <td>1</td>\n      <td>510</td>\n      <td>1-1-1</td>\n    </tr>\n    <tr>\n      <th>2</th>\n      <td>sequence_40804</td>\n      <td>1</td>\n      <td>561</td>\n      <td>0-0-0</td>\n    </tr>\n    <tr>\n      <th>3</th>\n      <td>sequence_40789</td>\n      <td>0</td>\n      <td>510</td>\n      <td>2-2-0</td>\n    </tr>\n    <tr>\n      <th>4</th>\n      <td>sequence_40838</td>\n      <td>0</td>\n      <td>531</td>\n      <td>0-0-0</td>\n    </tr>\n    <tr>\n      <th>...</th>\n      <td>...</td>\n      <td>...</td>\n      <td>...</td>\n      <td>...</td>\n    </tr>\n    <tr>\n      <th>76</th>\n      <td>sequence_40830</td>\n      <td>0</td>\n      <td>558</td>\n      <td>0-0-0</td>\n    </tr>\n    <tr>\n      <th>77</th>\n      <td>sequence_40797</td>\n      <td>1</td>\n      <td>558</td>\n      <td>0-0-0</td>\n    </tr>\n    <tr>\n      <th>78</th>\n      <td>sequence_40866</td>\n      <td>0</td>\n      <td>620</td>\n      <td>0-0-0</td>\n    </tr>\n    <tr>\n      <th>79</th>\n      <td>sequence_40843</td>\n      <td>1</td>\n      <td>495</td>\n      <td>0-0-0</td>\n    </tr>\n    <tr>\n      <th>80</th>\n      <td>sequence_40801</td>\n      <td>0</td>\n      <td>561</td>\n      <td>2-2-2</td>\n    </tr>\n  </tbody>\n</table>\n<p>81 rows × 4 columns</p>\n</div>"
     },
     "execution_count": 62,
     "metadata": {},
     "output_type": "execute_result"
    }
   ],
   "source": [
    "df_merge = cluster_graph.merge(cluster_unsupervised, left_on='id', right_on='id')\n",
    "df_merge = df_merge.drop(columns=['Unnamed: 0'])\n",
    "df_merge"
   ]
  },
  {
   "cell_type": "code",
   "execution_count": 63,
   "metadata": {
    "pycharm": {
     "name": "#%%\n"
    }
   },
   "outputs": [
    {
     "data": {
      "text/plain": "array(['1-1-1-0', '1-1-1-1', '1-0-0-0', '0-2-2-0', '0-0-0-0', '0-2-2-2',\n       '0-2-0-0'], dtype=object)"
     },
     "execution_count": 63,
     "metadata": {},
     "output_type": "execute_result"
    }
   ],
   "source": [
    "#armamos un pseudo bi-clustering o perfil\n",
    "profiles = []\n",
    "\n",
    "for index in df_merge.index:\n",
    "    profile = \"{}-{}\".format(\n",
    "        df_merge['label'][index],\n",
    "        df_merge['labels'][index],\n",
    "    )\n",
    "    profiles.append(profile)\n",
    "\n",
    "df_merge['profile'] = profiles\n",
    "df_merge['profile'].unique()"
   ]
  },
  {
   "cell_type": "code",
   "execution_count": 64,
   "outputs": [],
   "source": [
    "df_merge.to_csv(\"../../results_demo/absorption/NLP/bepler/Euclidean/generated_profiles.csv\", index=False)"
   ],
   "metadata": {
    "collapsed": false,
    "pycharm": {
     "name": "#%%\n"
    }
   }
  },
  {
   "cell_type": "code",
   "execution_count": null,
   "outputs": [],
   "source": [],
   "metadata": {
    "collapsed": false,
    "pycharm": {
     "name": "#%%\n"
    }
   }
  }
 ],
 "metadata": {
  "kernelspec": {
   "display_name": "Python 3.10.6 ('deep_learning_exploring')",
   "language": "python",
   "name": "python3"
  },
  "language_info": {
   "codemirror_mode": {
    "name": "ipython",
    "version": 3
   },
   "file_extension": ".py",
   "mimetype": "text/x-python",
   "name": "python",
   "nbconvert_exporter": "python",
   "pygments_lexer": "ipython3",
   "version": "3.10.6"
  },
  "orig_nbformat": 4,
  "vscode": {
   "interpreter": {
    "hash": "40e745f296283c3457427b1d4d0e6f488c7d44751c90dcd83420fd4dcb83c0cc"
   }
  }
 },
 "nbformat": 4,
 "nbformat_minor": 2
}