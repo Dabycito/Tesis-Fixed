{
 "cells": [
  {
   "cell_type": "code",
   "execution_count": 12,
   "outputs": [
    {
     "name": "stdout",
     "output_type": "stream",
     "text": [
      "Collecting scipy\n",
      "  Downloading scipy-1.9.3-cp39-cp39-win_amd64.whl (40.2 MB)\n",
      "Requirement already satisfied: numpy<1.26.0,>=1.18.5 in c:\\users\\0\\documents\\github\\secuencias\\venv\\lib\\site-packages (from scipy) (1.23.4)\n",
      "Installing collected packages: scipy\n",
      "Successfully installed scipy-1.9.3\n",
      "Note: you may need to restart the kernel to use updated packages.\n"
     ]
    },
    {
     "name": "stderr",
     "output_type": "stream",
     "text": [
      "WARNING: You are using pip version 21.3.1; however, version 22.3.1 is available.\n",
      "You should consider upgrading via the 'C:\\Users\\0\\Documents\\GitHub\\Secuencias\\venv\\Scripts\\python.exe -m pip install --upgrade pip' command.\n"
     ]
    }
   ],
   "source": [
    "pip install scipy"
   ],
   "metadata": {
    "collapsed": false,
    "pycharm": {
     "name": "#%%\n"
    }
   }
  },
  {
   "cell_type": "markdown",
   "source": [
    "<h3> Estimador de distancias entre vectores </h3>"
   ],
   "metadata": {
    "collapsed": false,
    "pycharm": {
     "name": "#%% md\n"
    }
   }
  },
  {
   "cell_type": "code",
   "execution_count": 3,
   "outputs": [],
   "source": [
    "import pandas as pd\n",
    "import sys\n"
   ],
   "metadata": {
    "collapsed": false,
    "pycharm": {
     "name": "#%%\n"
    }
   }
  },
  {
   "cell_type": "code",
   "execution_count": 4,
   "metadata": {
    "pycharm": {
     "name": "#%%\n"
    }
   },
   "outputs": [],
   "source": [
    "#agregamos el directorio con la informacion\n",
    "sys.path.insert(0, '../distance_estimator/')"
   ]
  },
  {
   "cell_type": "code",
   "execution_count": 13,
   "metadata": {
    "pycharm": {
     "name": "#%%\n"
    }
   },
   "outputs": [
    {
     "name": "stdout",
     "output_type": "stream",
     "text": [
      "Preparing imports\n"
     ]
    }
   ],
   "source": [
    "print(\"Preparing imports\")\n",
    "\n",
    "from distance_estimator import distance_estimator\n",
    "from constant_values import constant_values"
   ]
  },
  {
   "cell_type": "code",
   "execution_count": 14,
   "outputs": [],
   "source": [
    "dis = {\n",
    "1 : \"Euclidean\",\n",
    "2 : \"Braycurtis\",\n",
    "3 : \"Canberra\",\n",
    "4 : \"Chebyshev\",\n",
    "5 : \"Cityblock\",\n",
    "6 : \"Correlation\",\n",
    "7 : \"Cosine\",\n",
    "8 : \"Minkowski\",\n",
    "9 : \"Hamming\",\n",
    "}"
   ],
   "metadata": {
    "collapsed": false,
    "pycharm": {
     "name": "#%%\n"
    }
   }
  },
  {
   "cell_type": "code",
   "execution_count": 37,
   "outputs": [],
   "source": [
    "dum = {\n",
    "    1: \"bepler\",\n",
    "    2: \"esm\",\n",
    "    3: \"fasttext\",\n",
    "    4: \"plus_rnn\",\n",
    "    5: \"prottrans\"\n",
    "}"
   ],
   "metadata": {
    "collapsed": false,
    "pycharm": {
     "name": "#%%\n"
    }
   }
  },
  {
   "cell_type": "code",
   "execution_count": 38,
   "outputs": [
    {
     "name": "stdout",
     "output_type": "stream",
     "text": [
      "bepler\n",
      "esm\n",
      "fasttext\n",
      "plus_rnn\n",
      "prottrans\n"
     ]
    }
   ],
   "source": [
    "for poto in range(1,6):\n",
    "    print(dum[poto])"
   ],
   "metadata": {
    "collapsed": false,
    "pycharm": {
     "name": "#%%\n"
    }
   }
  },
  {
   "cell_type": "code",
   "execution_count": 45,
   "outputs": [
    {
     "name": "stdout",
     "output_type": "stream",
     "text": [
      "Start distance calculator\n",
      "Process response\n",
      "C:/Users/0/Documents/GitHub/Secuencias/distance_methods-20221107T174152Z-001/distance_methods/results_demo/localization/NLP/prottrans/Euclidean/distance_estimator.csv\n",
      "Start distance calculator\n",
      "Process response\n",
      "C:/Users/0/Documents/GitHub/Secuencias/distance_methods-20221107T174152Z-001/distance_methods/results_demo/localization/NLP/prottrans/Braycurtis/distance_estimator.csv\n",
      "Start distance calculator\n",
      "Process response\n",
      "C:/Users/0/Documents/GitHub/Secuencias/distance_methods-20221107T174152Z-001/distance_methods/results_demo/localization/NLP/prottrans/Canberra/distance_estimator.csv\n",
      "Start distance calculator\n",
      "Process response\n",
      "C:/Users/0/Documents/GitHub/Secuencias/distance_methods-20221107T174152Z-001/distance_methods/results_demo/localization/NLP/prottrans/Chebyshev/distance_estimator.csv\n",
      "Start distance calculator\n",
      "Process response\n",
      "C:/Users/0/Documents/GitHub/Secuencias/distance_methods-20221107T174152Z-001/distance_methods/results_demo/localization/NLP/prottrans/Cityblock/distance_estimator.csv\n",
      "Start distance calculator\n",
      "Process response\n",
      "C:/Users/0/Documents/GitHub/Secuencias/distance_methods-20221107T174152Z-001/distance_methods/results_demo/localization/NLP/prottrans/Correlation/distance_estimator.csv\n",
      "Start distance calculator\n",
      "Process response\n",
      "C:/Users/0/Documents/GitHub/Secuencias/distance_methods-20221107T174152Z-001/distance_methods/results_demo/localization/NLP/prottrans/Cosine/distance_estimator.csv\n",
      "Start distance calculator\n",
      "Process response\n",
      "C:/Users/0/Documents/GitHub/Secuencias/distance_methods-20221107T174152Z-001/distance_methods/results_demo/localization/NLP/prottrans/Minkowski/distance_estimator.csv\n",
      "Start distance calculator\n",
      "Process response\n",
      "C:/Users/0/Documents/GitHub/Secuencias/distance_methods-20221107T174152Z-001/distance_methods/results_demo/localization/NLP/prottrans/Hamming/distance_estimator.csv\n"
     ]
    }
   ],
   "source": [
    "for ciclo in range (1,6):\n",
    "\n",
    "    #definicion de parametros\n",
    "    '''input_data = pd.read_csv(\"../../../../results_demo/absorption/Properties/Group_\"+str(ciclo)+\"/physicochemical-Group_\"+str(ciclo)+\"-absortion.csv\")'''\n",
    "    input_data = pd.read_csv(\"C:/Users/0/Documents/GitHub/Secuencias/distance_methods-20221107T174152Z-001/distance_methods/results_demo/localization/NLP/\"+dum[ciclo]+\"/\"+dum[ciclo]+\"-localization.csv\")\n",
    "    column_with_response = \"target\"\n",
    "    column_with_id = \"id\"\n",
    "\n",
    "    for i in range(1,10):\n",
    "        '''name_export = \"../../../../results_demo/T50/Properties/Group_\"+str(ciclo)+\"/\"+dis[i]+\"/distance_estimator.csv\"'''\n",
    "        name_export = \"C:/Users/0/Documents/GitHub/Secuencias/distance_methods-20221107T174152Z-001/distance_methods/results_demo/localization/NLP/\"+dum[ciclo]+\"/\"+dis[i]+\"/distance_estimator.csv\"\n",
    "        #Instancia del objeto\n",
    "        distance_instance = distance_estimator(input_data,\n",
    "                                        i,\n",
    "                                        constant_values(),\n",
    "                                        column_with_response,\n",
    "                                        column_with_id)\n",
    "\n",
    "        #estimar distancias\n",
    "        distance_instance.generate_matrix_distance(name_export=name_export,\n",
    "                                           is_export=True)"
   ],
   "metadata": {
    "collapsed": false,
    "pycharm": {
     "name": "#%%\n"
    }
   }
  },
  {
   "cell_type": "code",
   "execution_count": 29,
   "outputs": [],
   "source": [
    "\n"
   ],
   "metadata": {
    "collapsed": false,
    "pycharm": {
     "name": "#%%\n"
    }
   }
  },
  {
   "cell_type": "code",
   "execution_count": null,
   "outputs": [],
   "source": [],
   "metadata": {
    "collapsed": false,
    "pycharm": {
     "name": "#%%\n"
    }
   }
  }
 ],
 "metadata": {
  "kernelspec": {
   "display_name": "Python 3.10.6 ('deep_learning_exploring')",
   "language": "python",
   "name": "python3"
  },
  "language_info": {
   "codemirror_mode": {
    "name": "ipython",
    "version": 3
   },
   "file_extension": ".py",
   "mimetype": "text/x-python",
   "name": "python",
   "nbconvert_exporter": "python",
   "pygments_lexer": "ipython3",
   "version": "3.10.6"
  },
  "orig_nbformat": 4,
  "vscode": {
   "interpreter": {
    "hash": "40e745f296283c3457427b1d4d0e6f488c7d44751c90dcd83420fd4dcb83c0cc"
   }
  }
 },
 "nbformat": 4,
 "nbformat_minor": 2
}