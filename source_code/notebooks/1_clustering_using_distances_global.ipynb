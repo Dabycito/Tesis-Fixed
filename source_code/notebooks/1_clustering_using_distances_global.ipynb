{
 "cells": [
  {
   "cell_type": "code",
   "execution_count": 5,
   "outputs": [
    {
     "name": "stdout",
     "output_type": "stream",
     "text": [
      "Collecting python-louvain\n",
      "  Downloading python-louvain-0.16.tar.gz (204 kB)\n",
      "     -------------------------------------- 204.6/204.6 kB 1.8 MB/s eta 0:00:00\n",
      "  Preparing metadata (setup.py): started\n",
      "  Preparing metadata (setup.py): finished with status 'done'\n",
      "Requirement already satisfied: networkx in c:\\users\\0\\documents\\github\\secuencias\\venv\\lib\\site-packages (from python-louvain) (2.8.8)\n",
      "Requirement already satisfied: numpy in c:\\users\\0\\documents\\github\\secuencias\\venv\\lib\\site-packages (from python-louvain) (1.23.4)\n",
      "Building wheels for collected packages: python-louvain\n",
      "  Building wheel for python-louvain (setup.py): started\n",
      "  Building wheel for python-louvain (setup.py): finished with status 'done'\n",
      "  Created wheel for python-louvain: filename=python_louvain-0.16-py3-none-any.whl size=9408 sha256=a45d56635c97e4a4de185f08a521cf20d0de7682eaa21fc75dd2caa1e92e071c\n",
      "  Stored in directory: c:\\users\\0\\appdata\\local\\pip\\cache\\wheels\\83\\34\\49\\b8b798df4e7b298384678b11da8e611d17201fd1ecffb804c2\n",
      "Successfully built python-louvain\n",
      "Installing collected packages: python-louvain\n",
      "Successfully installed python-louvain-0.16\n",
      "Note: you may need to restart the kernel to use updated packages.\n"
     ]
    }
   ],
   "source": [
    "pip install python-louvain"
   ],
   "metadata": {
    "collapsed": false,
    "pycharm": {
     "name": "#%%\n"
    }
   }
  },
  {
   "cell_type": "code",
   "execution_count": 12,
   "outputs": [],
   "source": [
    "import pandas as pd\n",
    "import numpy as np\n",
    "import community.community_louvain as community_louvain\n",
    "import networkx as nx"
   ],
   "metadata": {
    "collapsed": false,
    "pycharm": {
     "name": "#%%\n"
    }
   }
  },
  {
   "cell_type": "code",
   "execution_count": 15,
   "outputs": [],
   "source": [
    "dataset = {\n",
    "    0 : \"absorption\",\n",
    "    1 : \"enantioselectivity\",\n",
    "    2 : \"localization\",\n",
    "    3 : \"T50\"\n",
    "}\n",
    "method = {\n",
    "    0:\"FFT\",\n",
    "    1:\"NLP\",\n",
    "    2:\"Properties\"\n",
    "}\n",
    "bioembedding = {\n",
    "    0:\"bepler\",\n",
    "    1:\"esm\",\n",
    "    2:\"fasttext\",\n",
    "    3:\"plus_rnn\",\n",
    "    4:\"prottrans\"\n",
    "}\n",
    "distances = {\n",
    "    1 : \"Euclidean\",\n",
    "    2 : \"Braycurtis\",\n",
    "    3 : \"Canberra\",\n",
    "    4 : \"Chebyshev\",\n",
    "    5 : \"Cityblock\",\n",
    "    6 : \"Correlation\",\n",
    "    7 : \"Cosine\",\n",
    "    8 : \"Minkowski\",\n",
    "    9 : \"Hamming\"\n",
    "}\n",
    "\n",
    "rf = [\"\"]"
   ],
   "metadata": {
    "collapsed": false,
    "pycharm": {
     "name": "#%%\n"
    }
   }
  },
  {
   "cell_type": "code",
   "execution_count": 19,
   "outputs": [],
   "source": [
    "for a in range(0,4):\n",
    "    for b in range(0,3):\n",
    "        if b == 0:\n",
    "            for c in range(0,8):\n",
    "                for d in range(1,10):\n",
    "                    df_distances = pd.read_csv(\"../../results_demo/\"+dataset[a]+\"/\"+method[b]+\"/Group_\"+str(c)+\"/\"+distances[d]+\"/distance_estimator.csv\")\n",
    "                    if d == 6:\n",
    "                        for i in range(len(df_distances)):\n",
    "                            df_distances.replace(to_replace=df_distances['distance'][i] ,value=abs(df_distances['distance'][i]))\n",
    "\n",
    "                    q1 = np.quantile(df_distances['distance'], .25)\n",
    "                    q3 = np.quantile(df_distances['distance'], .75)\n",
    "\n",
    "                    IQR = q3 - q1\n",
    "                    IQR = 1 * IQR\n",
    "\n",
    "                    low_freq = q1 - IQR\n",
    "                    high_freq = q3 + IQR\n",
    "\n",
    "                    df_filter = df_distances.loc[df_distances['distance'] <= q3]\n",
    "                    df_filter = df_filter.reset_index()\n",
    "\n",
    "                    graph_data = nx.Graph()\n",
    "\n",
    "                    id_list1 = df_filter['id_seq1'].to_list()\n",
    "                    id_list2 = df_filter['id_seq2'].to_list()\n",
    "\n",
    "                    nodos = id_list1 + id_list2\n",
    "                    nodos = list(set(nodos))\n",
    "\n",
    "                    for node in nodos:\n",
    "                        graph_data.add_node(node)\n",
    "\n",
    "                    for i in range(len(df_filter)):\n",
    "                        graph_data.add_edge(df_filter['id_seq1'][i],\n",
    "                                            df_filter['id_seq2'][i],\n",
    "                                            weight=df_filter['distance'][i]\n",
    "                        )\n",
    "                    partition = community_louvain.best_partition(graph_data)\n",
    "                    modularity_value = round(community_louvain.modularity(partition, graph_data),3)\n",
    "\n",
    "                    res = \"Modularidad de \"+dataset[a]+\"/\"+method[b]+\"/Group_\"+str(c)+\"/\"+distances[d]+\" es de \"+str(modularity_value)\n",
    "                    rf.append(res)\n",
    "                    matrix_group = []\n",
    "\n",
    "                    for element in partition:\n",
    "                        row = [element, partition[element]]\n",
    "                        matrix_group.append(row)\n",
    "                    results = pd.DataFrame(matrix_group, columns=['id','label'])\n",
    "\n",
    "                    results.to_csv(\"../../results_demo/\"+dataset[a]+\"/\"+method[b]+\"/Group_\"+str(c)+\"/\"+distances[d]+\"/graph_clustering_sequences.csv\", index=False)\n",
    "\n",
    "        if b == 1:\n",
    "            for c in range(0,5):\n",
    "                for d in range(1,10):\n",
    "                    df_distances = pd.read_csv(\"../../results_demo/\"+dataset[a]+\"/\"+method[b]+\"/\"+bioembedding[c]+\"/\"+distances[d]+\"/distance_estimator.csv\")\n",
    "                    if d == 6:\n",
    "                        for i in range(len(df_distances)):\n",
    "                            df_distances.replace(to_replace=df_distances['distance'][i] ,value=abs(df_distances['distance'][i]))\n",
    "\n",
    "                    q1 = np.quantile(df_distances['distance'], .25)\n",
    "                    q3 = np.quantile(df_distances['distance'], .75)\n",
    "\n",
    "                    IQR = q3 - q1\n",
    "                    IQR = 1 * IQR\n",
    "\n",
    "                    low_freq = q1 - IQR\n",
    "                    high_freq = q3 + IQR\n",
    "\n",
    "                    df_filter = df_distances.loc[df_distances['distance'] <= q3]\n",
    "                    df_filter = df_filter.reset_index()\n",
    "\n",
    "                    graph_data = nx.Graph()\n",
    "\n",
    "                    id_list1 = df_filter['id_seq1'].to_list()\n",
    "                    id_list2 = df_filter['id_seq2'].to_list()\n",
    "\n",
    "                    nodos = id_list1 + id_list2\n",
    "                    nodos = list(set(nodos))\n",
    "\n",
    "                    for node in nodos:\n",
    "                        graph_data.add_node(node)\n",
    "\n",
    "                    for i in range(len(df_filter)):\n",
    "                        graph_data.add_edge(df_filter['id_seq1'][i],\n",
    "                                            df_filter['id_seq2'][i],\n",
    "                                            weight=df_filter['distance'][i]\n",
    "                        )\n",
    "                    partition = community_louvain.best_partition(graph_data)\n",
    "                    modularity_value = round(community_louvain.modularity(partition, graph_data),3)\n",
    "\n",
    "                    res = \"Modularidad de \"+dataset[a]+\"/\"+method[b]+\"/\"+bioembedding[c]+\"/\"+distances[d]+\" es de \"+str(modularity_value)\n",
    "                    rf.append(res)\n",
    "\n",
    "                    matrix_group = []\n",
    "\n",
    "                    for element in partition:\n",
    "                        row = [element, partition[element]]\n",
    "                        matrix_group.append(row)\n",
    "                    results = pd.DataFrame(matrix_group, columns=['id','label'])\n",
    "\n",
    "                    results.to_csv(\"../../results_demo/\"+dataset[a]+\"/\"+method[b]+\"/\"+bioembedding[c]+\"/\"+distances[d]+\"/graph_clustering_sequences.csv\", index=False)\n",
    "\n",
    "        if b == 2:\n",
    "            for c in range(0,8):\n",
    "                for d in range(1,10):\n",
    "                    df_distances = pd.read_csv(\"../../results_demo/\"+dataset[a]+\"/\"+method[b]+\"/Group_\"+str(c)+\"/\"+distances[d]+\"/distance_estimator.csv\")\n",
    "                    if d == 6:\n",
    "                        for i in range(len(df_distances)):\n",
    "                            df_distances.replace(to_replace=df_distances['distance'][i] ,value=abs(df_distances['distance'][i]))\n",
    "\n",
    "                    q1 = np.quantile(df_distances['distance'], .25)\n",
    "                    q3 = np.quantile(df_distances['distance'], .75)\n",
    "\n",
    "                    IQR = q3 - q1\n",
    "                    IQR = 1 * IQR\n",
    "\n",
    "                    low_freq = q1 - IQR\n",
    "                    high_freq = q3 + IQR\n",
    "\n",
    "                    df_filter = df_distances.loc[df_distances['distance'] <= q3]\n",
    "                    df_filter = df_filter.reset_index()\n",
    "\n",
    "                    graph_data = nx.Graph()\n",
    "\n",
    "                    id_list1 = df_filter['id_seq1'].to_list()\n",
    "                    id_list2 = df_filter['id_seq2'].to_list()\n",
    "\n",
    "                    nodos = id_list1 + id_list2\n",
    "                    nodos = list(set(nodos))\n",
    "\n",
    "                    for node in nodos:\n",
    "                        graph_data.add_node(node)\n",
    "\n",
    "                    for i in range(len(df_filter)):\n",
    "                        graph_data.add_edge(df_filter['id_seq1'][i],\n",
    "                                            df_filter['id_seq2'][i],\n",
    "                                            weight=df_filter['distance'][i]\n",
    "                        )\n",
    "                    partition = community_louvain.best_partition(graph_data)\n",
    "                    modularity_value = round(community_louvain.modularity(partition, graph_data),3)\n",
    "\n",
    "                    res = \"Modularidad de \"+dataset[a]+\"/\"+method[b]+\"/Group_\"+str(c)+\"/\"+distances[d]+\" es de \"+str(modularity_value)\n",
    "                    rf.append(res)\n",
    "                    matrix_group = []\n",
    "\n",
    "                    for element in partition:\n",
    "                        row = [element, partition[element]]\n",
    "                        matrix_group.append(row)\n",
    "                    results = pd.DataFrame(matrix_group, columns=['id','label'])\n",
    "\n",
    "                    results.to_csv(\"../../results_demo/\"+dataset[a]+\"/\"+method[b]+\"/Group_\"+str(c)+\"/\"+distances[d]+\"/graph_clustering_sequences.csv\", index=False)"
   ],
   "metadata": {
    "collapsed": false,
    "pycharm": {
     "name": "#%%\n"
    }
   }
  },
  {
   "cell_type": "code",
   "execution_count": 20,
   "metadata": {
    "pycharm": {
     "name": "#%%\n"
    }
   },
   "outputs": [
    {
     "data": {
      "text/plain": "['',\n 'Modularidad de absorption/FFT/Group_0/Euclidean es de 0.104',\n 'Modularidad de absorption/FFT/Group_0/Braycurtis es de 0.108',\n 'Modularidad de absorption/FFT/Group_0/Canberra es de 0.097',\n 'Modularidad de absorption/FFT/Group_0/Chebyshev es de 0.104',\n 'Modularidad de absorption/FFT/Group_0/Cityblock es de 0.11',\n 'Modularidad de absorption/FFT/Group_0/Euclidean es de 0.101',\n 'Modularidad de absorption/FFT/Group_0/Braycurtis es de 0.108',\n 'Modularidad de absorption/FFT/Group_0/Canberra es de 0.101',\n 'Modularidad de absorption/FFT/Group_0/Chebyshev es de 0.105',\n 'Modularidad de absorption/FFT/Group_0/Cityblock es de 0.11',\n 'Modularidad de absorption/FFT/Group_0/Euclidean es de 0.104',\n 'Modularidad de absorption/FFT/Group_0/Braycurtis es de 0.108',\n 'Modularidad de absorption/FFT/Group_0/Canberra es de 0.099',\n 'Modularidad de absorption/FFT/Group_0/Chebyshev es de 0.106',\n 'Modularidad de absorption/FFT/Group_0/Cityblock es de 0.11',\n 'Modularidad de absorption/FFT/Group_0/Euclidean es de 0.104',\n 'Modularidad de absorption/FFT/Group_0/Braycurtis es de 0.108',\n 'Modularidad de absorption/FFT/Group_0/Canberra es de 0.101',\n 'Modularidad de absorption/FFT/Group_0/Chebyshev es de 0.106',\n 'Modularidad de absorption/FFT/Group_0/Cityblock es de 0.11',\n 'Modularidad de absorption/FFT/Group_0/Correlation es de 0.13',\n 'Modularidad de absorption/FFT/Group_0/Cosine es de 0.132',\n 'Modularidad de absorption/FFT/Group_0/Minkowski es de 0.104',\n 'Modularidad de absorption/FFT/Group_0/Hamming es de 0.0',\n 'Modularidad de absorption/FFT/Group_1/Euclidean es de 0.103',\n 'Modularidad de absorption/FFT/Group_1/Braycurtis es de 0.097',\n 'Modularidad de absorption/FFT/Group_1/Canberra es de 0.107',\n 'Modularidad de absorption/FFT/Group_1/Chebyshev es de 0.096',\n 'Modularidad de absorption/FFT/Group_1/Cityblock es de 0.098',\n 'Modularidad de absorption/FFT/Group_1/Correlation es de 0.123',\n 'Modularidad de absorption/FFT/Group_1/Cosine es de 0.123',\n 'Modularidad de absorption/FFT/Group_1/Minkowski es de 0.103',\n 'Modularidad de absorption/FFT/Group_1/Hamming es de 0.0',\n 'Modularidad de absorption/FFT/Group_2/Euclidean es de 0.082',\n 'Modularidad de absorption/FFT/Group_2/Braycurtis es de 0.086',\n 'Modularidad de absorption/FFT/Group_2/Canberra es de 0.082',\n 'Modularidad de absorption/FFT/Group_2/Chebyshev es de 0.091',\n 'Modularidad de absorption/FFT/Group_2/Cityblock es de 0.09',\n 'Modularidad de absorption/FFT/Group_2/Correlation es de 0.1',\n 'Modularidad de absorption/FFT/Group_2/Cosine es de 0.091',\n 'Modularidad de absorption/FFT/Group_2/Minkowski es de 0.082',\n 'Modularidad de absorption/FFT/Group_2/Hamming es de 0.0',\n 'Modularidad de absorption/FFT/Group_3/Euclidean es de 0.106',\n 'Modularidad de absorption/FFT/Group_3/Braycurtis es de 0.103',\n 'Modularidad de absorption/FFT/Group_3/Canberra es de 0.095',\n 'Modularidad de absorption/FFT/Group_3/Chebyshev es de 0.102',\n 'Modularidad de absorption/FFT/Group_3/Cityblock es de 0.103',\n 'Modularidad de absorption/FFT/Group_3/Correlation es de 0.129',\n 'Modularidad de absorption/FFT/Group_3/Cosine es de 0.129',\n 'Modularidad de absorption/FFT/Group_3/Minkowski es de 0.106',\n 'Modularidad de absorption/FFT/Group_3/Hamming es de 0.0',\n 'Modularidad de absorption/FFT/Group_4/Euclidean es de 0.14',\n 'Modularidad de absorption/FFT/Group_4/Braycurtis es de 0.136',\n 'Modularidad de absorption/FFT/Group_4/Canberra es de 0.138',\n 'Modularidad de absorption/FFT/Group_4/Chebyshev es de 0.113',\n 'Modularidad de absorption/FFT/Group_4/Cityblock es de 0.137',\n 'Modularidad de absorption/FFT/Group_4/Correlation es de 0.179',\n 'Modularidad de absorption/FFT/Group_4/Cosine es de 0.176',\n 'Modularidad de absorption/FFT/Group_4/Minkowski es de 0.14',\n 'Modularidad de absorption/FFT/Group_4/Hamming es de 0.0',\n 'Modularidad de absorption/FFT/Group_5/Euclidean es de 0.095',\n 'Modularidad de absorption/FFT/Group_5/Braycurtis es de 0.094',\n 'Modularidad de absorption/FFT/Group_5/Canberra es de 0.104',\n 'Modularidad de absorption/FFT/Group_5/Chebyshev es de 0.11',\n 'Modularidad de absorption/FFT/Group_5/Cityblock es de 0.095',\n 'Modularidad de absorption/FFT/Group_5/Correlation es de 0.126',\n 'Modularidad de absorption/FFT/Group_5/Cosine es de 0.123',\n 'Modularidad de absorption/FFT/Group_5/Minkowski es de 0.095',\n 'Modularidad de absorption/FFT/Group_5/Hamming es de 0.0',\n 'Modularidad de absorption/FFT/Group_6/Euclidean es de 0.119',\n 'Modularidad de absorption/FFT/Group_6/Braycurtis es de 0.12',\n 'Modularidad de absorption/FFT/Group_6/Canberra es de 0.107',\n 'Modularidad de absorption/FFT/Group_6/Chebyshev es de 0.112',\n 'Modularidad de absorption/FFT/Group_6/Cityblock es de 0.121',\n 'Modularidad de absorption/FFT/Group_6/Correlation es de 0.135',\n 'Modularidad de absorption/FFT/Group_6/Cosine es de 0.136',\n 'Modularidad de absorption/FFT/Group_6/Minkowski es de 0.119',\n 'Modularidad de absorption/FFT/Group_6/Hamming es de 0.0',\n 'Modularidad de absorption/FFT/Group_7/Euclidean es de 0.124',\n 'Modularidad de absorption/FFT/Group_7/Braycurtis es de 0.125',\n 'Modularidad de absorption/FFT/Group_7/Canberra es de 0.134',\n 'Modularidad de absorption/FFT/Group_7/Chebyshev es de 0.108',\n 'Modularidad de absorption/FFT/Group_7/Cityblock es de 0.125',\n 'Modularidad de absorption/FFT/Group_7/Correlation es de 0.152',\n 'Modularidad de absorption/FFT/Group_7/Cosine es de 0.153',\n 'Modularidad de absorption/FFT/Group_7/Minkowski es de 0.124',\n 'Modularidad de absorption/FFT/Group_7/Hamming es de 0.0',\n 'Modularidad de absorption/NLP/bepler/Euclidean es de 0.069',\n 'Modularidad de absorption/NLP/bepler/Braycurtis es de 0.066',\n 'Modularidad de absorption/NLP/bepler/Canberra es de 0.061',\n 'Modularidad de absorption/NLP/bepler/Chebyshev es de 0.072',\n 'Modularidad de absorption/NLP/bepler/Cityblock es de 0.065',\n 'Modularidad de absorption/NLP/bepler/Correlation es de 0.073',\n 'Modularidad de absorption/NLP/bepler/Cosine es de 0.07',\n 'Modularidad de absorption/NLP/bepler/Minkowski es de 0.069',\n 'Modularidad de absorption/NLP/bepler/Hamming es de 0.063',\n 'Modularidad de absorption/NLP/esm/Euclidean es de 0.074',\n 'Modularidad de absorption/NLP/esm/Braycurtis es de 0.051',\n 'Modularidad de absorption/NLP/esm/Canberra es de 0.047',\n 'Modularidad de absorption/NLP/esm/Chebyshev es de 0.084',\n 'Modularidad de absorption/NLP/esm/Cityblock es de 0.055',\n 'Modularidad de absorption/NLP/esm/Correlation es de 0.059',\n 'Modularidad de absorption/NLP/esm/Cosine es de 0.063',\n 'Modularidad de absorption/NLP/esm/Minkowski es de 0.074',\n 'Modularidad de absorption/NLP/esm/Hamming es de 0.0',\n 'Modularidad de absorption/NLP/fasttext/Euclidean es de 0.086',\n 'Modularidad de absorption/NLP/fasttext/Braycurtis es de 0.085',\n 'Modularidad de absorption/NLP/fasttext/Canberra es de 0.073',\n 'Modularidad de absorption/NLP/fasttext/Chebyshev es de 0.062',\n 'Modularidad de absorption/NLP/fasttext/Cityblock es de 0.087',\n 'Modularidad de absorption/NLP/fasttext/Correlation es de 0.085',\n 'Modularidad de absorption/NLP/fasttext/Cosine es de 0.085',\n 'Modularidad de absorption/NLP/fasttext/Minkowski es de 0.085',\n 'Modularidad de absorption/NLP/fasttext/Hamming es de 0.06',\n 'Modularidad de absorption/NLP/plus_rnn/Euclidean es de 0.093',\n 'Modularidad de absorption/NLP/plus_rnn/Braycurtis es de 0.095',\n 'Modularidad de absorption/NLP/plus_rnn/Canberra es de 0.092',\n 'Modularidad de absorption/NLP/plus_rnn/Chebyshev es de 0.068',\n 'Modularidad de absorption/NLP/plus_rnn/Cityblock es de 0.095',\n 'Modularidad de absorption/NLP/plus_rnn/Correlation es de 0.092',\n 'Modularidad de absorption/NLP/plus_rnn/Cosine es de 0.092',\n 'Modularidad de absorption/NLP/plus_rnn/Minkowski es de 0.093',\n 'Modularidad de absorption/NLP/plus_rnn/Hamming es de 0.087',\n 'Modularidad de absorption/NLP/prottrans/Euclidean es de 0.096',\n 'Modularidad de absorption/NLP/prottrans/Braycurtis es de 0.096',\n 'Modularidad de absorption/NLP/prottrans/Canberra es de 0.088',\n 'Modularidad de absorption/NLP/prottrans/Chebyshev es de 0.08',\n 'Modularidad de absorption/NLP/prottrans/Cityblock es de 0.097',\n 'Modularidad de absorption/NLP/prottrans/Correlation es de 0.092',\n 'Modularidad de absorption/NLP/prottrans/Cosine es de 0.093',\n 'Modularidad de absorption/NLP/prottrans/Minkowski es de 0.096',\n 'Modularidad de absorption/NLP/prottrans/Hamming es de 0.075',\n 'Modularidad de absorption/Properties/Group_0/Euclidean es de 0.099',\n 'Modularidad de absorption/Properties/Group_0/Braycurtis es de 0.119',\n 'Modularidad de absorption/Properties/Group_0/Canberra es de 0.126',\n 'Modularidad de absorption/Properties/Group_0/Chebyshev es de 0.002',\n 'Modularidad de absorption/Properties/Group_0/Cityblock es de 0.114',\n 'Modularidad de absorption/Properties/Group_0/Correlation es de 0.134',\n 'Modularidad de absorption/Properties/Group_0/Cosine es de 0.133',\n 'Modularidad de absorption/Properties/Group_0/Minkowski es de 0.098',\n 'Modularidad de absorption/Properties/Group_0/Hamming es de 0.141',\n 'Modularidad de absorption/Properties/Group_1/Euclidean es de 0.105',\n 'Modularidad de absorption/Properties/Group_1/Braycurtis es de 0.116',\n 'Modularidad de absorption/Properties/Group_1/Canberra es de 0.11',\n 'Modularidad de absorption/Properties/Group_1/Chebyshev es de 0.003',\n 'Modularidad de absorption/Properties/Group_1/Cityblock es de 0.117',\n 'Modularidad de absorption/Properties/Group_1/Correlation es de 0.129',\n 'Modularidad de absorption/Properties/Group_1/Cosine es de 0.13',\n 'Modularidad de absorption/Properties/Group_1/Minkowski es de 0.105',\n 'Modularidad de absorption/Properties/Group_1/Hamming es de 0.141',\n 'Modularidad de absorption/Properties/Group_2/Euclidean es de 0.083',\n 'Modularidad de absorption/Properties/Group_2/Braycurtis es de 0.109',\n 'Modularidad de absorption/Properties/Group_2/Canberra es de 0.11',\n 'Modularidad de absorption/Properties/Group_2/Chebyshev es de 0.01',\n 'Modularidad de absorption/Properties/Group_2/Cityblock es de 0.11',\n 'Modularidad de absorption/Properties/Group_2/Correlation es de 0.103',\n 'Modularidad de absorption/Properties/Group_2/Cosine es de 0.103',\n 'Modularidad de absorption/Properties/Group_2/Minkowski es de 0.083',\n 'Modularidad de absorption/Properties/Group_2/Hamming es de 0.141',\n 'Modularidad de absorption/Properties/Group_3/Euclidean es de 0.093',\n 'Modularidad de absorption/Properties/Group_3/Braycurtis es de 0.107',\n 'Modularidad de absorption/Properties/Group_3/Canberra es de 0.123',\n 'Modularidad de absorption/Properties/Group_3/Chebyshev es de 0.004',\n 'Modularidad de absorption/Properties/Group_3/Cityblock es de 0.108',\n 'Modularidad de absorption/Properties/Group_3/Correlation es de 0.108',\n 'Modularidad de absorption/Properties/Group_3/Cosine es de 0.112',\n 'Modularidad de absorption/Properties/Group_3/Minkowski es de 0.093',\n 'Modularidad de absorption/Properties/Group_3/Hamming es de 0.141',\n 'Modularidad de absorption/Properties/Group_4/Euclidean es de 0.137',\n 'Modularidad de absorption/Properties/Group_4/Braycurtis es de 0.114',\n 'Modularidad de absorption/Properties/Group_4/Canberra es de 0.11',\n 'Modularidad de absorption/Properties/Group_4/Chebyshev es de 0.002',\n 'Modularidad de absorption/Properties/Group_4/Cityblock es de 0.116',\n 'Modularidad de absorption/Properties/Group_4/Correlation es de 0.175',\n 'Modularidad de absorption/Properties/Group_4/Cosine es de 0.174',\n 'Modularidad de absorption/Properties/Group_4/Minkowski es de 0.137',\n 'Modularidad de absorption/Properties/Group_4/Hamming es de 0.141',\n 'Modularidad de absorption/Properties/Group_5/Euclidean es de 0.1',\n 'Modularidad de absorption/Properties/Group_5/Braycurtis es de 0.112',\n 'Modularidad de absorption/Properties/Group_5/Canberra es de 0.122',\n 'Modularidad de absorption/Properties/Group_5/Chebyshev es de 0.0',\n 'Modularidad de absorption/Properties/Group_5/Cityblock es de 0.112',\n 'Modularidad de absorption/Properties/Group_5/Correlation es de 0.134',\n 'Modularidad de absorption/Properties/Group_5/Cosine es de 0.127',\n 'Modularidad de absorption/Properties/Group_5/Minkowski es de 0.101',\n 'Modularidad de absorption/Properties/Group_5/Hamming es de 0.141',\n 'Modularidad de absorption/Properties/Group_6/Euclidean es de 0.119',\n 'Modularidad de absorption/Properties/Group_6/Braycurtis es de 0.119',\n 'Modularidad de absorption/Properties/Group_6/Canberra es de 0.116',\n 'Modularidad de absorption/Properties/Group_6/Chebyshev es de 0.002',\n 'Modularidad de absorption/Properties/Group_6/Cityblock es de 0.118',\n 'Modularidad de absorption/Properties/Group_6/Correlation es de 0.133',\n 'Modularidad de absorption/Properties/Group_6/Cosine es de 0.133',\n 'Modularidad de absorption/Properties/Group_6/Minkowski es de 0.119',\n 'Modularidad de absorption/Properties/Group_6/Hamming es de 0.141',\n 'Modularidad de absorption/Properties/Group_7/Euclidean es de 0.129',\n 'Modularidad de absorption/Properties/Group_7/Braycurtis es de 0.108',\n 'Modularidad de absorption/Properties/Group_7/Canberra es de 0.114',\n 'Modularidad de absorption/Properties/Group_7/Chebyshev es de 0.002',\n 'Modularidad de absorption/Properties/Group_7/Cityblock es de 0.112',\n 'Modularidad de absorption/Properties/Group_7/Correlation es de 0.155',\n 'Modularidad de absorption/Properties/Group_7/Cosine es de 0.159',\n 'Modularidad de absorption/Properties/Group_7/Minkowski es de 0.129',\n 'Modularidad de absorption/Properties/Group_7/Hamming es de 0.141',\n 'Modularidad de enantioselectivity/FFT/Group_0/Euclidean es de 0.067',\n 'Modularidad de enantioselectivity/FFT/Group_0/Braycurtis es de 0.066',\n 'Modularidad de enantioselectivity/FFT/Group_0/Canberra es de 0.064',\n 'Modularidad de enantioselectivity/FFT/Group_0/Chebyshev es de 0.049',\n 'Modularidad de enantioselectivity/FFT/Group_0/Cityblock es de 0.064',\n 'Modularidad de enantioselectivity/FFT/Group_0/Correlation es de 0.067',\n 'Modularidad de enantioselectivity/FFT/Group_0/Cosine es de 0.07',\n 'Modularidad de enantioselectivity/FFT/Group_0/Minkowski es de 0.067',\n 'Modularidad de enantioselectivity/FFT/Group_0/Hamming es de 0.0',\n 'Modularidad de enantioselectivity/FFT/Group_1/Euclidean es de 0.053',\n 'Modularidad de enantioselectivity/FFT/Group_1/Braycurtis es de 0.065',\n 'Modularidad de enantioselectivity/FFT/Group_1/Canberra es de 0.069',\n 'Modularidad de enantioselectivity/FFT/Group_1/Chebyshev es de 0.055',\n 'Modularidad de enantioselectivity/FFT/Group_1/Cityblock es de 0.064',\n 'Modularidad de enantioselectivity/FFT/Group_1/Correlation es de 0.075',\n 'Modularidad de enantioselectivity/FFT/Group_1/Cosine es de 0.077',\n 'Modularidad de enantioselectivity/FFT/Group_1/Minkowski es de 0.05',\n 'Modularidad de enantioselectivity/FFT/Group_1/Hamming es de 0.0',\n 'Modularidad de enantioselectivity/FFT/Group_2/Euclidean es de 0.077',\n 'Modularidad de enantioselectivity/FFT/Group_2/Braycurtis es de 0.08',\n 'Modularidad de enantioselectivity/FFT/Group_2/Canberra es de 0.072',\n 'Modularidad de enantioselectivity/FFT/Group_2/Chebyshev es de 0.067',\n 'Modularidad de enantioselectivity/FFT/Group_2/Cityblock es de 0.08',\n 'Modularidad de enantioselectivity/FFT/Group_2/Correlation es de 0.076',\n 'Modularidad de enantioselectivity/FFT/Group_2/Cosine es de 0.077',\n 'Modularidad de enantioselectivity/FFT/Group_2/Minkowski es de 0.078',\n 'Modularidad de enantioselectivity/FFT/Group_2/Hamming es de 0.0',\n 'Modularidad de enantioselectivity/FFT/Group_3/Euclidean es de 0.066',\n 'Modularidad de enantioselectivity/FFT/Group_3/Braycurtis es de 0.064',\n 'Modularidad de enantioselectivity/FFT/Group_3/Canberra es de 0.061',\n 'Modularidad de enantioselectivity/FFT/Group_3/Chebyshev es de 0.059',\n 'Modularidad de enantioselectivity/FFT/Group_3/Cityblock es de 0.065',\n 'Modularidad de enantioselectivity/FFT/Group_3/Correlation es de 0.068',\n 'Modularidad de enantioselectivity/FFT/Group_3/Cosine es de 0.067',\n 'Modularidad de enantioselectivity/FFT/Group_3/Minkowski es de 0.066',\n 'Modularidad de enantioselectivity/FFT/Group_3/Hamming es de 0.0',\n 'Modularidad de enantioselectivity/FFT/Group_4/Euclidean es de 0.076',\n 'Modularidad de enantioselectivity/FFT/Group_4/Braycurtis es de 0.098',\n 'Modularidad de enantioselectivity/FFT/Group_4/Canberra es de 0.096',\n 'Modularidad de enantioselectivity/FFT/Group_4/Chebyshev es de 0.056',\n 'Modularidad de enantioselectivity/FFT/Group_4/Cityblock es de 0.097',\n 'Modularidad de enantioselectivity/FFT/Group_4/Correlation es de 0.091',\n 'Modularidad de enantioselectivity/FFT/Group_4/Cosine es de 0.097',\n 'Modularidad de enantioselectivity/FFT/Group_4/Minkowski es de 0.078',\n 'Modularidad de enantioselectivity/FFT/Group_4/Hamming es de 0.0',\n 'Modularidad de enantioselectivity/FFT/Group_5/Euclidean es de 0.096',\n 'Modularidad de enantioselectivity/FFT/Group_5/Braycurtis es de 0.096',\n 'Modularidad de enantioselectivity/FFT/Group_5/Canberra es de 0.1',\n 'Modularidad de enantioselectivity/FFT/Group_5/Chebyshev es de 0.065',\n 'Modularidad de enantioselectivity/FFT/Group_5/Cityblock es de 0.097',\n 'Modularidad de enantioselectivity/FFT/Group_5/Correlation es de 0.073',\n 'Modularidad de enantioselectivity/FFT/Group_5/Cosine es de 0.072',\n 'Modularidad de enantioselectivity/FFT/Group_5/Minkowski es de 0.096',\n 'Modularidad de enantioselectivity/FFT/Group_5/Hamming es de 0.0',\n 'Modularidad de enantioselectivity/FFT/Group_6/Euclidean es de 0.08',\n 'Modularidad de enantioselectivity/FFT/Group_6/Braycurtis es de 0.099',\n 'Modularidad de enantioselectivity/FFT/Group_6/Canberra es de 0.109',\n 'Modularidad de enantioselectivity/FFT/Group_6/Chebyshev es de 0.048',\n 'Modularidad de enantioselectivity/FFT/Group_6/Cityblock es de 0.098',\n 'Modularidad de enantioselectivity/FFT/Group_6/Correlation es de 0.081',\n 'Modularidad de enantioselectivity/FFT/Group_6/Cosine es de 0.083',\n 'Modularidad de enantioselectivity/FFT/Group_6/Minkowski es de 0.08',\n 'Modularidad de enantioselectivity/FFT/Group_6/Hamming es de 0.0',\n 'Modularidad de enantioselectivity/FFT/Group_7/Euclidean es de 0.063',\n 'Modularidad de enantioselectivity/FFT/Group_7/Braycurtis es de 0.076',\n 'Modularidad de enantioselectivity/FFT/Group_7/Canberra es de 0.093',\n 'Modularidad de enantioselectivity/FFT/Group_7/Chebyshev es de 0.054',\n 'Modularidad de enantioselectivity/FFT/Group_7/Cityblock es de 0.076',\n 'Modularidad de enantioselectivity/FFT/Group_7/Correlation es de 0.067',\n 'Modularidad de enantioselectivity/FFT/Group_7/Cosine es de 0.066',\n 'Modularidad de enantioselectivity/FFT/Group_7/Minkowski es de 0.062',\n 'Modularidad de enantioselectivity/FFT/Group_7/Hamming es de 0.0',\n 'Modularidad de enantioselectivity/NLP/bepler/Euclidean es de 0.074',\n 'Modularidad de enantioselectivity/NLP/bepler/Braycurtis es de 0.076',\n 'Modularidad de enantioselectivity/NLP/bepler/Canberra es de 0.068',\n 'Modularidad de enantioselectivity/NLP/bepler/Chebyshev es de 0.072',\n 'Modularidad de enantioselectivity/NLP/bepler/Cityblock es de 0.077',\n 'Modularidad de enantioselectivity/NLP/bepler/Correlation es de 0.075',\n 'Modularidad de enantioselectivity/NLP/bepler/Cosine es de 0.074',\n 'Modularidad de enantioselectivity/NLP/bepler/Minkowski es de 0.074',\n 'Modularidad de enantioselectivity/NLP/bepler/Hamming es de 0.053',\n 'Modularidad de enantioselectivity/NLP/esm/Euclidean es de 0.083',\n 'Modularidad de enantioselectivity/NLP/esm/Braycurtis es de 0.065',\n 'Modularidad de enantioselectivity/NLP/esm/Canberra es de 0.068',\n 'Modularidad de enantioselectivity/NLP/esm/Chebyshev es de 0.076',\n 'Modularidad de enantioselectivity/NLP/esm/Cityblock es de 0.067',\n 'Modularidad de enantioselectivity/NLP/esm/Correlation es de 0.067',\n 'Modularidad de enantioselectivity/NLP/esm/Cosine es de 0.067',\n 'Modularidad de enantioselectivity/NLP/esm/Minkowski es de 0.083',\n 'Modularidad de enantioselectivity/NLP/esm/Hamming es de 0.016',\n 'Modularidad de enantioselectivity/NLP/fasttext/Euclidean es de 0.073',\n 'Modularidad de enantioselectivity/NLP/fasttext/Braycurtis es de 0.071',\n 'Modularidad de enantioselectivity/NLP/fasttext/Canberra es de 0.076',\n 'Modularidad de enantioselectivity/NLP/fasttext/Chebyshev es de 0.059',\n 'Modularidad de enantioselectivity/NLP/fasttext/Cityblock es de 0.073',\n 'Modularidad de enantioselectivity/NLP/fasttext/Correlation es de 0.067',\n 'Modularidad de enantioselectivity/NLP/fasttext/Cosine es de 0.069',\n 'Modularidad de enantioselectivity/NLP/fasttext/Minkowski es de 0.078',\n 'Modularidad de enantioselectivity/NLP/fasttext/Hamming es de 0.054',\n 'Modularidad de enantioselectivity/NLP/plus_rnn/Euclidean es de 0.075',\n 'Modularidad de enantioselectivity/NLP/plus_rnn/Braycurtis es de 0.068',\n 'Modularidad de enantioselectivity/NLP/plus_rnn/Canberra es de 0.066',\n 'Modularidad de enantioselectivity/NLP/plus_rnn/Chebyshev es de 0.066',\n 'Modularidad de enantioselectivity/NLP/plus_rnn/Cityblock es de 0.069',\n 'Modularidad de enantioselectivity/NLP/plus_rnn/Correlation es de 0.07',\n 'Modularidad de enantioselectivity/NLP/plus_rnn/Cosine es de 0.067',\n 'Modularidad de enantioselectivity/NLP/plus_rnn/Minkowski es de 0.075',\n 'Modularidad de enantioselectivity/NLP/plus_rnn/Hamming es de 0.073',\n 'Modularidad de enantioselectivity/NLP/prottrans/Euclidean es de 0.07',\n 'Modularidad de enantioselectivity/NLP/prottrans/Braycurtis es de 0.07',\n 'Modularidad de enantioselectivity/NLP/prottrans/Canberra es de 0.072',\n 'Modularidad de enantioselectivity/NLP/prottrans/Chebyshev es de 0.072',\n 'Modularidad de enantioselectivity/NLP/prottrans/Cityblock es de 0.068',\n 'Modularidad de enantioselectivity/NLP/prottrans/Correlation es de 0.064',\n 'Modularidad de enantioselectivity/NLP/prottrans/Cosine es de 0.064',\n 'Modularidad de enantioselectivity/NLP/prottrans/Minkowski es de 0.07',\n 'Modularidad de enantioselectivity/NLP/prottrans/Hamming es de 0.063',\n 'Modularidad de enantioselectivity/Properties/Group_0/Euclidean es de 0.067',\n 'Modularidad de enantioselectivity/Properties/Group_0/Braycurtis es de 0.06',\n 'Modularidad de enantioselectivity/Properties/Group_0/Canberra es de 0.064',\n 'Modularidad de enantioselectivity/Properties/Group_0/Chebyshev es de 0.044',\n 'Modularidad de enantioselectivity/Properties/Group_0/Cityblock es de 0.061',\n 'Modularidad de enantioselectivity/Properties/Group_0/Correlation es de 0.061',\n 'Modularidad de enantioselectivity/Properties/Group_0/Cosine es de 0.065',\n 'Modularidad de enantioselectivity/Properties/Group_0/Minkowski es de 0.067',\n 'Modularidad de enantioselectivity/Properties/Group_0/Hamming es de 0.061',\n 'Modularidad de enantioselectivity/Properties/Group_1/Euclidean es de 0.052',\n 'Modularidad de enantioselectivity/Properties/Group_1/Braycurtis es de 0.058',\n 'Modularidad de enantioselectivity/Properties/Group_1/Canberra es de 0.068',\n 'Modularidad de enantioselectivity/Properties/Group_1/Chebyshev es de 0.103',\n 'Modularidad de enantioselectivity/Properties/Group_1/Cityblock es de 0.058',\n 'Modularidad de enantioselectivity/Properties/Group_1/Correlation es de 0.071',\n 'Modularidad de enantioselectivity/Properties/Group_1/Cosine es de 0.072',\n 'Modularidad de enantioselectivity/Properties/Group_1/Minkowski es de 0.052',\n 'Modularidad de enantioselectivity/Properties/Group_1/Hamming es de 0.058',\n 'Modularidad de enantioselectivity/Properties/Group_2/Euclidean es de 0.075',\n 'Modularidad de enantioselectivity/Properties/Group_2/Braycurtis es de 0.071',\n 'Modularidad de enantioselectivity/Properties/Group_2/Canberra es de 0.06',\n 'Modularidad de enantioselectivity/Properties/Group_2/Chebyshev es de 0.074',\n 'Modularidad de enantioselectivity/Properties/Group_2/Cityblock es de 0.07',\n 'Modularidad de enantioselectivity/Properties/Group_2/Correlation es de 0.073',\n 'Modularidad de enantioselectivity/Properties/Group_2/Cosine es de 0.074',\n 'Modularidad de enantioselectivity/Properties/Group_2/Minkowski es de 0.071',\n 'Modularidad de enantioselectivity/Properties/Group_2/Hamming es de 0.061',\n 'Modularidad de enantioselectivity/Properties/Group_3/Euclidean es de 0.073',\n 'Modularidad de enantioselectivity/Properties/Group_3/Braycurtis es de 0.076',\n 'Modularidad de enantioselectivity/Properties/Group_3/Canberra es de 0.064',\n 'Modularidad de enantioselectivity/Properties/Group_3/Chebyshev es de 0.147',\n 'Modularidad de enantioselectivity/Properties/Group_3/Cityblock es de 0.075',\n 'Modularidad de enantioselectivity/Properties/Group_3/Correlation es de 0.077',\n 'Modularidad de enantioselectivity/Properties/Group_3/Cosine es de 0.077',\n 'Modularidad de enantioselectivity/Properties/Group_3/Minkowski es de 0.073',\n 'Modularidad de enantioselectivity/Properties/Group_3/Hamming es de 0.055',\n 'Modularidad de enantioselectivity/Properties/Group_4/Euclidean es de 0.075',\n 'Modularidad de enantioselectivity/Properties/Group_4/Braycurtis es de 0.053',\n 'Modularidad de enantioselectivity/Properties/Group_4/Canberra es de 0.067',\n 'Modularidad de enantioselectivity/Properties/Group_4/Chebyshev es de 0.151',\n 'Modularidad de enantioselectivity/Properties/Group_4/Cityblock es de 0.052',\n 'Modularidad de enantioselectivity/Properties/Group_4/Correlation es de 0.091',\n 'Modularidad de enantioselectivity/Properties/Group_4/Cosine es de 0.094',\n 'Modularidad de enantioselectivity/Properties/Group_4/Minkowski es de 0.075',\n 'Modularidad de enantioselectivity/Properties/Group_4/Hamming es de 0.061',\n 'Modularidad de enantioselectivity/Properties/Group_5/Euclidean es de 0.103',\n 'Modularidad de enantioselectivity/Properties/Group_5/Braycurtis es de 0.058',\n 'Modularidad de enantioselectivity/Properties/Group_5/Canberra es de 0.053',\n 'Modularidad de enantioselectivity/Properties/Group_5/Chebyshev es de 0.011',\n 'Modularidad de enantioselectivity/Properties/Group_5/Cityblock es de 0.062',\n 'Modularidad de enantioselectivity/Properties/Group_5/Correlation es de 0.08',\n 'Modularidad de enantioselectivity/Properties/Group_5/Cosine es de 0.077',\n 'Modularidad de enantioselectivity/Properties/Group_5/Minkowski es de 0.103',\n 'Modularidad de enantioselectivity/Properties/Group_5/Hamming es de 0.061',\n 'Modularidad de enantioselectivity/Properties/Group_6/Euclidean es de 0.08',\n 'Modularidad de enantioselectivity/Properties/Group_6/Braycurtis es de 0.053',\n 'Modularidad de enantioselectivity/Properties/Group_6/Canberra es de 0.058',\n 'Modularidad de enantioselectivity/Properties/Group_6/Chebyshev es de 0.142',\n 'Modularidad de enantioselectivity/Properties/Group_6/Cityblock es de 0.055',\n 'Modularidad de enantioselectivity/Properties/Group_6/Correlation es de 0.079',\n 'Modularidad de enantioselectivity/Properties/Group_6/Cosine es de 0.084',\n 'Modularidad de enantioselectivity/Properties/Group_6/Minkowski es de 0.08',\n 'Modularidad de enantioselectivity/Properties/Group_6/Hamming es de 0.062',\n 'Modularidad de enantioselectivity/Properties/Group_7/Euclidean es de 0.055',\n 'Modularidad de enantioselectivity/Properties/Group_7/Braycurtis es de 0.058',\n 'Modularidad de enantioselectivity/Properties/Group_7/Canberra es de 0.056',\n 'Modularidad de enantioselectivity/Properties/Group_7/Chebyshev es de 0.164',\n 'Modularidad de enantioselectivity/Properties/Group_7/Cityblock es de 0.057',\n 'Modularidad de enantioselectivity/Properties/Group_7/Correlation es de 0.071',\n 'Modularidad de enantioselectivity/Properties/Group_7/Cosine es de 0.071',\n 'Modularidad de enantioselectivity/Properties/Group_7/Minkowski es de 0.054',\n 'Modularidad de enantioselectivity/Properties/Group_7/Hamming es de 0.061',\n 'Modularidad de localization/FFT/Group_0/Euclidean es de 0.064',\n 'Modularidad de localization/FFT/Group_0/Braycurtis es de 0.082',\n 'Modularidad de localization/FFT/Group_0/Canberra es de 0.081',\n 'Modularidad de localization/FFT/Group_0/Chebyshev es de 0.05',\n 'Modularidad de localization/FFT/Group_0/Cityblock es de 0.062',\n 'Modularidad de localization/FFT/Group_0/Correlation es de 0.063',\n 'Modularidad de localization/FFT/Group_0/Cosine es de 0.071',\n 'Modularidad de localization/FFT/Group_0/Minkowski es de 0.065',\n 'Modularidad de localization/FFT/Group_0/Hamming es de 0.0',\n 'Modularidad de localization/FFT/Group_1/Euclidean es de 0.064',\n 'Modularidad de localization/FFT/Group_1/Braycurtis es de 0.066',\n 'Modularidad de localization/FFT/Group_1/Canberra es de 0.066',\n 'Modularidad de localization/FFT/Group_1/Chebyshev es de 0.061',\n 'Modularidad de localization/FFT/Group_1/Cityblock es de 0.07',\n 'Modularidad de localization/FFT/Group_1/Correlation es de 0.065',\n 'Modularidad de localization/FFT/Group_1/Cosine es de 0.06',\n 'Modularidad de localization/FFT/Group_1/Minkowski es de 0.064',\n 'Modularidad de localization/FFT/Group_1/Hamming es de 0.0',\n 'Modularidad de localization/FFT/Group_2/Euclidean es de 0.108',\n 'Modularidad de localization/FFT/Group_2/Braycurtis es de 0.105',\n 'Modularidad de localization/FFT/Group_2/Canberra es de 0.103',\n 'Modularidad de localization/FFT/Group_2/Chebyshev es de 0.077',\n 'Modularidad de localization/FFT/Group_2/Cityblock es de 0.109',\n 'Modularidad de localization/FFT/Group_2/Correlation es de 0.084',\n 'Modularidad de localization/FFT/Group_2/Cosine es de 0.088',\n 'Modularidad de localization/FFT/Group_2/Minkowski es de 0.108',\n 'Modularidad de localization/FFT/Group_2/Hamming es de 0.0',\n 'Modularidad de localization/FFT/Group_3/Euclidean es de 0.097',\n 'Modularidad de localization/FFT/Group_3/Braycurtis es de 0.086',\n 'Modularidad de localization/FFT/Group_3/Canberra es de 0.088',\n 'Modularidad de localization/FFT/Group_3/Chebyshev es de 0.055',\n 'Modularidad de localization/FFT/Group_3/Cityblock es de 0.096',\n 'Modularidad de localization/FFT/Group_3/Correlation es de 0.07',\n 'Modularidad de localization/FFT/Group_3/Cosine es de 0.072',\n 'Modularidad de localization/FFT/Group_3/Minkowski es de 0.097',\n 'Modularidad de localization/FFT/Group_3/Hamming es de 0.0',\n 'Modularidad de localization/FFT/Group_4/Euclidean es de 0.093',\n 'Modularidad de localization/FFT/Group_4/Braycurtis es de 0.085',\n 'Modularidad de localization/FFT/Group_4/Canberra es de 0.084',\n 'Modularidad de localization/FFT/Group_4/Chebyshev es de 0.061',\n 'Modularidad de localization/FFT/Group_4/Cityblock es de 0.092',\n 'Modularidad de localization/FFT/Group_4/Correlation es de 0.075',\n 'Modularidad de localization/FFT/Group_4/Cosine es de 0.075',\n 'Modularidad de localization/FFT/Group_4/Minkowski es de 0.093',\n 'Modularidad de localization/FFT/Group_4/Hamming es de 0.0',\n 'Modularidad de localization/FFT/Group_5/Euclidean es de 0.065',\n 'Modularidad de localization/FFT/Group_5/Braycurtis es de 0.06',\n 'Modularidad de localization/FFT/Group_5/Canberra es de 0.068',\n 'Modularidad de localization/FFT/Group_5/Chebyshev es de 0.059',\n 'Modularidad de localization/FFT/Group_5/Cityblock es de 0.063',\n 'Modularidad de localization/FFT/Group_5/Correlation es de 0.064',\n 'Modularidad de localization/FFT/Group_5/Cosine es de 0.061',\n 'Modularidad de localization/FFT/Group_5/Minkowski es de 0.065',\n 'Modularidad de localization/FFT/Group_5/Hamming es de 0.0',\n 'Modularidad de localization/FFT/Group_6/Euclidean es de 0.091',\n 'Modularidad de localization/FFT/Group_6/Braycurtis es de 0.079',\n 'Modularidad de localization/FFT/Group_6/Canberra es de 0.078',\n 'Modularidad de localization/FFT/Group_6/Chebyshev es de 0.067',\n 'Modularidad de localization/FFT/Group_6/Cityblock es de 0.088',\n 'Modularidad de localization/FFT/Group_6/Correlation es de 0.077',\n 'Modularidad de localization/FFT/Group_6/Cosine es de 0.075',\n 'Modularidad de localization/FFT/Group_6/Minkowski es de 0.091',\n 'Modularidad de localization/FFT/Group_6/Hamming es de 0.0',\n 'Modularidad de localization/FFT/Group_7/Euclidean es de 0.083',\n 'Modularidad de localization/FFT/Group_7/Braycurtis es de 0.074',\n 'Modularidad de localization/FFT/Group_7/Canberra es de 0.08',\n 'Modularidad de localization/FFT/Group_7/Chebyshev es de 0.058',\n 'Modularidad de localization/FFT/Group_7/Cityblock es de 0.084',\n 'Modularidad de localization/FFT/Group_7/Correlation es de 0.077',\n 'Modularidad de localization/FFT/Group_7/Cosine es de 0.07',\n 'Modularidad de localization/FFT/Group_7/Minkowski es de 0.084',\n 'Modularidad de localization/FFT/Group_7/Hamming es de 0.0',\n 'Modularidad de localization/NLP/bepler/Euclidean es de 0.06',\n 'Modularidad de localization/NLP/bepler/Braycurtis es de 0.062',\n 'Modularidad de localization/NLP/bepler/Canberra es de 0.066',\n 'Modularidad de localization/NLP/bepler/Chebyshev es de 0.071',\n 'Modularidad de localization/NLP/bepler/Cityblock es de 0.059',\n 'Modularidad de localization/NLP/bepler/Correlation es de 0.056',\n 'Modularidad de localization/NLP/bepler/Cosine es de 0.056',\n 'Modularidad de localization/NLP/bepler/Minkowski es de 0.06',\n 'Modularidad de localization/NLP/bepler/Hamming es de 0.034',\n 'Modularidad de localization/NLP/esm/Euclidean es de 0.06',\n 'Modularidad de localization/NLP/esm/Braycurtis es de 0.062',\n 'Modularidad de localization/NLP/esm/Canberra es de 0.066',\n 'Modularidad de localization/NLP/esm/Chebyshev es de 0.071',\n 'Modularidad de localization/NLP/esm/Cityblock es de 0.059',\n 'Modularidad de localization/NLP/esm/Correlation es de 0.056',\n 'Modularidad de localization/NLP/esm/Cosine es de 0.052',\n 'Modularidad de localization/NLP/esm/Minkowski es de 0.06',\n 'Modularidad de localization/NLP/esm/Hamming es de 0.033',\n 'Modularidad de localization/NLP/fasttext/Euclidean es de 0.06',\n 'Modularidad de localization/NLP/fasttext/Braycurtis es de 0.062',\n 'Modularidad de localization/NLP/fasttext/Canberra es de 0.066',\n 'Modularidad de localization/NLP/fasttext/Chebyshev es de 0.071',\n 'Modularidad de localization/NLP/fasttext/Cityblock es de 0.059',\n 'Modularidad de localization/NLP/fasttext/Correlation es de 0.056',\n 'Modularidad de localization/NLP/fasttext/Cosine es de 0.056',\n 'Modularidad de localization/NLP/fasttext/Minkowski es de 0.06',\n 'Modularidad de localization/NLP/fasttext/Hamming es de 0.033',\n 'Modularidad de localization/NLP/plus_rnn/Euclidean es de 0.06',\n 'Modularidad de localization/NLP/plus_rnn/Braycurtis es de 0.062',\n 'Modularidad de localization/NLP/plus_rnn/Canberra es de 0.066',\n 'Modularidad de localization/NLP/plus_rnn/Chebyshev es de 0.071',\n 'Modularidad de localization/NLP/plus_rnn/Cityblock es de 0.059',\n 'Modularidad de localization/NLP/plus_rnn/Correlation es de 0.055',\n 'Modularidad de localization/NLP/plus_rnn/Cosine es de 0.056',\n 'Modularidad de localization/NLP/plus_rnn/Minkowski es de 0.06',\n 'Modularidad de localization/NLP/plus_rnn/Hamming es de 0.034',\n 'Modularidad de localization/NLP/prottrans/Euclidean es de 0.106',\n 'Modularidad de localization/NLP/prottrans/Braycurtis es de 0.106',\n 'Modularidad de localization/NLP/prottrans/Canberra es de 0.109',\n 'Modularidad de localization/NLP/prottrans/Chebyshev es de 0.073',\n 'Modularidad de localization/NLP/prottrans/Cityblock es de 0.107',\n 'Modularidad de localization/NLP/prottrans/Correlation es de 0.096',\n 'Modularidad de localization/NLP/prottrans/Cosine es de 0.097',\n 'Modularidad de localization/NLP/prottrans/Minkowski es de 0.106',\n 'Modularidad de localization/NLP/prottrans/Hamming es de 0.066',\n 'Modularidad de localization/Properties/Group_0/Euclidean es de 0.08',\n 'Modularidad de localization/Properties/Group_0/Braycurtis es de 0.097',\n 'Modularidad de localization/Properties/Group_0/Canberra es de 0.089',\n 'Modularidad de localization/Properties/Group_0/Chebyshev es de -0.0',\n 'Modularidad de localization/Properties/Group_0/Cityblock es de 0.081',\n 'Modularidad de localization/Properties/Group_0/Correlation es de 0.094',\n 'Modularidad de localization/Properties/Group_0/Cosine es de 0.093',\n 'Modularidad de localization/Properties/Group_0/Minkowski es de 0.08',\n 'Modularidad de localization/Properties/Group_0/Hamming es de 0.099',\n 'Modularidad de localization/Properties/Group_1/Euclidean es de 0.099',\n 'Modularidad de localization/Properties/Group_1/Braycurtis es de 0.074',\n 'Modularidad de localization/Properties/Group_1/Canberra es de 0.092',\n 'Modularidad de localization/Properties/Group_1/Chebyshev es de 0.001',\n 'Modularidad de localization/Properties/Group_1/Cityblock es de 0.093',\n 'Modularidad de localization/Properties/Group_1/Correlation es de 0.086',\n 'Modularidad de localization/Properties/Group_1/Cosine es de 0.085',\n 'Modularidad de localization/Properties/Group_1/Minkowski es de 0.099',\n 'Modularidad de localization/Properties/Group_1/Hamming es de 0.099',\n 'Modularidad de localization/Properties/Group_2/Euclidean es de 0.12',\n 'Modularidad de localization/Properties/Group_2/Braycurtis es de 0.109',\n 'Modularidad de localization/Properties/Group_2/Canberra es de 0.091',\n 'Modularidad de localization/Properties/Group_2/Chebyshev es de 0.0',\n 'Modularidad de localization/Properties/Group_2/Cityblock es de 0.117',\n 'Modularidad de localization/Properties/Group_2/Correlation es de 0.108',\n 'Modularidad de localization/Properties/Group_2/Cosine es de 0.108',\n 'Modularidad de localization/Properties/Group_2/Minkowski es de 0.12',\n 'Modularidad de localization/Properties/Group_2/Hamming es de 0.099',\n 'Modularidad de localization/Properties/Group_3/Euclidean es de 0.119',\n 'Modularidad de localization/Properties/Group_3/Braycurtis es de 0.106',\n 'Modularidad de localization/Properties/Group_3/Canberra es de 0.086',\n 'Modularidad de localization/Properties/Group_3/Chebyshev es de -0.0',\n 'Modularidad de localization/Properties/Group_3/Cityblock es de 0.112',\n 'Modularidad de localization/Properties/Group_3/Correlation es de 0.11',\n 'Modularidad de localization/Properties/Group_3/Cosine es de 0.111',\n 'Modularidad de localization/Properties/Group_3/Minkowski es de 0.119',\n 'Modularidad de localization/Properties/Group_3/Hamming es de 0.099',\n 'Modularidad de localization/Properties/Group_4/Euclidean es de 0.078',\n 'Modularidad de localization/Properties/Group_4/Braycurtis es de 0.079',\n 'Modularidad de localization/Properties/Group_4/Canberra es de 0.096',\n 'Modularidad de localization/Properties/Group_4/Chebyshev es de 0.001',\n 'Modularidad de localization/Properties/Group_4/Cityblock es de 0.086',\n 'Modularidad de localization/Properties/Group_4/Correlation es de 0.074',\n 'Modularidad de localization/Properties/Group_4/Cosine es de 0.075',\n 'Modularidad de localization/Properties/Group_4/Minkowski es de 0.078',\n 'Modularidad de localization/Properties/Group_4/Hamming es de 0.099',\n 'Modularidad de localization/Properties/Group_5/Euclidean es de 0.097',\n 'Modularidad de localization/Properties/Group_5/Braycurtis es de 0.093',\n 'Modularidad de localization/Properties/Group_5/Canberra es de 0.083',\n 'Modularidad de localization/Properties/Group_5/Chebyshev es de 0.001',\n 'Modularidad de localization/Properties/Group_5/Cityblock es de 0.101',\n 'Modularidad de localization/Properties/Group_5/Correlation es de 0.076',\n 'Modularidad de localization/Properties/Group_5/Cosine es de 0.076',\n 'Modularidad de localization/Properties/Group_5/Minkowski es de 0.097',\n 'Modularidad de localization/Properties/Group_5/Hamming es de 0.099',\n 'Modularidad de localization/Properties/Group_6/Euclidean es de 0.08',\n 'Modularidad de localization/Properties/Group_6/Braycurtis es de 0.075',\n 'Modularidad de localization/Properties/Group_6/Canberra es de 0.089',\n 'Modularidad de localization/Properties/Group_6/Chebyshev es de 0.001',\n 'Modularidad de localization/Properties/Group_6/Cityblock es de 0.078',\n 'Modularidad de localization/Properties/Group_6/Correlation es de 0.071',\n 'Modularidad de localization/Properties/Group_6/Cosine es de 0.073',\n 'Modularidad de localization/Properties/Group_6/Minkowski es de 0.08',\n 'Modularidad de localization/Properties/Group_6/Hamming es de 0.099',\n 'Modularidad de localization/Properties/Group_7/Euclidean es de 0.096',\n 'Modularidad de localization/Properties/Group_7/Braycurtis es de 0.088',\n 'Modularidad de localization/Properties/Group_7/Canberra es de 0.094',\n 'Modularidad de localization/Properties/Group_7/Chebyshev es de 0.0',\n 'Modularidad de localization/Properties/Group_7/Cityblock es de 0.102',\n 'Modularidad de localization/Properties/Group_7/Correlation es de 0.085',\n 'Modularidad de localization/Properties/Group_7/Cosine es de 0.087',\n 'Modularidad de localization/Properties/Group_7/Minkowski es de 0.096',\n 'Modularidad de localization/Properties/Group_7/Hamming es de 0.099',\n 'Modularidad de T50/FFT/Group_0/Euclidean es de 0.063',\n 'Modularidad de T50/FFT/Group_0/Braycurtis es de 0.061',\n 'Modularidad de T50/FFT/Group_0/Canberra es de 0.062',\n 'Modularidad de T50/FFT/Group_0/Chebyshev es de 0.069',\n 'Modularidad de T50/FFT/Group_0/Cityblock es de 0.061',\n 'Modularidad de T50/FFT/Group_0/Correlation es de 0.062',\n 'Modularidad de T50/FFT/Group_0/Cosine es de 0.062',\n 'Modularidad de T50/FFT/Group_0/Minkowski es de 0.063',\n 'Modularidad de T50/FFT/Group_0/Hamming es de 0.0',\n 'Modularidad de T50/FFT/Group_1/Euclidean es de 0.073',\n 'Modularidad de T50/FFT/Group_1/Braycurtis es de 0.07',\n 'Modularidad de T50/FFT/Group_1/Canberra es de 0.068',\n 'Modularidad de T50/FFT/Group_1/Chebyshev es de 0.072',\n 'Modularidad de T50/FFT/Group_1/Cityblock es de 0.07',\n 'Modularidad de T50/FFT/Group_1/Correlation es de 0.079',\n 'Modularidad de T50/FFT/Group_1/Cosine es de 0.08',\n 'Modularidad de T50/FFT/Group_1/Minkowski es de 0.073',\n 'Modularidad de T50/FFT/Group_1/Hamming es de 0.0',\n 'Modularidad de T50/FFT/Group_2/Euclidean es de 0.069',\n 'Modularidad de T50/FFT/Group_2/Braycurtis es de 0.065',\n 'Modularidad de T50/FFT/Group_2/Canberra es de 0.067',\n 'Modularidad de T50/FFT/Group_2/Chebyshev es de 0.069',\n 'Modularidad de T50/FFT/Group_2/Cityblock es de 0.065',\n 'Modularidad de T50/FFT/Group_2/Correlation es de 0.067',\n 'Modularidad de T50/FFT/Group_2/Cosine es de 0.07',\n 'Modularidad de T50/FFT/Group_2/Minkowski es de 0.069',\n 'Modularidad de T50/FFT/Group_2/Hamming es de 0.0',\n 'Modularidad de T50/FFT/Group_3/Euclidean es de 0.061',\n 'Modularidad de T50/FFT/Group_3/Braycurtis es de 0.059',\n 'Modularidad de T50/FFT/Group_3/Canberra es de 0.058',\n 'Modularidad de T50/FFT/Group_3/Chebyshev es de 0.06',\n 'Modularidad de T50/FFT/Group_3/Cityblock es de 0.058',\n 'Modularidad de T50/FFT/Group_3/Correlation es de 0.061',\n 'Modularidad de T50/FFT/Group_3/Cosine es de 0.061',\n 'Modularidad de T50/FFT/Group_3/Minkowski es de 0.061',\n 'Modularidad de T50/FFT/Group_3/Hamming es de 0.0',\n 'Modularidad de T50/FFT/Group_4/Euclidean es de 0.074',\n 'Modularidad de T50/FFT/Group_4/Braycurtis es de 0.072',\n 'Modularidad de T50/FFT/Group_4/Canberra es de 0.07',\n 'Modularidad de T50/FFT/Group_4/Chebyshev es de 0.059',\n 'Modularidad de T50/FFT/Group_4/Cityblock es de 0.071',\n 'Modularidad de T50/FFT/Group_4/Correlation es de 0.071',\n 'Modularidad de T50/FFT/Group_4/Cosine es de 0.075',\n 'Modularidad de T50/FFT/Group_4/Minkowski es de 0.074',\n 'Modularidad de T50/FFT/Group_4/Hamming es de 0.0',\n 'Modularidad de T50/FFT/Group_5/Euclidean es de 0.063',\n 'Modularidad de T50/FFT/Group_5/Braycurtis es de 0.061',\n 'Modularidad de T50/FFT/Group_5/Canberra es de 0.06',\n 'Modularidad de T50/FFT/Group_5/Chebyshev es de 0.057',\n 'Modularidad de T50/FFT/Group_5/Cityblock es de 0.061',\n 'Modularidad de T50/FFT/Group_5/Correlation es de 0.062',\n 'Modularidad de T50/FFT/Group_5/Cosine es de 0.06',\n 'Modularidad de T50/FFT/Group_5/Minkowski es de 0.063',\n 'Modularidad de T50/FFT/Group_5/Hamming es de 0.0',\n 'Modularidad de T50/FFT/Group_6/Euclidean es de 0.072',\n 'Modularidad de T50/FFT/Group_6/Braycurtis es de 0.073',\n 'Modularidad de T50/FFT/Group_6/Canberra es de 0.073',\n 'Modularidad de T50/FFT/Group_6/Chebyshev es de 0.062',\n 'Modularidad de T50/FFT/Group_6/Cityblock es de 0.071',\n 'Modularidad de T50/FFT/Group_6/Correlation es de 0.073',\n 'Modularidad de T50/FFT/Group_6/Cosine es de 0.076',\n 'Modularidad de T50/FFT/Group_6/Minkowski es de 0.072',\n 'Modularidad de T50/FFT/Group_6/Hamming es de 0.0',\n 'Modularidad de T50/FFT/Group_7/Euclidean es de 0.067',\n 'Modularidad de T50/FFT/Group_7/Braycurtis es de 0.073',\n 'Modularidad de T50/FFT/Group_7/Canberra es de 0.068',\n 'Modularidad de T50/FFT/Group_7/Chebyshev es de 0.055',\n 'Modularidad de T50/FFT/Group_7/Cityblock es de 0.073',\n 'Modularidad de T50/FFT/Group_7/Correlation es de 0.074',\n 'Modularidad de T50/FFT/Group_7/Cosine es de 0.077',\n 'Modularidad de T50/FFT/Group_7/Minkowski es de 0.075',\n 'Modularidad de T50/FFT/Group_7/Hamming es de 0.0',\n 'Modularidad de T50/NLP/bepler/Euclidean es de 0.058',\n 'Modularidad de T50/NLP/bepler/Braycurtis es de 0.058',\n 'Modularidad de T50/NLP/bepler/Canberra es de 0.073',\n 'Modularidad de T50/NLP/bepler/Chebyshev es de 0.057',\n 'Modularidad de T50/NLP/bepler/Cityblock es de 0.058',\n 'Modularidad de T50/NLP/bepler/Correlation es de 0.056',\n 'Modularidad de T50/NLP/bepler/Cosine es de 0.056',\n 'Modularidad de T50/NLP/bepler/Minkowski es de 0.059',\n 'Modularidad de T50/NLP/bepler/Hamming es de 0.082',\n 'Modularidad de T50/NLP/esm/Euclidean es de 0.065',\n 'Modularidad de T50/NLP/esm/Braycurtis es de 0.07',\n 'Modularidad de T50/NLP/esm/Canberra es de 0.075',\n 'Modularidad de T50/NLP/esm/Chebyshev es de 0.079',\n 'Modularidad de T50/NLP/esm/Cityblock es de 0.07',\n 'Modularidad de T50/NLP/esm/Correlation es de 0.065',\n 'Modularidad de T50/NLP/esm/Cosine es de 0.062',\n 'Modularidad de T50/NLP/esm/Minkowski es de 0.065',\n 'Modularidad de T50/NLP/esm/Hamming es de 0.0',\n 'Modularidad de T50/NLP/fasttext/Euclidean es de 0.066',\n 'Modularidad de T50/NLP/fasttext/Braycurtis es de 0.064',\n 'Modularidad de T50/NLP/fasttext/Canberra es de 0.061',\n 'Modularidad de T50/NLP/fasttext/Chebyshev es de 0.065',\n 'Modularidad de T50/NLP/fasttext/Cityblock es de 0.064',\n 'Modularidad de T50/NLP/fasttext/Correlation es de 0.059',\n 'Modularidad de T50/NLP/fasttext/Cosine es de 0.058',\n 'Modularidad de T50/NLP/fasttext/Minkowski es de 0.066',\n 'Modularidad de T50/NLP/fasttext/Hamming es de 0.036',\n 'Modularidad de T50/NLP/plus_rnn/Euclidean es de 0.073',\n 'Modularidad de T50/NLP/plus_rnn/Braycurtis es de 0.076',\n 'Modularidad de T50/NLP/plus_rnn/Canberra es de 0.08',\n 'Modularidad de T50/NLP/plus_rnn/Chebyshev es de 0.116',\n 'Modularidad de T50/NLP/plus_rnn/Cityblock es de 0.077',\n 'Modularidad de T50/NLP/plus_rnn/Correlation es de 0.064',\n 'Modularidad de T50/NLP/plus_rnn/Cosine es de 0.066',\n 'Modularidad de T50/NLP/plus_rnn/Minkowski es de 0.073',\n 'Modularidad de T50/NLP/plus_rnn/Hamming es de 0.071',\n 'Modularidad de T50/NLP/prottrans/Euclidean es de 0.06',\n 'Modularidad de T50/NLP/prottrans/Braycurtis es de 0.062',\n 'Modularidad de T50/NLP/prottrans/Canberra es de 0.066',\n 'Modularidad de T50/NLP/prottrans/Chebyshev es de 0.071',\n 'Modularidad de T50/NLP/prottrans/Cityblock es de 0.059',\n 'Modularidad de T50/NLP/prottrans/Correlation es de 0.056',\n 'Modularidad de T50/NLP/prottrans/Cosine es de 0.056',\n 'Modularidad de T50/NLP/prottrans/Minkowski es de 0.06',\n 'Modularidad de T50/NLP/prottrans/Hamming es de 0.034',\n 'Modularidad de T50/Properties/Group_0/Euclidean es de 0.067',\n 'Modularidad de T50/Properties/Group_0/Braycurtis es de 0.068',\n 'Modularidad de T50/Properties/Group_0/Canberra es de 0.064',\n 'Modularidad de T50/Properties/Group_0/Chebyshev es de -0.0',\n 'Modularidad de T50/Properties/Group_0/Cityblock es de 0.065',\n 'Modularidad de T50/Properties/Group_0/Correlation es de 0.067',\n 'Modularidad de T50/Properties/Group_0/Cosine es de 0.067',\n 'Modularidad de T50/Properties/Group_0/Minkowski es de 0.067',\n 'Modularidad de T50/Properties/Group_0/Hamming es de 0.064',\n 'Modularidad de T50/Properties/Group_1/Euclidean es de 0.071',\n 'Modularidad de T50/Properties/Group_1/Braycurtis es de 0.072',\n 'Modularidad de T50/Properties/Group_1/Canberra es de 0.069',\n 'Modularidad de T50/Properties/Group_1/Chebyshev es de 0.081',\n 'Modularidad de T50/Properties/Group_1/Cityblock es de 0.069',\n 'Modularidad de T50/Properties/Group_1/Correlation es de 0.08',\n 'Modularidad de T50/Properties/Group_1/Cosine es de 0.079',\n 'Modularidad de T50/Properties/Group_1/Minkowski es de 0.071',\n 'Modularidad de T50/Properties/Group_1/Hamming es de 0.068',\n 'Modularidad de T50/Properties/Group_2/Euclidean es de 0.066',\n 'Modularidad de T50/Properties/Group_2/Braycurtis es de 0.071',\n 'Modularidad de T50/Properties/Group_2/Canberra es de 0.066',\n 'Modularidad de T50/Properties/Group_2/Chebyshev es de 0.0',\n 'Modularidad de T50/Properties/Group_2/Cityblock es de 0.07',\n 'Modularidad de T50/Properties/Group_2/Correlation es de 0.065',\n 'Modularidad de T50/Properties/Group_2/Cosine es de 0.065',\n 'Modularidad de T50/Properties/Group_2/Minkowski es de 0.062',\n 'Modularidad de T50/Properties/Group_2/Hamming es de 0.07',\n 'Modularidad de T50/Properties/Group_3/Euclidean es de 0.063',\n 'Modularidad de T50/Properties/Group_3/Braycurtis es de 0.068',\n 'Modularidad de T50/Properties/Group_3/Canberra es de 0.068',\n 'Modularidad de T50/Properties/Group_3/Chebyshev es de -0.0',\n 'Modularidad de T50/Properties/Group_3/Cityblock es de 0.065',\n 'Modularidad de T50/Properties/Group_3/Correlation es de 0.061',\n 'Modularidad de T50/Properties/Group_3/Cosine es de 0.063',\n 'Modularidad de T50/Properties/Group_3/Minkowski es de 0.063',\n 'Modularidad de T50/Properties/Group_3/Hamming es de 0.069',\n 'Modularidad de T50/Properties/Group_4/Euclidean es de 0.067',\n 'Modularidad de T50/Properties/Group_4/Braycurtis es de 0.066',\n 'Modularidad de T50/Properties/Group_4/Canberra es de 0.068',\n 'Modularidad de T50/Properties/Group_4/Chebyshev es de 0.001',\n 'Modularidad de T50/Properties/Group_4/Cityblock es de 0.063',\n 'Modularidad de T50/Properties/Group_4/Correlation es de 0.065',\n 'Modularidad de T50/Properties/Group_4/Cosine es de 0.065',\n 'Modularidad de T50/Properties/Group_4/Minkowski es de 0.067',\n 'Modularidad de T50/Properties/Group_4/Hamming es de 0.07',\n 'Modularidad de T50/Properties/Group_5/Euclidean es de 0.066',\n 'Modularidad de T50/Properties/Group_5/Braycurtis es de 0.066',\n 'Modularidad de T50/Properties/Group_5/Canberra es de 0.064',\n 'Modularidad de T50/Properties/Group_5/Chebyshev es de 0.052',\n 'Modularidad de T50/Properties/Group_5/Cityblock es de 0.067',\n 'Modularidad de T50/Properties/Group_5/Correlation es de 0.068',\n 'Modularidad de T50/Properties/Group_5/Cosine es de 0.07',\n 'Modularidad de T50/Properties/Group_5/Minkowski es de 0.066',\n 'Modularidad de T50/Properties/Group_5/Hamming es de 0.069',\n 'Modularidad de T50/Properties/Group_6/Euclidean es de 0.07',\n 'Modularidad de T50/Properties/Group_6/Braycurtis es de 0.068',\n 'Modularidad de T50/Properties/Group_6/Canberra es de 0.068',\n 'Modularidad de T50/Properties/Group_6/Chebyshev es de 0.002',\n 'Modularidad de T50/Properties/Group_6/Cityblock es de 0.067',\n 'Modularidad de T50/Properties/Group_6/Correlation es de 0.07',\n 'Modularidad de T50/Properties/Group_6/Cosine es de 0.071',\n 'Modularidad de T50/Properties/Group_6/Minkowski es de 0.07',\n 'Modularidad de T50/Properties/Group_6/Hamming es de 0.07',\n 'Modularidad de T50/Properties/Group_7/Euclidean es de 0.066',\n 'Modularidad de T50/Properties/Group_7/Braycurtis es de 0.07',\n 'Modularidad de T50/Properties/Group_7/Canberra es de 0.067',\n 'Modularidad de T50/Properties/Group_7/Chebyshev es de 0.103',\n 'Modularidad de T50/Properties/Group_7/Cityblock es de 0.064',\n 'Modularidad de T50/Properties/Group_7/Correlation es de 0.066',\n 'Modularidad de T50/Properties/Group_7/Cosine es de 0.066',\n 'Modularidad de T50/Properties/Group_7/Minkowski es de 0.066',\n 'Modularidad de T50/Properties/Group_7/Hamming es de 0.068']"
     },
     "execution_count": 20,
     "metadata": {},
     "output_type": "execute_result"
    }
   ],
   "source": [
    "rf"
   ]
  },
  {
   "cell_type": "code",
   "execution_count": 60,
   "metadata": {
    "pycharm": {
     "name": "#%%\n"
    }
   },
   "outputs": [
    {
     "data": {
      "text/plain": "       index         id_seq1  target_seq1         id_seq2  target_seq2  \\\n0         16  sequence_53082         55.0  sequence_53062         49.1   \n1         27  sequence_53082         55.0  sequence_53085         51.2   \n2         32  sequence_53082         55.0  sequence_19369         47.9   \n3         38  sequence_53082         55.0  sequence_20064         47.3   \n4         41  sequence_53082         55.0  sequence_19504         50.6   \n...      ...             ...          ...             ...          ...   \n50891  67855  sequence_19401         47.4  sequence_53056         52.0   \n50892  67856  sequence_19401         47.4  sequence_19347         58.9   \n50893  67857  sequence_19401         47.4  sequence_19379         50.3   \n50894  67858  sequence_19401         47.4  sequence_19348         46.7   \n50895  67859  sequence_19401         47.4  sequence_19380         48.1   \n\n          distance  \n0      6687.702985  \n1      7661.106185  \n2      7520.527732  \n3      6793.094573  \n4      7689.858708  \n...            ...  \n50891  3783.409735  \n50892  3901.046247  \n50893  2555.097611  \n50894  6147.325333  \n50895  5787.826887  \n\n[50896 rows x 6 columns]",
      "text/html": "<div>\n<style scoped>\n    .dataframe tbody tr th:only-of-type {\n        vertical-align: middle;\n    }\n\n    .dataframe tbody tr th {\n        vertical-align: top;\n    }\n\n    .dataframe thead th {\n        text-align: right;\n    }\n</style>\n<table border=\"1\" class=\"dataframe\">\n  <thead>\n    <tr style=\"text-align: right;\">\n      <th></th>\n      <th>index</th>\n      <th>id_seq1</th>\n      <th>target_seq1</th>\n      <th>id_seq2</th>\n      <th>target_seq2</th>\n      <th>distance</th>\n    </tr>\n  </thead>\n  <tbody>\n    <tr>\n      <th>0</th>\n      <td>16</td>\n      <td>sequence_53082</td>\n      <td>55.0</td>\n      <td>sequence_53062</td>\n      <td>49.1</td>\n      <td>6687.702985</td>\n    </tr>\n    <tr>\n      <th>1</th>\n      <td>27</td>\n      <td>sequence_53082</td>\n      <td>55.0</td>\n      <td>sequence_53085</td>\n      <td>51.2</td>\n      <td>7661.106185</td>\n    </tr>\n    <tr>\n      <th>2</th>\n      <td>32</td>\n      <td>sequence_53082</td>\n      <td>55.0</td>\n      <td>sequence_19369</td>\n      <td>47.9</td>\n      <td>7520.527732</td>\n    </tr>\n    <tr>\n      <th>3</th>\n      <td>38</td>\n      <td>sequence_53082</td>\n      <td>55.0</td>\n      <td>sequence_20064</td>\n      <td>47.3</td>\n      <td>6793.094573</td>\n    </tr>\n    <tr>\n      <th>4</th>\n      <td>41</td>\n      <td>sequence_53082</td>\n      <td>55.0</td>\n      <td>sequence_19504</td>\n      <td>50.6</td>\n      <td>7689.858708</td>\n    </tr>\n    <tr>\n      <th>...</th>\n      <td>...</td>\n      <td>...</td>\n      <td>...</td>\n      <td>...</td>\n      <td>...</td>\n      <td>...</td>\n    </tr>\n    <tr>\n      <th>50891</th>\n      <td>67855</td>\n      <td>sequence_19401</td>\n      <td>47.4</td>\n      <td>sequence_53056</td>\n      <td>52.0</td>\n      <td>3783.409735</td>\n    </tr>\n    <tr>\n      <th>50892</th>\n      <td>67856</td>\n      <td>sequence_19401</td>\n      <td>47.4</td>\n      <td>sequence_19347</td>\n      <td>58.9</td>\n      <td>3901.046247</td>\n    </tr>\n    <tr>\n      <th>50893</th>\n      <td>67857</td>\n      <td>sequence_19401</td>\n      <td>47.4</td>\n      <td>sequence_19379</td>\n      <td>50.3</td>\n      <td>2555.097611</td>\n    </tr>\n    <tr>\n      <th>50894</th>\n      <td>67858</td>\n      <td>sequence_19401</td>\n      <td>47.4</td>\n      <td>sequence_19348</td>\n      <td>46.7</td>\n      <td>6147.325333</td>\n    </tr>\n    <tr>\n      <th>50895</th>\n      <td>67859</td>\n      <td>sequence_19401</td>\n      <td>47.4</td>\n      <td>sequence_19380</td>\n      <td>48.1</td>\n      <td>5787.826887</td>\n    </tr>\n  </tbody>\n</table>\n<p>50896 rows × 6 columns</p>\n</div>"
     },
     "execution_count": 60,
     "metadata": {},
     "output_type": "execute_result"
    }
   ],
   "source": [
    "df_filter"
   ]
  },
  {
   "cell_type": "code",
   "execution_count": 60,
   "metadata": {
    "pycharm": {
     "name": "#%%\n"
    }
   },
   "outputs": [],
   "source": []
  },
  {
   "cell_type": "code",
   "execution_count": 61,
   "metadata": {
    "pycharm": {
     "name": "#%%\n"
    }
   },
   "outputs": [],
   "source": []
  },
  {
   "cell_type": "code",
   "execution_count": 62,
   "metadata": {
    "pycharm": {
     "name": "#%%\n"
    }
   },
   "outputs": [],
   "source": []
  },
  {
   "cell_type": "code",
   "execution_count": 63,
   "metadata": {
    "pycharm": {
     "name": "#%%\n"
    }
   },
   "outputs": [
    {
     "name": "stdout",
     "output_type": "stream",
     "text": [
      "Modularity:  0.069\n"
     ]
    }
   ],
   "source": [
    "partition = community_louvain.best_partition(graph_data)\n",
    "modularity_value = round(community_louvain.modularity(partition, graph_data), 3)\n",
    "\n",
    "print(\"Modularity: \", modularity_value)"
   ]
  },
  {
   "cell_type": "code",
   "execution_count": 64,
   "metadata": {
    "pycharm": {
     "name": "#%%\n"
    }
   },
   "outputs": [],
   "source": [
    "#obtenemos los grupos\n"
   ]
  },
  {
   "cell_type": "code",
   "execution_count": null,
   "outputs": [],
   "source": [],
   "metadata": {
    "collapsed": false,
    "pycharm": {
     "name": "#%%\n"
    }
   }
  }
 ],
 "metadata": {
  "kernelspec": {
   "display_name": "Python 3.10.6 ('deep_learning_exploring')",
   "language": "python",
   "name": "python3"
  },
  "language_info": {
   "codemirror_mode": {
    "name": "ipython",
    "version": 3
   },
   "file_extension": ".py",
   "mimetype": "text/x-python",
   "name": "python",
   "nbconvert_exporter": "python",
   "pygments_lexer": "ipython3",
   "version": "3.10.6"
  },
  "orig_nbformat": 4,
  "vscode": {
   "interpreter": {
    "hash": "40e745f296283c3457427b1d4d0e6f488c7d44751c90dcd83420fd4dcb83c0cc"
   }
  }
 },
 "nbformat": 4,
 "nbformat_minor": 2
}