{
 "cells": [
  {
   "cell_type": "code",
   "execution_count": 1,
   "outputs": [
    {
     "name": "stdout",
     "output_type": "stream",
     "text": [
      "Collecting scikit-learn\n",
      "  Downloading scikit_learn-1.1.3-cp39-cp39-win_amd64.whl (7.6 MB)\n",
      "Requirement already satisfied: joblib>=1.0.0 in c:\\users\\0\\documents\\github\\secuencias\\venv\\lib\\site-packages (from scikit-learn) (1.2.0)\n",
      "Collecting threadpoolctl>=2.0.0\n",
      "  Using cached threadpoolctl-3.1.0-py3-none-any.whl (14 kB)\n",
      "Requirement already satisfied: numpy>=1.17.3 in c:\\users\\0\\documents\\github\\secuencias\\venv\\lib\\site-packages (from scikit-learn) (1.23.4)\n",
      "Requirement already satisfied: scipy>=1.3.2 in c:\\users\\0\\documents\\github\\secuencias\\venv\\lib\\site-packages (from scikit-learn) (1.9.3)\n",
      "Installing collected packages: threadpoolctl, scikit-learn\n",
      "Successfully installed scikit-learn-1.1.3 threadpoolctl-3.1.0\n"
     ]
    },
    {
     "name": "stderr",
     "output_type": "stream",
     "text": [
      "WARNING: You are using pip version 21.3.1; however, version 22.3.1 is available.\n",
      "You should consider upgrading via the 'C:\\Users\\0\\Documents\\GitHub\\Secuencias\\venv\\Scripts\\python.exe -m pip install --upgrade pip' command.\n"
     ]
    }
   ],
   "source": [
    "!pip install scikit-learn"
   ],
   "metadata": {
    "collapsed": false,
    "pycharm": {
     "name": "#%%\n"
    }
   }
  },
  {
   "cell_type": "code",
   "execution_count": 1,
   "outputs": [],
   "source": [
    "import pandas as pd\n",
    "from sklearn.cluster import KMeans, DBSCAN, MeanShift, MiniBatchKMeans, Birch, AffinityPropagation, AgglomerativeClustering\n",
    "from sklearn import metrics"
   ],
   "metadata": {
    "collapsed": false,
    "pycharm": {
     "name": "#%%\n"
    }
   }
  },
  {
   "cell_type": "code",
   "execution_count": 20,
   "metadata": {
    "pycharm": {
     "name": "#%%\n"
    }
   },
   "outputs": [
    {
     "data": {
      "text/plain": "                 id  target     p_0     p_1     p_2     p_3     p_4     p_5  \\\n0    sequence_53082    55.0 -0.0470 -0.1241  0.0100 -0.0850  0.1071  0.0321   \n1    sequence_19402    43.0 -0.0465 -0.1235  0.0048 -0.0899  0.1052  0.0309   \n2    sequence_20054    49.0 -0.0449 -0.1232  0.0077 -0.0869  0.1073  0.0348   \n3    sequence_20048    39.8 -0.0473 -0.1244  0.0051 -0.0891  0.1082  0.0322   \n4    sequence_20036    52.9 -0.0459 -0.1225  0.0073 -0.0893  0.1096  0.0328   \n..              ...     ...     ...     ...     ...     ...     ...     ...   \n256  sequence_19347    58.9 -0.0464 -0.1226  0.0091 -0.0853  0.1067  0.0320   \n257  sequence_19379    50.3 -0.0464 -0.1216  0.0099 -0.0860  0.1063  0.0307   \n258  sequence_19348    46.7 -0.0472 -0.1247  0.0066 -0.0854  0.1066  0.0318   \n259  sequence_19380    48.1 -0.0472 -0.1236  0.0074 -0.0861  0.1062  0.0305   \n260  sequence_19401    47.4 -0.0466 -0.1215  0.0093 -0.0860  0.1052  0.0312   \n\n        p_6     p_7  ...   p_502   p_503   p_504   p_505   p_506   p_507  \\\n0   -0.0031 -0.0447  ... -0.0171  0.0705 -0.0262 -0.0383  0.0171  0.0518   \n1   -0.0044 -0.0436  ... -0.0185  0.0729 -0.0277 -0.0378  0.0178  0.0535   \n2   -0.0029 -0.0446  ... -0.0149  0.0741 -0.0251 -0.0362  0.0165  0.0552   \n3   -0.0016 -0.0450  ... -0.0179  0.0725 -0.0255 -0.0354  0.0158  0.0533   \n4   -0.0034 -0.0460  ... -0.0167  0.0718 -0.0253 -0.0373  0.0145  0.0553   \n..      ...     ...  ...     ...     ...     ...     ...     ...     ...   \n256 -0.0041 -0.0449  ... -0.0173  0.0713 -0.0270 -0.0370  0.0167  0.0525   \n257 -0.0041 -0.0459  ... -0.0177  0.0703 -0.0274 -0.0385  0.0170  0.0526   \n258 -0.0028 -0.0418  ... -0.0203  0.0711 -0.0253 -0.0379  0.0181  0.0524   \n259 -0.0028 -0.0428  ... -0.0207  0.0700 -0.0258 -0.0394  0.0184  0.0525   \n260 -0.0051 -0.0450  ... -0.0174  0.0723 -0.0278 -0.0386  0.0171  0.0533   \n\n      p_508   p_509   p_510   p_511  \n0    0.0868  0.0127  0.0631 -0.0437  \n1    0.0890  0.0164  0.0632 -0.0424  \n2    0.0865  0.0139  0.0606 -0.0425  \n3    0.0889  0.0162  0.0624 -0.0455  \n4    0.0878  0.0150  0.0608 -0.0423  \n..      ...     ...     ...     ...  \n256  0.0862  0.0139  0.0641 -0.0434  \n257  0.0857  0.0145  0.0633 -0.0427  \n258  0.0885  0.0165  0.0633 -0.0443  \n259  0.0880  0.0170  0.0625 -0.0437  \n260  0.0860  0.0134  0.0632 -0.0416  \n\n[261 rows x 514 columns]",
      "text/html": "<div>\n<style scoped>\n    .dataframe tbody tr th:only-of-type {\n        vertical-align: middle;\n    }\n\n    .dataframe tbody tr th {\n        vertical-align: top;\n    }\n\n    .dataframe thead th {\n        text-align: right;\n    }\n</style>\n<table border=\"1\" class=\"dataframe\">\n  <thead>\n    <tr style=\"text-align: right;\">\n      <th></th>\n      <th>id</th>\n      <th>target</th>\n      <th>p_0</th>\n      <th>p_1</th>\n      <th>p_2</th>\n      <th>p_3</th>\n      <th>p_4</th>\n      <th>p_5</th>\n      <th>p_6</th>\n      <th>p_7</th>\n      <th>...</th>\n      <th>p_502</th>\n      <th>p_503</th>\n      <th>p_504</th>\n      <th>p_505</th>\n      <th>p_506</th>\n      <th>p_507</th>\n      <th>p_508</th>\n      <th>p_509</th>\n      <th>p_510</th>\n      <th>p_511</th>\n    </tr>\n  </thead>\n  <tbody>\n    <tr>\n      <th>0</th>\n      <td>sequence_53082</td>\n      <td>55.0</td>\n      <td>-0.0470</td>\n      <td>-0.1241</td>\n      <td>0.0100</td>\n      <td>-0.0850</td>\n      <td>0.1071</td>\n      <td>0.0321</td>\n      <td>-0.0031</td>\n      <td>-0.0447</td>\n      <td>...</td>\n      <td>-0.0171</td>\n      <td>0.0705</td>\n      <td>-0.0262</td>\n      <td>-0.0383</td>\n      <td>0.0171</td>\n      <td>0.0518</td>\n      <td>0.0868</td>\n      <td>0.0127</td>\n      <td>0.0631</td>\n      <td>-0.0437</td>\n    </tr>\n    <tr>\n      <th>1</th>\n      <td>sequence_19402</td>\n      <td>43.0</td>\n      <td>-0.0465</td>\n      <td>-0.1235</td>\n      <td>0.0048</td>\n      <td>-0.0899</td>\n      <td>0.1052</td>\n      <td>0.0309</td>\n      <td>-0.0044</td>\n      <td>-0.0436</td>\n      <td>...</td>\n      <td>-0.0185</td>\n      <td>0.0729</td>\n      <td>-0.0277</td>\n      <td>-0.0378</td>\n      <td>0.0178</td>\n      <td>0.0535</td>\n      <td>0.0890</td>\n      <td>0.0164</td>\n      <td>0.0632</td>\n      <td>-0.0424</td>\n    </tr>\n    <tr>\n      <th>2</th>\n      <td>sequence_20054</td>\n      <td>49.0</td>\n      <td>-0.0449</td>\n      <td>-0.1232</td>\n      <td>0.0077</td>\n      <td>-0.0869</td>\n      <td>0.1073</td>\n      <td>0.0348</td>\n      <td>-0.0029</td>\n      <td>-0.0446</td>\n      <td>...</td>\n      <td>-0.0149</td>\n      <td>0.0741</td>\n      <td>-0.0251</td>\n      <td>-0.0362</td>\n      <td>0.0165</td>\n      <td>0.0552</td>\n      <td>0.0865</td>\n      <td>0.0139</td>\n      <td>0.0606</td>\n      <td>-0.0425</td>\n    </tr>\n    <tr>\n      <th>3</th>\n      <td>sequence_20048</td>\n      <td>39.8</td>\n      <td>-0.0473</td>\n      <td>-0.1244</td>\n      <td>0.0051</td>\n      <td>-0.0891</td>\n      <td>0.1082</td>\n      <td>0.0322</td>\n      <td>-0.0016</td>\n      <td>-0.0450</td>\n      <td>...</td>\n      <td>-0.0179</td>\n      <td>0.0725</td>\n      <td>-0.0255</td>\n      <td>-0.0354</td>\n      <td>0.0158</td>\n      <td>0.0533</td>\n      <td>0.0889</td>\n      <td>0.0162</td>\n      <td>0.0624</td>\n      <td>-0.0455</td>\n    </tr>\n    <tr>\n      <th>4</th>\n      <td>sequence_20036</td>\n      <td>52.9</td>\n      <td>-0.0459</td>\n      <td>-0.1225</td>\n      <td>0.0073</td>\n      <td>-0.0893</td>\n      <td>0.1096</td>\n      <td>0.0328</td>\n      <td>-0.0034</td>\n      <td>-0.0460</td>\n      <td>...</td>\n      <td>-0.0167</td>\n      <td>0.0718</td>\n      <td>-0.0253</td>\n      <td>-0.0373</td>\n      <td>0.0145</td>\n      <td>0.0553</td>\n      <td>0.0878</td>\n      <td>0.0150</td>\n      <td>0.0608</td>\n      <td>-0.0423</td>\n    </tr>\n    <tr>\n      <th>...</th>\n      <td>...</td>\n      <td>...</td>\n      <td>...</td>\n      <td>...</td>\n      <td>...</td>\n      <td>...</td>\n      <td>...</td>\n      <td>...</td>\n      <td>...</td>\n      <td>...</td>\n      <td>...</td>\n      <td>...</td>\n      <td>...</td>\n      <td>...</td>\n      <td>...</td>\n      <td>...</td>\n      <td>...</td>\n      <td>...</td>\n      <td>...</td>\n      <td>...</td>\n      <td>...</td>\n    </tr>\n    <tr>\n      <th>256</th>\n      <td>sequence_19347</td>\n      <td>58.9</td>\n      <td>-0.0464</td>\n      <td>-0.1226</td>\n      <td>0.0091</td>\n      <td>-0.0853</td>\n      <td>0.1067</td>\n      <td>0.0320</td>\n      <td>-0.0041</td>\n      <td>-0.0449</td>\n      <td>...</td>\n      <td>-0.0173</td>\n      <td>0.0713</td>\n      <td>-0.0270</td>\n      <td>-0.0370</td>\n      <td>0.0167</td>\n      <td>0.0525</td>\n      <td>0.0862</td>\n      <td>0.0139</td>\n      <td>0.0641</td>\n      <td>-0.0434</td>\n    </tr>\n    <tr>\n      <th>257</th>\n      <td>sequence_19379</td>\n      <td>50.3</td>\n      <td>-0.0464</td>\n      <td>-0.1216</td>\n      <td>0.0099</td>\n      <td>-0.0860</td>\n      <td>0.1063</td>\n      <td>0.0307</td>\n      <td>-0.0041</td>\n      <td>-0.0459</td>\n      <td>...</td>\n      <td>-0.0177</td>\n      <td>0.0703</td>\n      <td>-0.0274</td>\n      <td>-0.0385</td>\n      <td>0.0170</td>\n      <td>0.0526</td>\n      <td>0.0857</td>\n      <td>0.0145</td>\n      <td>0.0633</td>\n      <td>-0.0427</td>\n    </tr>\n    <tr>\n      <th>258</th>\n      <td>sequence_19348</td>\n      <td>46.7</td>\n      <td>-0.0472</td>\n      <td>-0.1247</td>\n      <td>0.0066</td>\n      <td>-0.0854</td>\n      <td>0.1066</td>\n      <td>0.0318</td>\n      <td>-0.0028</td>\n      <td>-0.0418</td>\n      <td>...</td>\n      <td>-0.0203</td>\n      <td>0.0711</td>\n      <td>-0.0253</td>\n      <td>-0.0379</td>\n      <td>0.0181</td>\n      <td>0.0524</td>\n      <td>0.0885</td>\n      <td>0.0165</td>\n      <td>0.0633</td>\n      <td>-0.0443</td>\n    </tr>\n    <tr>\n      <th>259</th>\n      <td>sequence_19380</td>\n      <td>48.1</td>\n      <td>-0.0472</td>\n      <td>-0.1236</td>\n      <td>0.0074</td>\n      <td>-0.0861</td>\n      <td>0.1062</td>\n      <td>0.0305</td>\n      <td>-0.0028</td>\n      <td>-0.0428</td>\n      <td>...</td>\n      <td>-0.0207</td>\n      <td>0.0700</td>\n      <td>-0.0258</td>\n      <td>-0.0394</td>\n      <td>0.0184</td>\n      <td>0.0525</td>\n      <td>0.0880</td>\n      <td>0.0170</td>\n      <td>0.0625</td>\n      <td>-0.0437</td>\n    </tr>\n    <tr>\n      <th>260</th>\n      <td>sequence_19401</td>\n      <td>47.4</td>\n      <td>-0.0466</td>\n      <td>-0.1215</td>\n      <td>0.0093</td>\n      <td>-0.0860</td>\n      <td>0.1052</td>\n      <td>0.0312</td>\n      <td>-0.0051</td>\n      <td>-0.0450</td>\n      <td>...</td>\n      <td>-0.0174</td>\n      <td>0.0723</td>\n      <td>-0.0278</td>\n      <td>-0.0386</td>\n      <td>0.0171</td>\n      <td>0.0533</td>\n      <td>0.0860</td>\n      <td>0.0134</td>\n      <td>0.0632</td>\n      <td>-0.0416</td>\n    </tr>\n  </tbody>\n</table>\n<p>261 rows × 514 columns</p>\n</div>"
     },
     "execution_count": 20,
     "metadata": {},
     "output_type": "execute_result"
    }
   ],
   "source": [
    "df_data = pd.read_csv(\"../../results_demo/T50/NLP/fasttext/fasttext-T50.csv\")\n",
    "df_data"
   ]
  },
  {
   "cell_type": "code",
   "execution_count": 21,
   "metadata": {
    "pycharm": {
     "name": "#%%\n"
    }
   },
   "outputs": [],
   "source": [
    "def get_performance_clustering(data, labels):\n",
    "    siluetas = metrics.silhouette_score(data, labels, metric='euclidean')\n",
    "    calinski = metrics.calinski_harabasz_score(data, labels)\n",
    "    davies = metrics.davies_bouldin_score(data, labels)\n",
    "\n",
    "    return siluetas, calinski, davies"
   ]
  },
  {
   "cell_type": "code",
   "execution_count": 22,
   "metadata": {
    "pycharm": {
     "name": "#%%\n"
    }
   },
   "outputs": [],
   "source": [
    "#ignoramos y removemos las columnas que no ocuparemos para el clustering\n",
    "df_sub = pd.DataFrame()\n",
    "df_sub['secuencia']=df_data['id']\n",
    "ignore_columns = pd.DataFrame()\n",
    "ignore_columns['id'] = df_data['id']\n",
    "ignore_columns['target'] = df_data['target']\n",
    "\n",
    "df_data = df_data.drop(columns=['id', 'target'])"
   ]
  },
  {
   "cell_type": "code",
   "execution_count": 23,
   "metadata": {
    "pycharm": {
     "name": "#%%\n"
    }
   },
   "outputs": [],
   "source": [
    "#exploramos KNN\n",
    "matrix_result = []\n",
    "for k in range(2, 30):\n",
    "    kmeans = KMeans(n_clusters=k, random_state=0)\n",
    "    kmeans.fit(df_data)\n",
    "    siluetas, calinski, davies = get_performance_clustering(df_data, kmeans.labels_)\n",
    "    row = [\"k-means-{}\".format(k), siluetas, calinski, davies]\n",
    "    matrix_result.append(row)\n",
    "    df_sub['K-means{}'.format(k)]=kmeans.labels_"
   ]
  },
  {
   "cell_type": "code",
   "execution_count": 24,
   "outputs": [
    {
     "data": {
      "text/plain": "          secuencia  K-means2  K-means3  K-means4  K-means5  K-means6  \\\n0    sequence_53082         0         2         2         3         3   \n1    sequence_19402         0         2         2         4         2   \n2    sequence_20054         1         0         1         1         5   \n3    sequence_20048         0         2         2         4         2   \n4    sequence_20036         0         2         2         4         2   \n..              ...       ...       ...       ...       ...       ...   \n256  sequence_19347         0         1         0         3         3   \n257  sequence_19379         0         1         0         3         3   \n258  sequence_19348         0         2         2         4         2   \n259  sequence_19380         0         2         2         4         2   \n260  sequence_19401         0         1         0         3         3   \n\n     K-means7  K-means8  K-means9  K-means10  ...  K-means20  K-means21  \\\n0           5         6         2          5  ...         18          7   \n1           0         1         8          3  ...          7         12   \n2           3         2         0          8  ...         17         15   \n3           0         5         5          2  ...          9         13   \n4           0         5         5          2  ...         19          6   \n..        ...       ...       ...        ...  ...        ...        ...   \n256         5         6         2          5  ...         16         17   \n257         5         6         2          5  ...         16         17   \n258         0         1         8          3  ...          7          2   \n259         0         1         8          3  ...          7         12   \n260         5         6         2          5  ...         16         17   \n\n     K-means22  K-means23  K-means24  K-means25  K-means26  K-means27  \\\n0            9          9         16          4          8         22   \n1            7         15         19         18         11          6   \n2            8         12         18         12         23         16   \n3            0          2         13          1          0         20   \n4           18         12          4         22          0         16   \n..         ...        ...        ...        ...        ...        ...   \n256         21          6          5          9          5         13   \n257         21          6          5          9          5         13   \n258          6         14         22         14         10         19   \n259          7         14         22          2         11         19   \n260         21          6          5          9          5         13   \n\n     K-means28  K-means29  \n0           25          8  \n1           11         25  \n2           23         28  \n3           26         16  \n4           14         11  \n..         ...        ...  \n256          6          4  \n257          6          4  \n258         18         25  \n259         18         25  \n260          6          4  \n\n[261 rows x 29 columns]",
      "text/html": "<div>\n<style scoped>\n    .dataframe tbody tr th:only-of-type {\n        vertical-align: middle;\n    }\n\n    .dataframe tbody tr th {\n        vertical-align: top;\n    }\n\n    .dataframe thead th {\n        text-align: right;\n    }\n</style>\n<table border=\"1\" class=\"dataframe\">\n  <thead>\n    <tr style=\"text-align: right;\">\n      <th></th>\n      <th>secuencia</th>\n      <th>K-means2</th>\n      <th>K-means3</th>\n      <th>K-means4</th>\n      <th>K-means5</th>\n      <th>K-means6</th>\n      <th>K-means7</th>\n      <th>K-means8</th>\n      <th>K-means9</th>\n      <th>K-means10</th>\n      <th>...</th>\n      <th>K-means20</th>\n      <th>K-means21</th>\n      <th>K-means22</th>\n      <th>K-means23</th>\n      <th>K-means24</th>\n      <th>K-means25</th>\n      <th>K-means26</th>\n      <th>K-means27</th>\n      <th>K-means28</th>\n      <th>K-means29</th>\n    </tr>\n  </thead>\n  <tbody>\n    <tr>\n      <th>0</th>\n      <td>sequence_53082</td>\n      <td>0</td>\n      <td>2</td>\n      <td>2</td>\n      <td>3</td>\n      <td>3</td>\n      <td>5</td>\n      <td>6</td>\n      <td>2</td>\n      <td>5</td>\n      <td>...</td>\n      <td>18</td>\n      <td>7</td>\n      <td>9</td>\n      <td>9</td>\n      <td>16</td>\n      <td>4</td>\n      <td>8</td>\n      <td>22</td>\n      <td>25</td>\n      <td>8</td>\n    </tr>\n    <tr>\n      <th>1</th>\n      <td>sequence_19402</td>\n      <td>0</td>\n      <td>2</td>\n      <td>2</td>\n      <td>4</td>\n      <td>2</td>\n      <td>0</td>\n      <td>1</td>\n      <td>8</td>\n      <td>3</td>\n      <td>...</td>\n      <td>7</td>\n      <td>12</td>\n      <td>7</td>\n      <td>15</td>\n      <td>19</td>\n      <td>18</td>\n      <td>11</td>\n      <td>6</td>\n      <td>11</td>\n      <td>25</td>\n    </tr>\n    <tr>\n      <th>2</th>\n      <td>sequence_20054</td>\n      <td>1</td>\n      <td>0</td>\n      <td>1</td>\n      <td>1</td>\n      <td>5</td>\n      <td>3</td>\n      <td>2</td>\n      <td>0</td>\n      <td>8</td>\n      <td>...</td>\n      <td>17</td>\n      <td>15</td>\n      <td>8</td>\n      <td>12</td>\n      <td>18</td>\n      <td>12</td>\n      <td>23</td>\n      <td>16</td>\n      <td>23</td>\n      <td>28</td>\n    </tr>\n    <tr>\n      <th>3</th>\n      <td>sequence_20048</td>\n      <td>0</td>\n      <td>2</td>\n      <td>2</td>\n      <td>4</td>\n      <td>2</td>\n      <td>0</td>\n      <td>5</td>\n      <td>5</td>\n      <td>2</td>\n      <td>...</td>\n      <td>9</td>\n      <td>13</td>\n      <td>0</td>\n      <td>2</td>\n      <td>13</td>\n      <td>1</td>\n      <td>0</td>\n      <td>20</td>\n      <td>26</td>\n      <td>16</td>\n    </tr>\n    <tr>\n      <th>4</th>\n      <td>sequence_20036</td>\n      <td>0</td>\n      <td>2</td>\n      <td>2</td>\n      <td>4</td>\n      <td>2</td>\n      <td>0</td>\n      <td>5</td>\n      <td>5</td>\n      <td>2</td>\n      <td>...</td>\n      <td>19</td>\n      <td>6</td>\n      <td>18</td>\n      <td>12</td>\n      <td>4</td>\n      <td>22</td>\n      <td>0</td>\n      <td>16</td>\n      <td>14</td>\n      <td>11</td>\n    </tr>\n    <tr>\n      <th>...</th>\n      <td>...</td>\n      <td>...</td>\n      <td>...</td>\n      <td>...</td>\n      <td>...</td>\n      <td>...</td>\n      <td>...</td>\n      <td>...</td>\n      <td>...</td>\n      <td>...</td>\n      <td>...</td>\n      <td>...</td>\n      <td>...</td>\n      <td>...</td>\n      <td>...</td>\n      <td>...</td>\n      <td>...</td>\n      <td>...</td>\n      <td>...</td>\n      <td>...</td>\n      <td>...</td>\n    </tr>\n    <tr>\n      <th>256</th>\n      <td>sequence_19347</td>\n      <td>0</td>\n      <td>1</td>\n      <td>0</td>\n      <td>3</td>\n      <td>3</td>\n      <td>5</td>\n      <td>6</td>\n      <td>2</td>\n      <td>5</td>\n      <td>...</td>\n      <td>16</td>\n      <td>17</td>\n      <td>21</td>\n      <td>6</td>\n      <td>5</td>\n      <td>9</td>\n      <td>5</td>\n      <td>13</td>\n      <td>6</td>\n      <td>4</td>\n    </tr>\n    <tr>\n      <th>257</th>\n      <td>sequence_19379</td>\n      <td>0</td>\n      <td>1</td>\n      <td>0</td>\n      <td>3</td>\n      <td>3</td>\n      <td>5</td>\n      <td>6</td>\n      <td>2</td>\n      <td>5</td>\n      <td>...</td>\n      <td>16</td>\n      <td>17</td>\n      <td>21</td>\n      <td>6</td>\n      <td>5</td>\n      <td>9</td>\n      <td>5</td>\n      <td>13</td>\n      <td>6</td>\n      <td>4</td>\n    </tr>\n    <tr>\n      <th>258</th>\n      <td>sequence_19348</td>\n      <td>0</td>\n      <td>2</td>\n      <td>2</td>\n      <td>4</td>\n      <td>2</td>\n      <td>0</td>\n      <td>1</td>\n      <td>8</td>\n      <td>3</td>\n      <td>...</td>\n      <td>7</td>\n      <td>2</td>\n      <td>6</td>\n      <td>14</td>\n      <td>22</td>\n      <td>14</td>\n      <td>10</td>\n      <td>19</td>\n      <td>18</td>\n      <td>25</td>\n    </tr>\n    <tr>\n      <th>259</th>\n      <td>sequence_19380</td>\n      <td>0</td>\n      <td>2</td>\n      <td>2</td>\n      <td>4</td>\n      <td>2</td>\n      <td>0</td>\n      <td>1</td>\n      <td>8</td>\n      <td>3</td>\n      <td>...</td>\n      <td>7</td>\n      <td>12</td>\n      <td>7</td>\n      <td>14</td>\n      <td>22</td>\n      <td>2</td>\n      <td>11</td>\n      <td>19</td>\n      <td>18</td>\n      <td>25</td>\n    </tr>\n    <tr>\n      <th>260</th>\n      <td>sequence_19401</td>\n      <td>0</td>\n      <td>1</td>\n      <td>0</td>\n      <td>3</td>\n      <td>3</td>\n      <td>5</td>\n      <td>6</td>\n      <td>2</td>\n      <td>5</td>\n      <td>...</td>\n      <td>16</td>\n      <td>17</td>\n      <td>21</td>\n      <td>6</td>\n      <td>5</td>\n      <td>9</td>\n      <td>5</td>\n      <td>13</td>\n      <td>6</td>\n      <td>4</td>\n    </tr>\n  </tbody>\n</table>\n<p>261 rows × 29 columns</p>\n</div>"
     },
     "execution_count": 24,
     "metadata": {},
     "output_type": "execute_result"
    }
   ],
   "source": [
    "df_sub"
   ],
   "metadata": {
    "collapsed": false,
    "pycharm": {
     "name": "#%%\n"
    }
   }
  },
  {
   "cell_type": "code",
   "execution_count": 15,
   "outputs": [
    {
     "data": {
      "text/plain": "'k-means-3'"
     },
     "execution_count": 15,
     "metadata": {},
     "output_type": "execute_result"
    }
   ],
   "source": [
    "#seleccionamos el mejor\n",
    "import numpy as np\n",
    "\n",
    "highest_siluetas = np.max(df_explore['siluetas'])\n",
    "highest_calinski = np.max(df_explore['calinski'])\n",
    "\n",
    "# filtramos\n",
    "df_filter_by_siluetas = df_explore.loc[df_explore['siluetas'] >= highest_siluetas]\n",
    "df_filter_by_calinski = df_explore.loc[df_explore['calinski'] >= highest_calinski]\n",
    "\n",
    "df_concat = pd.concat([df_filter_by_siluetas, df_filter_by_calinski])\n",
    "strategies = df_concat['strategy'].unique()\n",
    "strategies[0]\n"
   ],
   "metadata": {
    "collapsed": false,
    "pycharm": {
     "name": "#%%\n"
    }
   }
  },
  {
   "cell_type": "code",
   "execution_count": 16,
   "outputs": [],
   "source": [
    "kmeans = KMeans(n_clusters=3, random_state=0)\n",
    "kmeans.fit(df_data)\n",
    "ignore_columns['labels'] = kmeans.labels_\n",
    "\n",
    "ignore_columns.to_csv(\"../../results_demo/absorption/NLP/bepler/unsupervised_clustering_sequences_kmeans.csv\")"
   ],
   "metadata": {
    "collapsed": false,
    "pycharm": {
     "name": "#%%\n"
    }
   }
  },
  {
   "cell_type": "code",
   "execution_count": 34,
   "outputs": [],
   "source": [
    "#exploramos BIRCH\n",
    "matrix_result = []\n",
    "for k in range(2, 30):\n",
    "    birch = Birch(n_clusters=k,threshold=0.006)\n",
    "    birch.fit(df_data)\n",
    "    siluetas, calinski, davies = get_performance_clustering(df_data, birch.labels_)\n",
    "    row = [\"birch-{}\".format(k), siluetas, calinski, davies]\n",
    "    matrix_result.append(row)\n",
    "\n",
    "df_explore = pd.DataFrame(matrix_result, columns=['strategy', 'siluetas', 'calinski', 'davies'])\n",
    "df_explore.to_csv(\"../../results_demo/absorption/NLP/fasttext/results_birch.csv\")"
   ],
   "metadata": {
    "collapsed": false,
    "pycharm": {
     "name": "#%%\n"
    }
   }
  },
  {
   "cell_type": "code",
   "execution_count": 8,
   "outputs": [
    {
     "data": {
      "text/plain": "array(['birch-3'], dtype=object)"
     },
     "execution_count": 8,
     "metadata": {},
     "output_type": "execute_result"
    }
   ],
   "source": [
    "#seleccionamos el mejor\n",
    "import numpy as np\n",
    "\n",
    "highest_siluetas = np.max(df_explore['siluetas'])\n",
    "highest_calinski = np.max(df_explore['calinski'])\n",
    "\n",
    "# filtramos\n",
    "df_filter_by_siluetas = df_explore.loc[df_explore['siluetas'] >= highest_siluetas]\n",
    "df_filter_by_calinski = df_explore.loc[df_explore['calinski'] >= highest_calinski]\n",
    "\n",
    "df_concat = pd.concat([df_filter_by_siluetas, df_filter_by_calinski])\n",
    "strategies = df_concat['strategy'].unique()\n",
    "strategies"
   ],
   "metadata": {
    "collapsed": false,
    "pycharm": {
     "name": "#%%\n"
    }
   }
  },
  {
   "cell_type": "code",
   "execution_count": 51,
   "outputs": [],
   "source": [
    "birch = Birch(n_clusters=3,threshold=0.1)\n",
    "birch.fit(df_data)\n",
    "ignore_columns['labels'] = birch.labels_\n",
    "\n",
    "ignore_columns.to_csv(\"../../results_demo/absorption/NLP/bepler/unsupervised_clustering_sequences_birch.csv\")"
   ],
   "metadata": {
    "collapsed": false,
    "pycharm": {
     "name": "#%%\n"
    }
   }
  },
  {
   "cell_type": "code",
   "execution_count": 45,
   "outputs": [],
   "source": [
    "#exploramos Aglomerative\n",
    "matrix_result = []\n",
    "for k in range(2, 30):\n",
    "    aglomerative = AgglomerativeClustering(n_clusters=k)\n",
    "    aglomerative.fit(df_data)\n",
    "    siluetas, calinski, davies = get_performance_clustering(df_data, aglomerative.labels_)\n",
    "    row = [\"aglomerative-{}\".format(k), siluetas, calinski, davies]\n",
    "    matrix_result.append(row)\n",
    "\n",
    "df_explore = pd.DataFrame(matrix_result, columns=['strategy', 'siluetas', 'calinski', 'davies'])\n",
    "df_explore.to_csv(\"../../results_demo/absorption/NLP/bepler/results_aglomerative.csv\")"
   ],
   "metadata": {
    "collapsed": false,
    "pycharm": {
     "name": "#%%\n"
    }
   }
  },
  {
   "cell_type": "code",
   "execution_count": 50,
   "metadata": {
    "pycharm": {
     "name": "#%%\n"
    }
   },
   "outputs": [
    {
     "data": {
      "text/plain": "array(['aglomerative-10', 'aglomerative-2'], dtype=object)"
     },
     "execution_count": 50,
     "metadata": {},
     "output_type": "execute_result"
    }
   ],
   "source": [
    "#seleccionamos el mejor\n",
    "import numpy as np\n",
    "\n",
    "highest_siluetas = np.max(df_explore['siluetas'])\n",
    "highest_calinski = np.max(df_explore['calinski'])\n",
    "\n",
    "# filtramos\n",
    "df_filter_by_siluetas = df_explore.loc[df_explore['siluetas'] >= highest_siluetas]\n",
    "df_filter_by_calinski = df_explore.loc[df_explore['calinski'] >= highest_calinski]\n",
    "\n",
    "df_concat = pd.concat([df_filter_by_siluetas, df_filter_by_calinski])\n",
    "strategies = df_concat['strategy'].unique()"
   ]
  },
  {
   "cell_type": "code",
   "execution_count": 61,
   "outputs": [
    {
     "name": "stdout",
     "output_type": "stream",
     "text": [
      "10\n"
     ]
    }
   ],
   "source": [
    "try:\n",
    "    print(strategies[0][13]+strategies[0][14])\n",
    "except:\n",
    "    print(strategies[0][13])"
   ],
   "metadata": {
    "collapsed": false,
    "pycharm": {
     "name": "#%%\n"
    }
   }
  },
  {
   "cell_type": "code",
   "execution_count": 62,
   "outputs": [
    {
     "name": "stdout",
     "output_type": "stream",
     "text": [
      "2\n"
     ]
    }
   ],
   "source": [
    "try:\n",
    "    print(strategies[1][13]+strategies[1][14])\n",
    "except:\n",
    "    print(strategies[1][13])"
   ],
   "metadata": {
    "collapsed": false,
    "pycharm": {
     "name": "#%%\n"
    }
   }
  },
  {
   "cell_type": "code",
   "execution_count": 44,
   "outputs": [],
   "source": [
    "# en este caso salio el mejor k-means=2\n",
    "aglomerative = AgglomerativeClustering(n_clusters=3)\n",
    "aglomerative.fit(df_data)\n",
    "ignore_columns['labels'] = aglomerative.labels_\n",
    "\n",
    "ignore_columns.to_csv(\"../../results_demo/absorption/NLP/bepler/unsupervised_clustering_sequences_aglomerative.csv\")"
   ],
   "metadata": {
    "collapsed": false,
    "pycharm": {
     "name": "#%%\n"
    }
   }
  },
  {
   "cell_type": "code",
   "execution_count": null,
   "outputs": [],
   "source": [],
   "metadata": {
    "collapsed": false,
    "pycharm": {
     "name": "#%%\n"
    }
   }
  }
 ],
 "metadata": {
  "kernelspec": {
   "display_name": "Python 3.10.6 ('deep_learning_exploring')",
   "language": "python",
   "name": "python3"
  },
  "language_info": {
   "codemirror_mode": {
    "name": "ipython",
    "version": 3
   },
   "file_extension": ".py",
   "mimetype": "text/x-python",
   "name": "python",
   "nbconvert_exporter": "python",
   "pygments_lexer": "ipython3",
   "version": "3.10.6"
  },
  "orig_nbformat": 4,
  "vscode": {
   "interpreter": {
    "hash": "40e745f296283c3457427b1d4d0e6f488c7d44751c90dcd83420fd4dcb83c0cc"
   }
  }
 },
 "nbformat": 4,
 "nbformat_minor": 2
}
