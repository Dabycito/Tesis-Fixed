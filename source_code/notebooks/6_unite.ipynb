{
 "cells": [
  {
   "cell_type": "code",
   "execution_count": 6,
   "outputs": [
    {
     "name": "stdout",
     "output_type": "stream",
     "text": [
      "Collecting openpyxl\n",
      "  Downloading openpyxl-3.1.0-py2.py3-none-any.whl (250 kB)\n",
      "     -------------------------------------- 250.0/250.0 kB 1.9 MB/s eta 0:00:00\n",
      "Collecting et-xmlfile\n",
      "  Downloading et_xmlfile-1.1.0-py3-none-any.whl (4.7 kB)\n",
      "Installing collected packages: et-xmlfile, openpyxl\n",
      "Successfully installed et-xmlfile-1.1.0 openpyxl-3.1.0\n",
      "Note: you may need to restart the kernel to use updated packages.\n"
     ]
    },
    {
     "name": "stderr",
     "output_type": "stream",
     "text": [
      "\n",
      "[notice] A new release of pip available: 22.3.1 -> 23.0\n",
      "[notice] To update, run: python.exe -m pip install --upgrade pip\n"
     ]
    }
   ],
   "source": [
    "pip install openpyxl"
   ],
   "metadata": {
    "collapsed": false,
    "pycharm": {
     "name": "#%%\n"
    }
   }
  },
  {
   "cell_type": "code",
   "execution_count": 7,
   "outputs": [],
   "source": [
    "import os\n",
    "import pandas as pd\n",
    "from openpyxl import *"
   ],
   "metadata": {
    "collapsed": false,
    "pycharm": {
     "name": "#%%\n"
    }
   }
  },
  {
   "cell_type": "code",
   "execution_count": 8,
   "outputs": [],
   "source": [
    "dataset = {\n",
    "    0 : \"absorption\",\n",
    "    1 : \"enantioselectivity\",\n",
    "    2 : \"localization\",\n",
    "    3 : \"T50\"\n",
    "}\n",
    "method = {\n",
    "    0:\"FFT\",\n",
    "    1:\"NLP\",\n",
    "    2:\"Properties\"\n",
    "}\n",
    "bioembedding = {\n",
    "    0:\"bepler\",\n",
    "    1:\"esm\",\n",
    "    2:\"fasttext\",\n",
    "    3:\"plus_rnn\",\n",
    "    4:\"prottrans\"\n",
    "}\n",
    "distances = {\n",
    "    1 : \"Euclidean\",\n",
    "    2 : \"Braycurtis\",\n",
    "    3 : \"Canberra\",\n",
    "    4 : \"Chebyshev\",\n",
    "    5 : \"Cityblock\",\n",
    "    6 : \"Correlation\",\n",
    "    7 : \"Cosine\",\n",
    "    8 : \"Minkowski\",\n",
    "    9 : \"Hamming\"\n",
    "}\n",
    "absorption_parent = {\n",
    "    0 : \"sequence_40826\",\n",
    "}\n",
    "localization_parent = {\n",
    "    0 : \"sequence_51016\",\n",
    "    1 : \"sequence_51170\",\n",
    "    2 : \"sequence_32130\",\n",
    "}\n",
    "enantio_parent = {\n",
    "    0 : \"sequence_47787\",\n",
    "}\n",
    "t50_parent = {\n",
    "    0 : \"sequence_53082\",\n",
    "    1 : \"sequence_19402\",\n",
    "    2 : \"sequence_20054\",\n",
    "}"
   ],
   "metadata": {
    "collapsed": false,
    "pycharm": {
     "name": "#%%\n"
    }
   }
  },
  {
   "cell_type": "code",
   "execution_count": 9,
   "outputs": [],
   "source": [
    "for a in range (0,4): #Se elije el dataset\n",
    "    for b in range(0,3): #Se elije el metodo de representacion numerica\n",
    "        if b==1: #Si es NLP entra a este if\n",
    "            for c in range(0,5): #Cual de los 5 metodos de PLM\n",
    "                for d in range(1,10):\n",
    "                    pd.read_csv(\"../../results_demo/\"+dataset[a]+\"/\"+method[b]+\"/\"+bioembedding[c]+\"/\"+distances[d]+\"/cluster_unite_without.csv\").to_excel(\"../../results_demo/unite_without/\"+dataset[a]+\"_\"+method[b]+\"_\"+bioembedding[c]+\"_\"+distances[d]+\".xlsx\")\n",
    "        if b==0:\n",
    "            for c in range(0,8):\n",
    "                for d in range(1,10):\n",
    "                    pd.read_csv(\"../../results_demo/\"+dataset[a]+\"/\"+method[b]+\"/Group_\"+str(c)+\"/\"+distances[d]+\"/cluster_unite_without.csv\").to_excel(\"../../results_demo/unite_without/\"+dataset[a]+\"_\"+method[b]+\"_Group\"+str(c)+\"_\"+distances[d]+\".xlsx\")\n",
    "        if b==2:\n",
    "            for c in range(0,8):\n",
    "                for d in range(1,10):\n",
    "                    pd.read_csv(\"../../results_demo/\"+dataset[a]+\"/\"+method[b]+\"/Group_\"+str(c)+\"/\"+distances[d]+\"/cluster_unite_without.csv\").to_excel(\"../../results_demo/unite_without/\"+dataset[a]+\"_\"+method[b]+\"_Group\"+str(c)+\"_\"+distances[d]+\".xlsx\")"
   ],
   "metadata": {
    "collapsed": false,
    "pycharm": {
     "name": "#%%\n"
    }
   }
  },
  {
   "cell_type": "code",
   "execution_count": null,
   "outputs": [],
   "source": [],
   "metadata": {
    "collapsed": false,
    "pycharm": {
     "name": "#%%\n"
    }
   }
  }
 ],
 "metadata": {
  "kernelspec": {
   "display_name": "Python 3",
   "language": "python",
   "name": "python3"
  },
  "language_info": {
   "codemirror_mode": {
    "name": "ipython",
    "version": 2
   },
   "file_extension": ".py",
   "mimetype": "text/x-python",
   "name": "python",
   "nbconvert_exporter": "python",
   "pygments_lexer": "ipython2",
   "version": "2.7.6"
  }
 },
 "nbformat": 4,
 "nbformat_minor": 0
}