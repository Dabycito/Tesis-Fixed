{
 "cells": [
  {
   "cell_type": "code",
   "execution_count": 1,
   "metadata": {
    "collapsed": true,
    "pycharm": {
     "name": "#%%\n"
    }
   },
   "outputs": [],
   "source": [
    "import pandas as pd"
   ]
  },
  {
   "cell_type": "code",
   "execution_count": 2,
   "outputs": [],
   "source": [
    "df = pd.read_csv(\"../../results_demo/absorption/FFT/Group_0/Minkowski/generated_profiles.csv\")\n",
    "df_distances = pd.read_csv(\"../../results_demo/absorption/FFT/Group_0/Minkowski/distance_estimator.csv\")"
   ],
   "metadata": {
    "collapsed": false,
    "pycharm": {
     "name": "#%%\n"
    }
   }
  },
  {
   "cell_type": "code",
   "execution_count": 6,
   "outputs": [
    {
     "data": {
      "text/plain": "3"
     },
     "execution_count": 6,
     "metadata": {},
     "output_type": "execute_result"
    }
   ],
   "source": [
    "a = df.profile.unique()\n",
    "len(a)"
   ],
   "metadata": {
    "collapsed": false,
    "pycharm": {
     "name": "#%%\n"
    }
   }
  },
  {
   "cell_type": "code",
   "execution_count": 71,
   "outputs": [],
   "source": [
    "df_00 = (df[\"profile\"] == \"0-0\")\n",
    "df_01 = (df[\"profile\"] == \"0-1\")\n",
    "df_10 = (df[\"profile\"] == \"1-0\")\n",
    "df_11 = (df[\"profile\"] == \"1-1\")\n",
    "df_20 = (df[\"profile\"] == \"2-0\")"
   ],
   "metadata": {
    "collapsed": false,
    "pycharm": {
     "name": "#%%\n"
    }
   }
  },
  {
   "cell_type": "code",
   "execution_count": 72,
   "outputs": [],
   "source": [
    "clus00 = df[df_00]\n",
    "clus01 = df[df_01]\n",
    "clus10 = df[df_10]\n",
    "clus11 = df[df_11]\n",
    "clus20 = df[df_20]"
   ],
   "metadata": {
    "collapsed": false,
    "pycharm": {
     "name": "#%%\n"
    }
   }
  },
  {
   "cell_type": "code",
   "execution_count": 73,
   "outputs": [
    {
     "data": {
      "text/plain": "                id  label  target  labels profile\n1   sequence_40814      0     510       0     0-0\n2   sequence_40804      0     561       0     0-0\n3   sequence_40789      0     510       0     0-0\n4   sequence_40838      0     531       0     0-0\n6   sequence_40834      0     546       0     0-0\n7   sequence_40790      0     523       0     0-0\n9   sequence_40805      0     564       0     0-0\n10  sequence_40836      0     543       0     0-0\n11  sequence_40855      0     522       0     0-0\n14  sequence_40826      0     539       0     0-0\n16  sequence_40794      0     519       0     0-0\n17  sequence_40787      0     510       0     0-0\n19  sequence_40859      0     543       0     0-0\n20  sequence_40807      0     528       0     0-0\n21  sequence_40808      0     543       0     0-0\n22  sequence_40818      0     522       0     0-0\n23  sequence_40792      0     517       0     0-0\n24  sequence_40819      0     532       0     0-0\n25  sequence_40839      0     538       0     0-0\n26  sequence_40795      0     562       0     0-0\n27  sequence_40860      0     535       0     0-0\n28  sequence_40817      0     528       0     0-0\n29  sequence_40800      0     558       0     0-0\n31  sequence_40840      0     528       0     0-0\n34  sequence_40863      0     566       0     0-0\n36  sequence_40802      0     560       0     0-0\n38  sequence_40862      0     546       0     0-0\n39  sequence_40809      0     528       0     0-0\n43  sequence_40833      0     549       0     0-0\n44  sequence_40864      0     549       0     0-0\n45  sequence_40806      0     525       0     0-0\n46  sequence_40820      0     543       0     0-0\n49  sequence_40810      0     549       0     0-0\n50  sequence_40803      0     549       0     0-0\n51  sequence_40823      0     546       0     0-0\n53  sequence_40857      0     522       0     0-0\n57  sequence_40811      0     534       0     0-0\n59  sequence_40842      0     522       0     0-0\n60  sequence_40825      0     532       0     0-0\n61  sequence_40845      0     495       0     0-0\n62  sequence_40832      0     555       0     0-0\n64  sequence_40835      0     535       0     0-0\n65  sequence_40821      0     549       0     0-0\n67  sequence_40844      0     519       0     0-0\n68  sequence_40824      0     523       0     0-0\n69  sequence_40822      0     549       0     0-0\n71  sequence_40841      0     528       0     0-0\n72  sequence_40816      0     531       0     0-0\n73  sequence_40813      0     528       0     0-0\n75  sequence_40837      0     543       0     0-0\n77  sequence_40797      0     558       0     0-0",
      "text/html": "<div>\n<style scoped>\n    .dataframe tbody tr th:only-of-type {\n        vertical-align: middle;\n    }\n\n    .dataframe tbody tr th {\n        vertical-align: top;\n    }\n\n    .dataframe thead th {\n        text-align: right;\n    }\n</style>\n<table border=\"1\" class=\"dataframe\">\n  <thead>\n    <tr style=\"text-align: right;\">\n      <th></th>\n      <th>id</th>\n      <th>label</th>\n      <th>target</th>\n      <th>labels</th>\n      <th>profile</th>\n    </tr>\n  </thead>\n  <tbody>\n    <tr>\n      <th>1</th>\n      <td>sequence_40814</td>\n      <td>0</td>\n      <td>510</td>\n      <td>0</td>\n      <td>0-0</td>\n    </tr>\n    <tr>\n      <th>2</th>\n      <td>sequence_40804</td>\n      <td>0</td>\n      <td>561</td>\n      <td>0</td>\n      <td>0-0</td>\n    </tr>\n    <tr>\n      <th>3</th>\n      <td>sequence_40789</td>\n      <td>0</td>\n      <td>510</td>\n      <td>0</td>\n      <td>0-0</td>\n    </tr>\n    <tr>\n      <th>4</th>\n      <td>sequence_40838</td>\n      <td>0</td>\n      <td>531</td>\n      <td>0</td>\n      <td>0-0</td>\n    </tr>\n    <tr>\n      <th>6</th>\n      <td>sequence_40834</td>\n      <td>0</td>\n      <td>546</td>\n      <td>0</td>\n      <td>0-0</td>\n    </tr>\n    <tr>\n      <th>7</th>\n      <td>sequence_40790</td>\n      <td>0</td>\n      <td>523</td>\n      <td>0</td>\n      <td>0-0</td>\n    </tr>\n    <tr>\n      <th>9</th>\n      <td>sequence_40805</td>\n      <td>0</td>\n      <td>564</td>\n      <td>0</td>\n      <td>0-0</td>\n    </tr>\n    <tr>\n      <th>10</th>\n      <td>sequence_40836</td>\n      <td>0</td>\n      <td>543</td>\n      <td>0</td>\n      <td>0-0</td>\n    </tr>\n    <tr>\n      <th>11</th>\n      <td>sequence_40855</td>\n      <td>0</td>\n      <td>522</td>\n      <td>0</td>\n      <td>0-0</td>\n    </tr>\n    <tr>\n      <th>14</th>\n      <td>sequence_40826</td>\n      <td>0</td>\n      <td>539</td>\n      <td>0</td>\n      <td>0-0</td>\n    </tr>\n    <tr>\n      <th>16</th>\n      <td>sequence_40794</td>\n      <td>0</td>\n      <td>519</td>\n      <td>0</td>\n      <td>0-0</td>\n    </tr>\n    <tr>\n      <th>17</th>\n      <td>sequence_40787</td>\n      <td>0</td>\n      <td>510</td>\n      <td>0</td>\n      <td>0-0</td>\n    </tr>\n    <tr>\n      <th>19</th>\n      <td>sequence_40859</td>\n      <td>0</td>\n      <td>543</td>\n      <td>0</td>\n      <td>0-0</td>\n    </tr>\n    <tr>\n      <th>20</th>\n      <td>sequence_40807</td>\n      <td>0</td>\n      <td>528</td>\n      <td>0</td>\n      <td>0-0</td>\n    </tr>\n    <tr>\n      <th>21</th>\n      <td>sequence_40808</td>\n      <td>0</td>\n      <td>543</td>\n      <td>0</td>\n      <td>0-0</td>\n    </tr>\n    <tr>\n      <th>22</th>\n      <td>sequence_40818</td>\n      <td>0</td>\n      <td>522</td>\n      <td>0</td>\n      <td>0-0</td>\n    </tr>\n    <tr>\n      <th>23</th>\n      <td>sequence_40792</td>\n      <td>0</td>\n      <td>517</td>\n      <td>0</td>\n      <td>0-0</td>\n    </tr>\n    <tr>\n      <th>24</th>\n      <td>sequence_40819</td>\n      <td>0</td>\n      <td>532</td>\n      <td>0</td>\n      <td>0-0</td>\n    </tr>\n    <tr>\n      <th>25</th>\n      <td>sequence_40839</td>\n      <td>0</td>\n      <td>538</td>\n      <td>0</td>\n      <td>0-0</td>\n    </tr>\n    <tr>\n      <th>26</th>\n      <td>sequence_40795</td>\n      <td>0</td>\n      <td>562</td>\n      <td>0</td>\n      <td>0-0</td>\n    </tr>\n    <tr>\n      <th>27</th>\n      <td>sequence_40860</td>\n      <td>0</td>\n      <td>535</td>\n      <td>0</td>\n      <td>0-0</td>\n    </tr>\n    <tr>\n      <th>28</th>\n      <td>sequence_40817</td>\n      <td>0</td>\n      <td>528</td>\n      <td>0</td>\n      <td>0-0</td>\n    </tr>\n    <tr>\n      <th>29</th>\n      <td>sequence_40800</td>\n      <td>0</td>\n      <td>558</td>\n      <td>0</td>\n      <td>0-0</td>\n    </tr>\n    <tr>\n      <th>31</th>\n      <td>sequence_40840</td>\n      <td>0</td>\n      <td>528</td>\n      <td>0</td>\n      <td>0-0</td>\n    </tr>\n    <tr>\n      <th>34</th>\n      <td>sequence_40863</td>\n      <td>0</td>\n      <td>566</td>\n      <td>0</td>\n      <td>0-0</td>\n    </tr>\n    <tr>\n      <th>36</th>\n      <td>sequence_40802</td>\n      <td>0</td>\n      <td>560</td>\n      <td>0</td>\n      <td>0-0</td>\n    </tr>\n    <tr>\n      <th>38</th>\n      <td>sequence_40862</td>\n      <td>0</td>\n      <td>546</td>\n      <td>0</td>\n      <td>0-0</td>\n    </tr>\n    <tr>\n      <th>39</th>\n      <td>sequence_40809</td>\n      <td>0</td>\n      <td>528</td>\n      <td>0</td>\n      <td>0-0</td>\n    </tr>\n    <tr>\n      <th>43</th>\n      <td>sequence_40833</td>\n      <td>0</td>\n      <td>549</td>\n      <td>0</td>\n      <td>0-0</td>\n    </tr>\n    <tr>\n      <th>44</th>\n      <td>sequence_40864</td>\n      <td>0</td>\n      <td>549</td>\n      <td>0</td>\n      <td>0-0</td>\n    </tr>\n    <tr>\n      <th>45</th>\n      <td>sequence_40806</td>\n      <td>0</td>\n      <td>525</td>\n      <td>0</td>\n      <td>0-0</td>\n    </tr>\n    <tr>\n      <th>46</th>\n      <td>sequence_40820</td>\n      <td>0</td>\n      <td>543</td>\n      <td>0</td>\n      <td>0-0</td>\n    </tr>\n    <tr>\n      <th>49</th>\n      <td>sequence_40810</td>\n      <td>0</td>\n      <td>549</td>\n      <td>0</td>\n      <td>0-0</td>\n    </tr>\n    <tr>\n      <th>50</th>\n      <td>sequence_40803</td>\n      <td>0</td>\n      <td>549</td>\n      <td>0</td>\n      <td>0-0</td>\n    </tr>\n    <tr>\n      <th>51</th>\n      <td>sequence_40823</td>\n      <td>0</td>\n      <td>546</td>\n      <td>0</td>\n      <td>0-0</td>\n    </tr>\n    <tr>\n      <th>53</th>\n      <td>sequence_40857</td>\n      <td>0</td>\n      <td>522</td>\n      <td>0</td>\n      <td>0-0</td>\n    </tr>\n    <tr>\n      <th>57</th>\n      <td>sequence_40811</td>\n      <td>0</td>\n      <td>534</td>\n      <td>0</td>\n      <td>0-0</td>\n    </tr>\n    <tr>\n      <th>59</th>\n      <td>sequence_40842</td>\n      <td>0</td>\n      <td>522</td>\n      <td>0</td>\n      <td>0-0</td>\n    </tr>\n    <tr>\n      <th>60</th>\n      <td>sequence_40825</td>\n      <td>0</td>\n      <td>532</td>\n      <td>0</td>\n      <td>0-0</td>\n    </tr>\n    <tr>\n      <th>61</th>\n      <td>sequence_40845</td>\n      <td>0</td>\n      <td>495</td>\n      <td>0</td>\n      <td>0-0</td>\n    </tr>\n    <tr>\n      <th>62</th>\n      <td>sequence_40832</td>\n      <td>0</td>\n      <td>555</td>\n      <td>0</td>\n      <td>0-0</td>\n    </tr>\n    <tr>\n      <th>64</th>\n      <td>sequence_40835</td>\n      <td>0</td>\n      <td>535</td>\n      <td>0</td>\n      <td>0-0</td>\n    </tr>\n    <tr>\n      <th>65</th>\n      <td>sequence_40821</td>\n      <td>0</td>\n      <td>549</td>\n      <td>0</td>\n      <td>0-0</td>\n    </tr>\n    <tr>\n      <th>67</th>\n      <td>sequence_40844</td>\n      <td>0</td>\n      <td>519</td>\n      <td>0</td>\n      <td>0-0</td>\n    </tr>\n    <tr>\n      <th>68</th>\n      <td>sequence_40824</td>\n      <td>0</td>\n      <td>523</td>\n      <td>0</td>\n      <td>0-0</td>\n    </tr>\n    <tr>\n      <th>69</th>\n      <td>sequence_40822</td>\n      <td>0</td>\n      <td>549</td>\n      <td>0</td>\n      <td>0-0</td>\n    </tr>\n    <tr>\n      <th>71</th>\n      <td>sequence_40841</td>\n      <td>0</td>\n      <td>528</td>\n      <td>0</td>\n      <td>0-0</td>\n    </tr>\n    <tr>\n      <th>72</th>\n      <td>sequence_40816</td>\n      <td>0</td>\n      <td>531</td>\n      <td>0</td>\n      <td>0-0</td>\n    </tr>\n    <tr>\n      <th>73</th>\n      <td>sequence_40813</td>\n      <td>0</td>\n      <td>528</td>\n      <td>0</td>\n      <td>0-0</td>\n    </tr>\n    <tr>\n      <th>75</th>\n      <td>sequence_40837</td>\n      <td>0</td>\n      <td>543</td>\n      <td>0</td>\n      <td>0-0</td>\n    </tr>\n    <tr>\n      <th>77</th>\n      <td>sequence_40797</td>\n      <td>0</td>\n      <td>558</td>\n      <td>0</td>\n      <td>0-0</td>\n    </tr>\n  </tbody>\n</table>\n</div>"
     },
     "execution_count": 73,
     "metadata": {},
     "output_type": "execute_result"
    }
   ],
   "source": [
    "clus00"
   ],
   "metadata": {
    "collapsed": false,
    "pycharm": {
     "name": "#%%\n"
    }
   }
  },
  {
   "cell_type": "code",
   "execution_count": 87,
   "outputs": [
    {
     "data": {
      "text/plain": "Empty DataFrame\nColumns: []\nIndex: []",
      "text/html": "<div>\n<style scoped>\n    .dataframe tbody tr th:only-of-type {\n        vertical-align: middle;\n    }\n\n    .dataframe tbody tr th {\n        vertical-align: top;\n    }\n\n    .dataframe thead th {\n        text-align: right;\n    }\n</style>\n<table border=\"1\" class=\"dataframe\">\n  <thead>\n    <tr style=\"text-align: right;\">\n      <th></th>\n    </tr>\n  </thead>\n  <tbody>\n  </tbody>\n</table>\n</div>"
     },
     "execution_count": 87,
     "metadata": {},
     "output_type": "execute_result"
    }
   ],
   "source": [
    "#data = {\"id_seq1\": [\" \"],\"target_seq1\": [\" \"],\"id_seq2\": [\" \"],\"target_seq2\": [\" \"],\"distance\": [\" \"]}\n",
    "Cluster = pd.DataFrame()\n",
    "Cluster"
   ],
   "metadata": {
    "collapsed": false,
    "pycharm": {
     "name": "#%%\n"
    }
   }
  },
  {
   "cell_type": "code",
   "execution_count": 88,
   "outputs": [
    {
     "data": {
      "text/plain": "19"
     },
     "execution_count": 88,
     "metadata": {},
     "output_type": "execute_result"
    }
   ],
   "source": [
    "len(clus11.index)"
   ],
   "metadata": {
    "collapsed": false,
    "pycharm": {
     "name": "#%%\n"
    }
   }
  },
  {
   "cell_type": "code",
   "execution_count": 89,
   "outputs": [],
   "source": [
    "for i in range (0,len(clus11.index)):\n",
    "    df_filter = df_distances[(df_distances.id_seq1==\"sequence_40826\") & (df_distances.id_seq2 == clus11.iloc[i][0])]\n",
    "    Cluster = pd.concat([Cluster,df_filter])"
   ],
   "metadata": {
    "collapsed": false,
    "pycharm": {
     "name": "#%%\n"
    }
   }
  },
  {
   "cell_type": "code",
   "execution_count": 90,
   "outputs": [
    {
     "data": {
      "text/plain": "           id_seq1  target_seq1         id_seq2  target_seq2     distance\n34  sequence_40826          539  sequence_40861          464  7309.721905\n31  sequence_40826          539  sequence_40846          483  4152.870211\n23  sequence_40826          539  sequence_40831          525  6828.304285\n32  sequence_40826          539  sequence_40791          454  6972.266199\n27  sequence_40826          539  sequence_40847          486  7195.984154\n33  sequence_40826          539  sequence_40793          456  7098.608087\n26  sequence_40826          539  sequence_40851          477  3614.141968\n40  sequence_40826          539  sequence_40850          462  7605.884716\n24  sequence_40826          539  sequence_40856          498  7751.443277\n22  sequence_40826          539  sequence_40829          528  4478.090099\n38  sequence_40826          539  sequence_40848          461  7445.436381\n37  sequence_40826          539  sequence_40853          463  7181.594732\n25  sequence_40826          539  sequence_40815          498  7200.115380\n35  sequence_40826          539  sequence_40812          464  7034.034343\n39  sequence_40826          539  sequence_40849          464  7100.706102\n29  sequence_40826          539  sequence_40852          474  6975.035138\n28  sequence_40826          539  sequence_40858          495  7518.131677\n36  sequence_40826          539  sequence_40854          465  7372.931621\n30  sequence_40826          539  sequence_40843          495  7206.749962",
      "text/html": "<div>\n<style scoped>\n    .dataframe tbody tr th:only-of-type {\n        vertical-align: middle;\n    }\n\n    .dataframe tbody tr th {\n        vertical-align: top;\n    }\n\n    .dataframe thead th {\n        text-align: right;\n    }\n</style>\n<table border=\"1\" class=\"dataframe\">\n  <thead>\n    <tr style=\"text-align: right;\">\n      <th></th>\n      <th>id_seq1</th>\n      <th>target_seq1</th>\n      <th>id_seq2</th>\n      <th>target_seq2</th>\n      <th>distance</th>\n    </tr>\n  </thead>\n  <tbody>\n    <tr>\n      <th>34</th>\n      <td>sequence_40826</td>\n      <td>539</td>\n      <td>sequence_40861</td>\n      <td>464</td>\n      <td>7309.721905</td>\n    </tr>\n    <tr>\n      <th>31</th>\n      <td>sequence_40826</td>\n      <td>539</td>\n      <td>sequence_40846</td>\n      <td>483</td>\n      <td>4152.870211</td>\n    </tr>\n    <tr>\n      <th>23</th>\n      <td>sequence_40826</td>\n      <td>539</td>\n      <td>sequence_40831</td>\n      <td>525</td>\n      <td>6828.304285</td>\n    </tr>\n    <tr>\n      <th>32</th>\n      <td>sequence_40826</td>\n      <td>539</td>\n      <td>sequence_40791</td>\n      <td>454</td>\n      <td>6972.266199</td>\n    </tr>\n    <tr>\n      <th>27</th>\n      <td>sequence_40826</td>\n      <td>539</td>\n      <td>sequence_40847</td>\n      <td>486</td>\n      <td>7195.984154</td>\n    </tr>\n    <tr>\n      <th>33</th>\n      <td>sequence_40826</td>\n      <td>539</td>\n      <td>sequence_40793</td>\n      <td>456</td>\n      <td>7098.608087</td>\n    </tr>\n    <tr>\n      <th>26</th>\n      <td>sequence_40826</td>\n      <td>539</td>\n      <td>sequence_40851</td>\n      <td>477</td>\n      <td>3614.141968</td>\n    </tr>\n    <tr>\n      <th>40</th>\n      <td>sequence_40826</td>\n      <td>539</td>\n      <td>sequence_40850</td>\n      <td>462</td>\n      <td>7605.884716</td>\n    </tr>\n    <tr>\n      <th>24</th>\n      <td>sequence_40826</td>\n      <td>539</td>\n      <td>sequence_40856</td>\n      <td>498</td>\n      <td>7751.443277</td>\n    </tr>\n    <tr>\n      <th>22</th>\n      <td>sequence_40826</td>\n      <td>539</td>\n      <td>sequence_40829</td>\n      <td>528</td>\n      <td>4478.090099</td>\n    </tr>\n    <tr>\n      <th>38</th>\n      <td>sequence_40826</td>\n      <td>539</td>\n      <td>sequence_40848</td>\n      <td>461</td>\n      <td>7445.436381</td>\n    </tr>\n    <tr>\n      <th>37</th>\n      <td>sequence_40826</td>\n      <td>539</td>\n      <td>sequence_40853</td>\n      <td>463</td>\n      <td>7181.594732</td>\n    </tr>\n    <tr>\n      <th>25</th>\n      <td>sequence_40826</td>\n      <td>539</td>\n      <td>sequence_40815</td>\n      <td>498</td>\n      <td>7200.115380</td>\n    </tr>\n    <tr>\n      <th>35</th>\n      <td>sequence_40826</td>\n      <td>539</td>\n      <td>sequence_40812</td>\n      <td>464</td>\n      <td>7034.034343</td>\n    </tr>\n    <tr>\n      <th>39</th>\n      <td>sequence_40826</td>\n      <td>539</td>\n      <td>sequence_40849</td>\n      <td>464</td>\n      <td>7100.706102</td>\n    </tr>\n    <tr>\n      <th>29</th>\n      <td>sequence_40826</td>\n      <td>539</td>\n      <td>sequence_40852</td>\n      <td>474</td>\n      <td>6975.035138</td>\n    </tr>\n    <tr>\n      <th>28</th>\n      <td>sequence_40826</td>\n      <td>539</td>\n      <td>sequence_40858</td>\n      <td>495</td>\n      <td>7518.131677</td>\n    </tr>\n    <tr>\n      <th>36</th>\n      <td>sequence_40826</td>\n      <td>539</td>\n      <td>sequence_40854</td>\n      <td>465</td>\n      <td>7372.931621</td>\n    </tr>\n    <tr>\n      <th>30</th>\n      <td>sequence_40826</td>\n      <td>539</td>\n      <td>sequence_40843</td>\n      <td>495</td>\n      <td>7206.749962</td>\n    </tr>\n  </tbody>\n</table>\n</div>"
     },
     "execution_count": 90,
     "metadata": {},
     "output_type": "execute_result"
    }
   ],
   "source": [
    "Cluster"
   ],
   "metadata": {
    "collapsed": false,
    "pycharm": {
     "name": "#%%\n"
    }
   }
  },
  {
   "cell_type": "code",
   "execution_count": 91,
   "outputs": [],
   "source": [
    "Cluster.to_csv(\"../../results_demo/absorption/FFT/Group_0/Minkowski/clusters/cluster1-1.csv\")"
   ],
   "metadata": {
    "collapsed": false,
    "pycharm": {
     "name": "#%%\n"
    }
   }
  },
  {
   "cell_type": "code",
   "execution_count": null,
   "outputs": [],
   "source": [],
   "metadata": {
    "collapsed": false,
    "pycharm": {
     "name": "#%%\n"
    }
   }
  }
 ],
 "metadata": {
  "kernelspec": {
   "display_name": "Python 3",
   "language": "python",
   "name": "python3"
  },
  "language_info": {
   "codemirror_mode": {
    "name": "ipython",
    "version": 2
   },
   "file_extension": ".py",
   "mimetype": "text/x-python",
   "name": "python",
   "nbconvert_exporter": "python",
   "pygments_lexer": "ipython2",
   "version": "2.7.6"
  }
 },
 "nbformat": 4,
 "nbformat_minor": 0
}
