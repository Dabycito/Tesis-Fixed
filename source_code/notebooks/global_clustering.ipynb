{
 "cells": [
  {
   "cell_type": "code",
   "execution_count": 79,
   "metadata": {
    "collapsed": true,
    "pycharm": {
     "name": "#%%\n"
    }
   },
   "outputs": [],
   "source": [
    "import pandas as pd"
   ]
  },
  {
   "cell_type": "code",
   "execution_count": 83,
   "outputs": [],
   "source": [
    "df = pd.read_csv(\"../../results_demo/absorption/NLP/bepler/Euclidean/generated_profiles.csv\")\n",
    "df_distances = pd.read_csv(\"../../results_demo/absorption/NLP/bepler/Euclidean/distance_estimator.csv\")"
   ],
   "metadata": {
    "collapsed": false,
    "pycharm": {
     "name": "#%%\n"
    }
   }
  },
  {
   "cell_type": "code",
   "execution_count": 86,
   "outputs": [
    {
     "data": {
      "text/plain": "array(['1-1-1-0', '1-1-1-1', '1-0-0-0', '0-2-2-0', '0-0-0-0', '0-2-2-2',\n       '0-2-0-0'], dtype=object)"
     },
     "execution_count": 86,
     "metadata": {},
     "output_type": "execute_result"
    }
   ],
   "source": [
    "profiles = df.profile.unique()\n",
    "Clust = pd.DataFrame()\n",
    "native_profile = df[df[\"id\"] == \"sequence_40826\"].profile\n",
    "native_profile = native_profile.iloc[0]\n",
    "df_final = pd.DataFrame(columns=[\"perfil\",\"seq_amount\",\"target_plus\", \"target_minus\",\"is_native\"])\n",
    "df_aux = pd.DataFrame(columns=[\"perfil\",\"seq_amount\",\"target_plus\", \"target_minus\",\"is_native\"])\n",
    "max = 0\n",
    "min = 0\n",
    "profiles"
   ],
   "metadata": {
    "collapsed": false,
    "pycharm": {
     "name": "#%%\n"
    }
   }
  },
  {
   "cell_type": "code",
   "execution_count": 85,
   "outputs": [],
   "source": [
    "for i in range(0,len(profiles)):\n",
    "    df_f = (df[\"profile\"] == profiles[i])\n",
    "    clust_aux = df[df_f]\n",
    "    Cluster = pd.DataFrame()\n",
    "    for j in range(0,len(clust_aux.index)):\n",
    "        df_filter = df_distances[(df_distances.id_seq1==\"sequence_40826\") & (df_distances.id_seq2 == clust_aux.iloc[j][0])]\n",
    "        Cluster = pd.concat([Cluster,df_filter])\n",
    "        '''print(\"Para j=\"+str(j)+\"los valores son:\")\n",
    "        print(df_filter[\"target_seq1\"].values[0])\n",
    "        print(df_filter[\"target_seq2\"].values[0])\n",
    "        if df_filter[\"target_seq2\"].values[0] > df_filter[\"target_seq1\"].values[0]:\n",
    "            max = max+1\n",
    "        elif df_filter[\"target_seq2\"].values[0] < df_filter[\"target_seq1\"].values[0]:\n",
    "            min = min+1\n",
    "    dff = Cluster[Cluster['target_seq2'].index > \"539\"]\n",
    "    dff.count()\n",
    "    if profiles[i] == native_profile:\n",
    "        nat = True\n",
    "    elif profiles[i] != native_profile:\n",
    "        nat = False\n",
    "    df_aux[\"perfil\"]=[\"\"+profiles[i]+\"\"]\n",
    "    df_aux[\"seq_amount\"]=[\"\"+str(len(clust_aux.index))+\"\"]\n",
    "    df_aux[\"target_plus\"]=[\"\"+str(max)+\"\"]\n",
    "    df_aux[\"target_minis\"]=[\"\"+str(min)+\"\"]\n",
    "    df_aux[\"is_native\"]=[\"\"+str(nat)+\"\"]\n",
    "'''\n",
    "    Cluster.to_csv(\"../../results_demo/absorption/NLP/bepler/Euclidean/clusters/cluster\"+profiles[i]+\".csv\")\n",
    "    '''df_final = pd.concat([df_final,df_aux])\n",
    "df_final.to_csv(\"../../results_demo/absorption/FFT/Group_0/Euclidean/clusters/cluster_list.csv\")'''\n"
   ],
   "metadata": {
    "collapsed": false,
    "pycharm": {
     "name": "#%%\n"
    }
   }
  },
  {
   "cell_type": "code",
   "execution_count": 73,
   "outputs": [
    {
     "ename": "SyntaxError",
     "evalue": "invalid syntax (3882653871.py, line 1)",
     "output_type": "error",
     "traceback": [
      "\u001B[1;36m  Cell \u001B[1;32mIn [73], line 1\u001B[1;36m\u001B[0m\n\u001B[1;33m    for g in range(0,len())\u001B[0m\n\u001B[1;37m                           ^\u001B[0m\n\u001B[1;31mSyntaxError\u001B[0m\u001B[1;31m:\u001B[0m invalid syntax\n"
     ]
    }
   ],
   "source": [
    "for g in range(0,len())"
   ],
   "metadata": {
    "collapsed": false,
    "pycharm": {
     "name": "#%%\n"
    }
   }
  },
  {
   "cell_type": "code",
   "execution_count": 73,
   "outputs": [],
   "source": [],
   "metadata": {
    "collapsed": false,
    "pycharm": {
     "name": "#%%\n"
    }
   }
  },
  {
   "cell_type": "code",
   "execution_count": 21,
   "outputs": [
    {
     "data": {
      "text/plain": "  perfil Cantidad de secuencias Respuestas mayores que la nativa  \\\n0    1-0                    NaN                              NaN   \n\n  Respuestas menores que la nativa  \n0                              NaN  ",
      "text/html": "<div>\n<style scoped>\n    .dataframe tbody tr th:only-of-type {\n        vertical-align: middle;\n    }\n\n    .dataframe tbody tr th {\n        vertical-align: top;\n    }\n\n    .dataframe thead th {\n        text-align: right;\n    }\n</style>\n<table border=\"1\" class=\"dataframe\">\n  <thead>\n    <tr style=\"text-align: right;\">\n      <th></th>\n      <th>perfil</th>\n      <th>Cantidad de secuencias</th>\n      <th>Respuestas mayores que la nativa</th>\n      <th>Respuestas menores que la nativa</th>\n    </tr>\n  </thead>\n  <tbody>\n    <tr>\n      <th>0</th>\n      <td>1-0</td>\n      <td>NaN</td>\n      <td>NaN</td>\n      <td>NaN</td>\n    </tr>\n  </tbody>\n</table>\n</div>"
     },
     "execution_count": 21,
     "metadata": {},
     "output_type": "execute_result"
    }
   ],
   "source": [
    "df_final"
   ],
   "metadata": {
    "collapsed": false,
    "pycharm": {
     "name": "#%%\n"
    }
   }
  },
  {
   "cell_type": "code",
   "execution_count": null,
   "outputs": [],
   "source": [],
   "metadata": {
    "collapsed": false,
    "pycharm": {
     "name": "#%%\n"
    }
   }
  }
 ],
 "metadata": {
  "kernelspec": {
   "display_name": "Python 3",
   "language": "python",
   "name": "python3"
  },
  "language_info": {
   "codemirror_mode": {
    "name": "ipython",
    "version": 2
   },
   "file_extension": ".py",
   "mimetype": "text/x-python",
   "name": "python",
   "nbconvert_exporter": "python",
   "pygments_lexer": "ipython2",
   "version": "2.7.6"
  }
 },
 "nbformat": 4,
 "nbformat_minor": 0
}